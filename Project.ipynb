{
  "cells": [
    {
      "cell_type": "markdown",
      "metadata": {
        "id": "view-in-github",
        "colab_type": "text"
      },
      "source": [
        "<a href=\"https://colab.research.google.com/github/Ekaterina245/Alexnet/blob/main/Project.ipynb\" target=\"_parent\"><img src=\"https://colab.research.google.com/assets/colab-badge.svg\" alt=\"Open In Colab\"/></a>"
      ]
    },
    {
      "cell_type": "code",
      "execution_count": 1,
      "metadata": {
        "colab": {
          "base_uri": "https://localhost:8080/"
        },
        "id": "xmcBgMUfMt_A",
        "outputId": "8cb882d9-8873-40ef-ccf8-d898063fd360"
      },
      "outputs": [
        {
          "output_type": "stream",
          "name": "stdout",
          "text": [
            "Mounted at /content/drive\n"
          ]
        }
      ],
      "source": [
        "from google.colab import drive\n",
        "drive.mount('/content/drive', force_remount=True)"
      ]
    },
    {
      "cell_type": "code",
      "execution_count": 2,
      "metadata": {
        "id": "bDMB_0v9MyrY"
      },
      "outputs": [],
      "source": [
        "import pandas as pd\n",
        "import numpy as np\n",
        "\n",
        "import matplotlib\n",
        "import matplotlib.pyplot as plt\n",
        "matplotlib.style.use('ggplot')\n",
        "import math\n",
        "import seaborn as sns\n",
        "\n",
        "from sklearn.preprocessing import StandardScaler\n",
        "from sklearn.cluster import KMeans"
      ]
    },
    {
      "cell_type": "code",
      "execution_count": 3,
      "metadata": {
        "colab": {
          "base_uri": "https://localhost:8080/",
          "height": 424
        },
        "id": "s_I-GLlPM5P4",
        "outputId": "ad2af7c8-49e1-45cf-b534-4747b24d2e52"
      },
      "outputs": [
        {
          "output_type": "execute_result",
          "data": {
            "text/plain": [
              "          User_Id                                        Movie_Name  Rating  \\\n",
              "0               1                               Pulp Fiction (1994)     5.0   \n",
              "1               1  Three Colors: Red (Trois couleurs: Rouge) (1994)     3.5   \n",
              "2               1  Three Colors: Blue (Trois couleurs: Bleu) (1993)     5.0   \n",
              "3               1                                Underground (1995)     5.0   \n",
              "4               1                        Singin' in the Rain (1952)     3.5   \n",
              "...           ...                                               ...     ...   \n",
              "25000090   162541                                Ratatouille (2007)     4.5   \n",
              "25000091   162541                                  Bee Movie (2007)     2.5   \n",
              "25000092   162541                    Alvin and the Chipmunks (2007)     2.0   \n",
              "25000093   162541                           Dark Knight, The (2008)     4.0   \n",
              "25000094   162541                                       Milk (2008)     5.0   \n",
              "\n",
              "                                Genre  \n",
              "0         Comedy|Crime|Drama|Thriller  \n",
              "1                               Drama  \n",
              "2                               Drama  \n",
              "3                    Comedy|Drama|War  \n",
              "4              Comedy|Musical|Romance  \n",
              "...                               ...  \n",
              "25000090     Animation|Children|Drama  \n",
              "25000091             Animation|Comedy  \n",
              "25000092              Children|Comedy  \n",
              "25000093      Action|Crime|Drama|IMAX  \n",
              "25000094                        Drama  \n",
              "\n",
              "[25000095 rows x 4 columns]"
            ],
            "text/html": [
              "\n",
              "  <div id=\"df-d60ba399-bfa2-4579-aee4-efa5e9b2c9d6\">\n",
              "    <div class=\"colab-df-container\">\n",
              "      <div>\n",
              "<style scoped>\n",
              "    .dataframe tbody tr th:only-of-type {\n",
              "        vertical-align: middle;\n",
              "    }\n",
              "\n",
              "    .dataframe tbody tr th {\n",
              "        vertical-align: top;\n",
              "    }\n",
              "\n",
              "    .dataframe thead th {\n",
              "        text-align: right;\n",
              "    }\n",
              "</style>\n",
              "<table border=\"1\" class=\"dataframe\">\n",
              "  <thead>\n",
              "    <tr style=\"text-align: right;\">\n",
              "      <th></th>\n",
              "      <th>User_Id</th>\n",
              "      <th>Movie_Name</th>\n",
              "      <th>Rating</th>\n",
              "      <th>Genre</th>\n",
              "    </tr>\n",
              "  </thead>\n",
              "  <tbody>\n",
              "    <tr>\n",
              "      <th>0</th>\n",
              "      <td>1</td>\n",
              "      <td>Pulp Fiction (1994)</td>\n",
              "      <td>5.0</td>\n",
              "      <td>Comedy|Crime|Drama|Thriller</td>\n",
              "    </tr>\n",
              "    <tr>\n",
              "      <th>1</th>\n",
              "      <td>1</td>\n",
              "      <td>Three Colors: Red (Trois couleurs: Rouge) (1994)</td>\n",
              "      <td>3.5</td>\n",
              "      <td>Drama</td>\n",
              "    </tr>\n",
              "    <tr>\n",
              "      <th>2</th>\n",
              "      <td>1</td>\n",
              "      <td>Three Colors: Blue (Trois couleurs: Bleu) (1993)</td>\n",
              "      <td>5.0</td>\n",
              "      <td>Drama</td>\n",
              "    </tr>\n",
              "    <tr>\n",
              "      <th>3</th>\n",
              "      <td>1</td>\n",
              "      <td>Underground (1995)</td>\n",
              "      <td>5.0</td>\n",
              "      <td>Comedy|Drama|War</td>\n",
              "    </tr>\n",
              "    <tr>\n",
              "      <th>4</th>\n",
              "      <td>1</td>\n",
              "      <td>Singin' in the Rain (1952)</td>\n",
              "      <td>3.5</td>\n",
              "      <td>Comedy|Musical|Romance</td>\n",
              "    </tr>\n",
              "    <tr>\n",
              "      <th>...</th>\n",
              "      <td>...</td>\n",
              "      <td>...</td>\n",
              "      <td>...</td>\n",
              "      <td>...</td>\n",
              "    </tr>\n",
              "    <tr>\n",
              "      <th>25000090</th>\n",
              "      <td>162541</td>\n",
              "      <td>Ratatouille (2007)</td>\n",
              "      <td>4.5</td>\n",
              "      <td>Animation|Children|Drama</td>\n",
              "    </tr>\n",
              "    <tr>\n",
              "      <th>25000091</th>\n",
              "      <td>162541</td>\n",
              "      <td>Bee Movie (2007)</td>\n",
              "      <td>2.5</td>\n",
              "      <td>Animation|Comedy</td>\n",
              "    </tr>\n",
              "    <tr>\n",
              "      <th>25000092</th>\n",
              "      <td>162541</td>\n",
              "      <td>Alvin and the Chipmunks (2007)</td>\n",
              "      <td>2.0</td>\n",
              "      <td>Children|Comedy</td>\n",
              "    </tr>\n",
              "    <tr>\n",
              "      <th>25000093</th>\n",
              "      <td>162541</td>\n",
              "      <td>Dark Knight, The (2008)</td>\n",
              "      <td>4.0</td>\n",
              "      <td>Action|Crime|Drama|IMAX</td>\n",
              "    </tr>\n",
              "    <tr>\n",
              "      <th>25000094</th>\n",
              "      <td>162541</td>\n",
              "      <td>Milk (2008)</td>\n",
              "      <td>5.0</td>\n",
              "      <td>Drama</td>\n",
              "    </tr>\n",
              "  </tbody>\n",
              "</table>\n",
              "<p>25000095 rows × 4 columns</p>\n",
              "</div>\n",
              "      <button class=\"colab-df-convert\" onclick=\"convertToInteractive('df-d60ba399-bfa2-4579-aee4-efa5e9b2c9d6')\"\n",
              "              title=\"Convert this dataframe to an interactive table.\"\n",
              "              style=\"display:none;\">\n",
              "        \n",
              "  <svg xmlns=\"http://www.w3.org/2000/svg\" height=\"24px\"viewBox=\"0 0 24 24\"\n",
              "       width=\"24px\">\n",
              "    <path d=\"M0 0h24v24H0V0z\" fill=\"none\"/>\n",
              "    <path d=\"M18.56 5.44l.94 2.06.94-2.06 2.06-.94-2.06-.94-.94-2.06-.94 2.06-2.06.94zm-11 1L8.5 8.5l.94-2.06 2.06-.94-2.06-.94L8.5 2.5l-.94 2.06-2.06.94zm10 10l.94 2.06.94-2.06 2.06-.94-2.06-.94-.94-2.06-.94 2.06-2.06.94z\"/><path d=\"M17.41 7.96l-1.37-1.37c-.4-.4-.92-.59-1.43-.59-.52 0-1.04.2-1.43.59L10.3 9.45l-7.72 7.72c-.78.78-.78 2.05 0 2.83L4 21.41c.39.39.9.59 1.41.59.51 0 1.02-.2 1.41-.59l7.78-7.78 2.81-2.81c.8-.78.8-2.07 0-2.86zM5.41 20L4 18.59l7.72-7.72 1.47 1.35L5.41 20z\"/>\n",
              "  </svg>\n",
              "      </button>\n",
              "      \n",
              "  <style>\n",
              "    .colab-df-container {\n",
              "      display:flex;\n",
              "      flex-wrap:wrap;\n",
              "      gap: 12px;\n",
              "    }\n",
              "\n",
              "    .colab-df-convert {\n",
              "      background-color: #E8F0FE;\n",
              "      border: none;\n",
              "      border-radius: 50%;\n",
              "      cursor: pointer;\n",
              "      display: none;\n",
              "      fill: #1967D2;\n",
              "      height: 32px;\n",
              "      padding: 0 0 0 0;\n",
              "      width: 32px;\n",
              "    }\n",
              "\n",
              "    .colab-df-convert:hover {\n",
              "      background-color: #E2EBFA;\n",
              "      box-shadow: 0px 1px 2px rgba(60, 64, 67, 0.3), 0px 1px 3px 1px rgba(60, 64, 67, 0.15);\n",
              "      fill: #174EA6;\n",
              "    }\n",
              "\n",
              "    [theme=dark] .colab-df-convert {\n",
              "      background-color: #3B4455;\n",
              "      fill: #D2E3FC;\n",
              "    }\n",
              "\n",
              "    [theme=dark] .colab-df-convert:hover {\n",
              "      background-color: #434B5C;\n",
              "      box-shadow: 0px 1px 3px 1px rgba(0, 0, 0, 0.15);\n",
              "      filter: drop-shadow(0px 1px 2px rgba(0, 0, 0, 0.3));\n",
              "      fill: #FFFFFF;\n",
              "    }\n",
              "  </style>\n",
              "\n",
              "      <script>\n",
              "        const buttonEl =\n",
              "          document.querySelector('#df-d60ba399-bfa2-4579-aee4-efa5e9b2c9d6 button.colab-df-convert');\n",
              "        buttonEl.style.display =\n",
              "          google.colab.kernel.accessAllowed ? 'block' : 'none';\n",
              "\n",
              "        async function convertToInteractive(key) {\n",
              "          const element = document.querySelector('#df-d60ba399-bfa2-4579-aee4-efa5e9b2c9d6');\n",
              "          const dataTable =\n",
              "            await google.colab.kernel.invokeFunction('convertToInteractive',\n",
              "                                                     [key], {});\n",
              "          if (!dataTable) return;\n",
              "\n",
              "          const docLinkHtml = 'Like what you see? Visit the ' +\n",
              "            '<a target=\"_blank\" href=https://colab.research.google.com/notebooks/data_table.ipynb>data table notebook</a>'\n",
              "            + ' to learn more about interactive tables.';\n",
              "          element.innerHTML = '';\n",
              "          dataTable['output_type'] = 'display_data';\n",
              "          await google.colab.output.renderOutput(dataTable, element);\n",
              "          const docLink = document.createElement('div');\n",
              "          docLink.innerHTML = docLinkHtml;\n",
              "          element.appendChild(docLink);\n",
              "        }\n",
              "      </script>\n",
              "    </div>\n",
              "  </div>\n",
              "  "
            ]
          },
          "metadata": {},
          "execution_count": 3
        }
      ],
      "source": [
        "df = pd.read_csv(\"/content/drive/MyDrive/Statistika/movies_dataset_1.csv\", delimiter=',', index_col='Unnamed: 0')\n",
        "df"
      ]
    },
    {
      "cell_type": "code",
      "execution_count": 4,
      "metadata": {
        "colab": {
          "base_uri": "https://localhost:8080/"
        },
        "id": "_MZyi-WzctRp",
        "outputId": "822ef4c2-4d2c-4efe-9c77-128f90e097a5"
      },
      "outputs": [
        {
          "output_type": "execute_result",
          "data": {
            "text/plain": [
              "Index(['User_Id', 'Movie_Name', 'Rating', 'Genre'], dtype='object')"
            ]
          },
          "metadata": {},
          "execution_count": 4
        }
      ],
      "source": [
        "df.columns"
      ]
    },
    {
      "cell_type": "markdown",
      "metadata": {
        "id": "Jq3GV80nextB"
      },
      "source": [
        "Таблица для определенного пользователя"
      ]
    },
    {
      "cell_type": "code",
      "execution_count": 5,
      "metadata": {
        "colab": {
          "base_uri": "https://localhost:8080/",
          "height": 424
        },
        "id": "YaEKYwmGc_7J",
        "outputId": "e5f8fc92-d144-436b-f020-802ae1df5d96"
      },
      "outputs": [
        {
          "output_type": "execute_result",
          "data": {
            "text/plain": [
              "    User_Id                                         Movie_Name  Rating  \\\n",
              "0         1                                Pulp Fiction (1994)     5.0   \n",
              "1         1   Three Colors: Red (Trois couleurs: Rouge) (1994)     3.5   \n",
              "2         1   Three Colors: Blue (Trois couleurs: Bleu) (1993)     5.0   \n",
              "3         1                                 Underground (1995)     5.0   \n",
              "4         1                         Singin' in the Rain (1952)     3.5   \n",
              "..      ...                                                ...     ...   \n",
              "65        1                                      Taxi 2 (2000)     3.0   \n",
              "66        1                                        2046 (2004)     4.5   \n",
              "67        1  Very Long Engagement, A (Un long dimanche de f...     3.0   \n",
              "68        1                                         5x2 (2004)     3.5   \n",
              "69        1                Look at Me (Comme une image) (2004)     5.0   \n",
              "\n",
              "                           Genre  \n",
              "0    Comedy|Crime|Drama|Thriller  \n",
              "1                          Drama  \n",
              "2                          Drama  \n",
              "3               Comedy|Drama|War  \n",
              "4         Comedy|Musical|Romance  \n",
              "..                           ...  \n",
              "65                 Action|Comedy  \n",
              "66  Drama|Fantasy|Romance|Sci-Fi  \n",
              "67     Drama|Mystery|Romance|War  \n",
              "68                 Drama|Romance  \n",
              "69          Comedy|Drama|Romance  \n",
              "\n",
              "[70 rows x 4 columns]"
            ],
            "text/html": [
              "\n",
              "  <div id=\"df-22b66cf4-70fd-49ab-a95e-663727064646\">\n",
              "    <div class=\"colab-df-container\">\n",
              "      <div>\n",
              "<style scoped>\n",
              "    .dataframe tbody tr th:only-of-type {\n",
              "        vertical-align: middle;\n",
              "    }\n",
              "\n",
              "    .dataframe tbody tr th {\n",
              "        vertical-align: top;\n",
              "    }\n",
              "\n",
              "    .dataframe thead th {\n",
              "        text-align: right;\n",
              "    }\n",
              "</style>\n",
              "<table border=\"1\" class=\"dataframe\">\n",
              "  <thead>\n",
              "    <tr style=\"text-align: right;\">\n",
              "      <th></th>\n",
              "      <th>User_Id</th>\n",
              "      <th>Movie_Name</th>\n",
              "      <th>Rating</th>\n",
              "      <th>Genre</th>\n",
              "    </tr>\n",
              "  </thead>\n",
              "  <tbody>\n",
              "    <tr>\n",
              "      <th>0</th>\n",
              "      <td>1</td>\n",
              "      <td>Pulp Fiction (1994)</td>\n",
              "      <td>5.0</td>\n",
              "      <td>Comedy|Crime|Drama|Thriller</td>\n",
              "    </tr>\n",
              "    <tr>\n",
              "      <th>1</th>\n",
              "      <td>1</td>\n",
              "      <td>Three Colors: Red (Trois couleurs: Rouge) (1994)</td>\n",
              "      <td>3.5</td>\n",
              "      <td>Drama</td>\n",
              "    </tr>\n",
              "    <tr>\n",
              "      <th>2</th>\n",
              "      <td>1</td>\n",
              "      <td>Three Colors: Blue (Trois couleurs: Bleu) (1993)</td>\n",
              "      <td>5.0</td>\n",
              "      <td>Drama</td>\n",
              "    </tr>\n",
              "    <tr>\n",
              "      <th>3</th>\n",
              "      <td>1</td>\n",
              "      <td>Underground (1995)</td>\n",
              "      <td>5.0</td>\n",
              "      <td>Comedy|Drama|War</td>\n",
              "    </tr>\n",
              "    <tr>\n",
              "      <th>4</th>\n",
              "      <td>1</td>\n",
              "      <td>Singin' in the Rain (1952)</td>\n",
              "      <td>3.5</td>\n",
              "      <td>Comedy|Musical|Romance</td>\n",
              "    </tr>\n",
              "    <tr>\n",
              "      <th>...</th>\n",
              "      <td>...</td>\n",
              "      <td>...</td>\n",
              "      <td>...</td>\n",
              "      <td>...</td>\n",
              "    </tr>\n",
              "    <tr>\n",
              "      <th>65</th>\n",
              "      <td>1</td>\n",
              "      <td>Taxi 2 (2000)</td>\n",
              "      <td>3.0</td>\n",
              "      <td>Action|Comedy</td>\n",
              "    </tr>\n",
              "    <tr>\n",
              "      <th>66</th>\n",
              "      <td>1</td>\n",
              "      <td>2046 (2004)</td>\n",
              "      <td>4.5</td>\n",
              "      <td>Drama|Fantasy|Romance|Sci-Fi</td>\n",
              "    </tr>\n",
              "    <tr>\n",
              "      <th>67</th>\n",
              "      <td>1</td>\n",
              "      <td>Very Long Engagement, A (Un long dimanche de f...</td>\n",
              "      <td>3.0</td>\n",
              "      <td>Drama|Mystery|Romance|War</td>\n",
              "    </tr>\n",
              "    <tr>\n",
              "      <th>68</th>\n",
              "      <td>1</td>\n",
              "      <td>5x2 (2004)</td>\n",
              "      <td>3.5</td>\n",
              "      <td>Drama|Romance</td>\n",
              "    </tr>\n",
              "    <tr>\n",
              "      <th>69</th>\n",
              "      <td>1</td>\n",
              "      <td>Look at Me (Comme une image) (2004)</td>\n",
              "      <td>5.0</td>\n",
              "      <td>Comedy|Drama|Romance</td>\n",
              "    </tr>\n",
              "  </tbody>\n",
              "</table>\n",
              "<p>70 rows × 4 columns</p>\n",
              "</div>\n",
              "      <button class=\"colab-df-convert\" onclick=\"convertToInteractive('df-22b66cf4-70fd-49ab-a95e-663727064646')\"\n",
              "              title=\"Convert this dataframe to an interactive table.\"\n",
              "              style=\"display:none;\">\n",
              "        \n",
              "  <svg xmlns=\"http://www.w3.org/2000/svg\" height=\"24px\"viewBox=\"0 0 24 24\"\n",
              "       width=\"24px\">\n",
              "    <path d=\"M0 0h24v24H0V0z\" fill=\"none\"/>\n",
              "    <path d=\"M18.56 5.44l.94 2.06.94-2.06 2.06-.94-2.06-.94-.94-2.06-.94 2.06-2.06.94zm-11 1L8.5 8.5l.94-2.06 2.06-.94-2.06-.94L8.5 2.5l-.94 2.06-2.06.94zm10 10l.94 2.06.94-2.06 2.06-.94-2.06-.94-.94-2.06-.94 2.06-2.06.94z\"/><path d=\"M17.41 7.96l-1.37-1.37c-.4-.4-.92-.59-1.43-.59-.52 0-1.04.2-1.43.59L10.3 9.45l-7.72 7.72c-.78.78-.78 2.05 0 2.83L4 21.41c.39.39.9.59 1.41.59.51 0 1.02-.2 1.41-.59l7.78-7.78 2.81-2.81c.8-.78.8-2.07 0-2.86zM5.41 20L4 18.59l7.72-7.72 1.47 1.35L5.41 20z\"/>\n",
              "  </svg>\n",
              "      </button>\n",
              "      \n",
              "  <style>\n",
              "    .colab-df-container {\n",
              "      display:flex;\n",
              "      flex-wrap:wrap;\n",
              "      gap: 12px;\n",
              "    }\n",
              "\n",
              "    .colab-df-convert {\n",
              "      background-color: #E8F0FE;\n",
              "      border: none;\n",
              "      border-radius: 50%;\n",
              "      cursor: pointer;\n",
              "      display: none;\n",
              "      fill: #1967D2;\n",
              "      height: 32px;\n",
              "      padding: 0 0 0 0;\n",
              "      width: 32px;\n",
              "    }\n",
              "\n",
              "    .colab-df-convert:hover {\n",
              "      background-color: #E2EBFA;\n",
              "      box-shadow: 0px 1px 2px rgba(60, 64, 67, 0.3), 0px 1px 3px 1px rgba(60, 64, 67, 0.15);\n",
              "      fill: #174EA6;\n",
              "    }\n",
              "\n",
              "    [theme=dark] .colab-df-convert {\n",
              "      background-color: #3B4455;\n",
              "      fill: #D2E3FC;\n",
              "    }\n",
              "\n",
              "    [theme=dark] .colab-df-convert:hover {\n",
              "      background-color: #434B5C;\n",
              "      box-shadow: 0px 1px 3px 1px rgba(0, 0, 0, 0.15);\n",
              "      filter: drop-shadow(0px 1px 2px rgba(0, 0, 0, 0.3));\n",
              "      fill: #FFFFFF;\n",
              "    }\n",
              "  </style>\n",
              "\n",
              "      <script>\n",
              "        const buttonEl =\n",
              "          document.querySelector('#df-22b66cf4-70fd-49ab-a95e-663727064646 button.colab-df-convert');\n",
              "        buttonEl.style.display =\n",
              "          google.colab.kernel.accessAllowed ? 'block' : 'none';\n",
              "\n",
              "        async function convertToInteractive(key) {\n",
              "          const element = document.querySelector('#df-22b66cf4-70fd-49ab-a95e-663727064646');\n",
              "          const dataTable =\n",
              "            await google.colab.kernel.invokeFunction('convertToInteractive',\n",
              "                                                     [key], {});\n",
              "          if (!dataTable) return;\n",
              "\n",
              "          const docLinkHtml = 'Like what you see? Visit the ' +\n",
              "            '<a target=\"_blank\" href=https://colab.research.google.com/notebooks/data_table.ipynb>data table notebook</a>'\n",
              "            + ' to learn more about interactive tables.';\n",
              "          element.innerHTML = '';\n",
              "          dataTable['output_type'] = 'display_data';\n",
              "          await google.colab.output.renderOutput(dataTable, element);\n",
              "          const docLink = document.createElement('div');\n",
              "          docLink.innerHTML = docLinkHtml;\n",
              "          element.appendChild(docLink);\n",
              "        }\n",
              "      </script>\n",
              "    </div>\n",
              "  </div>\n",
              "  "
            ]
          },
          "metadata": {},
          "execution_count": 5
        }
      ],
      "source": [
        "df_for_1 = df.loc[df['User_Id']. isin([1])]\n",
        "df_for_1"
      ]
    },
    {
      "cell_type": "code",
      "execution_count": 6,
      "metadata": {
        "colab": {
          "base_uri": "https://localhost:8080/"
        },
        "id": "XOySVzYdYEvQ",
        "outputId": "0af68eba-8c6f-42bb-9102-2fb2499fe35c"
      },
      "outputs": [
        {
          "output_type": "execute_result",
          "data": {
            "text/plain": [
              "array([5. , 3.5, 5. , 5. , 3.5, 4. , 3.5, 3.5, 5. , 4. , 3.5, 4. , 2.5,\n",
              "       2.5, 2.5, 3.5, 4.5, 4. , 5. , 5. , 4.5, 4. , 5. , 5. , 5. , 3. ,\n",
              "       5. , 3. , 4. , 4.5, 4. , 0.5, 2. , 5. , 4. , 3. , 4. , 5. , 4.5,\n",
              "       4. , 3.5, 5. , 3.5, 4. , 4.5, 2. , 3.5, 3.5, 5. , 4. , 2.5, 3. ,\n",
              "       2.5, 2.5, 4.5, 3.5, 5. , 5. , 4. , 3.5, 1. , 3.5, 4. , 3. , 4. ,\n",
              "       3. , 4.5, 3. , 3.5, 5. ])"
            ]
          },
          "metadata": {},
          "execution_count": 6
        }
      ],
      "source": [
        "#Массив из всех оценок одного пользователя\n",
        "y=pd.DataFrame(df_for_1['Rating']).values.ravel()\n",
        "y"
      ]
    },
    {
      "cell_type": "code",
      "execution_count": null,
      "metadata": {
        "id": "O7meOzUma7b_"
      },
      "outputs": [],
      "source": [
        "sorted(y)"
      ]
    },
    {
      "cell_type": "code",
      "execution_count": 8,
      "metadata": {
        "colab": {
          "base_uri": "https://localhost:8080/"
        },
        "id": "-DeBHggFcBhf",
        "outputId": "e3196b63-b1c3-4af8-bd2c-fcc7b3d5f0be"
      },
      "outputs": [
        {
          "output_type": "execute_result",
          "data": {
            "text/plain": [
              "4.0"
            ]
          },
          "metadata": {},
          "execution_count": 8
        }
      ],
      "source": [
        "#Медианное значение рейтинга\n",
        "np.median(y)"
      ]
    },
    {
      "cell_type": "code",
      "execution_count": 9,
      "metadata": {
        "colab": {
          "base_uri": "https://localhost:8080/"
        },
        "id": "KG2SuGsZhEwA",
        "outputId": "9678d1df-355b-4fe2-a9fe-bbc244b597b5"
      },
      "outputs": [
        {
          "output_type": "execute_result",
          "data": {
            "text/plain": [
              "3.8142857142857145"
            ]
          },
          "metadata": {},
          "execution_count": 9
        }
      ],
      "source": [
        "#Среднее значение рейтинга\n",
        "np.mean(y)"
      ]
    },
    {
      "cell_type": "code",
      "execution_count": 10,
      "metadata": {
        "colab": {
          "base_uri": "https://localhost:8080/",
          "height": 685
        },
        "id": "OGPVB1KAhK-n",
        "outputId": "2d2ce6f0-4216-4978-bf40-ea76bbfdbc6e"
      },
      "outputs": [
        {
          "output_type": "stream",
          "name": "stderr",
          "text": [
            "<ipython-input-10-b2d76035089b>:5: UserWarning: \n",
            "\n",
            "`distplot` is a deprecated function and will be removed in seaborn v0.14.0.\n",
            "\n",
            "Please adapt your code to use either `displot` (a figure-level function with\n",
            "similar flexibility) or `histplot` (an axes-level function for histograms).\n",
            "\n",
            "For a guide to updating your code to use the new functions, please see\n",
            "https://gist.github.com/mwaskom/de44147ed2974457ad6372750bbe5751\n",
            "\n",
            "  sns.distplot(y, hist=True, kde=False,\n"
          ]
        },
        {
          "output_type": "execute_result",
          "data": {
            "text/plain": [
              "Text(0, 0.5, 'Quantity')"
            ]
          },
          "metadata": {},
          "execution_count": 10
        },
        {
          "output_type": "display_data",
          "data": {
            "text/plain": [
              "<Figure size 640x480 with 1 Axes>"
            ],
            "image/png": "[encoded data removed]"
          },
          "metadata": {}
        }
      ],
      "source": [
        "# Гистограмма частоты оценок\n",
        "plt.hist(y, color = 'blue', edgecolor = 'black',\n",
        "         bins = int(100/5))\n",
        "\n",
        "sns.distplot(y, hist=True, kde=False, \n",
        "             bins=int(100/5), color = 'blue',\n",
        "             hist_kws={'edgecolor':'black'})\n",
        "# Labels\n",
        "plt.title('Histogram of rating')\n",
        "plt.xlabel('Rating')\n",
        "plt.ylabel('Quantity')\n"
      ]
    },
    {
      "cell_type": "markdown",
      "metadata": {
        "id": "zECwzPZiqWY2"
      },
      "source": [
        "Медианное значение рейтинга для первых 100 пользователей"
      ]
    },
    {
      "cell_type": "code",
      "execution_count": 11,
      "metadata": {
        "id": "ZJR8vgS6pr_K"
      },
      "outputs": [],
      "source": [
        "med = [0]*100"
      ]
    },
    {
      "cell_type": "code",
      "execution_count": 12,
      "metadata": {
        "id": "vvGidi-koRG8"
      },
      "outputs": [],
      "source": [
        "for i in range (1,100):\n",
        "  df_for_100 = df.loc[df['User_Id']. isin([i])]\n",
        "  y=pd.DataFrame(df_for_100['Rating']).values.ravel()\n",
        "  med[i] = np.median(y)"
      ]
    },
    {
      "cell_type": "code",
      "execution_count": 13,
      "metadata": {
        "colab": {
          "base_uri": "https://localhost:8080/"
        },
        "id": "HPMLqbBboW_C",
        "outputId": "478387d9-d060-4fbe-f4f1-d992839c2bf2"
      },
      "outputs": [
        {
          "output_type": "execute_result",
          "data": {
            "text/plain": [
              "100"
            ]
          },
          "metadata": {},
          "execution_count": 13
        }
      ],
      "source": [
        "len(med)"
      ]
    },
    {
      "cell_type": "code",
      "execution_count": 14,
      "metadata": {
        "colab": {
          "base_uri": "https://localhost:8080/",
          "height": 447
        },
        "id": "XoSBbW7Rqj4E",
        "outputId": "428c92a5-7224-4214-9060-e23f596f1214"
      },
      "outputs": [
        {
          "output_type": "execute_result",
          "data": {
            "text/plain": [
              "<matplotlib.patches.StepPatch at 0x7f6ddfd6c1f0>"
            ]
          },
          "metadata": {},
          "execution_count": 14
        },
        {
          "output_type": "display_data",
          "data": {
            "text/plain": [
              "<Figure size 640x480 with 1 Axes>"
            ],
            "image/png": "[encoded data removed]"
          },
          "metadata": {}
        }
      ],
      "source": [
        "#Гистограмма медианных значений рейтинга первых 100 пользователей\n",
        "counts, bins = np.histogram(med)\n",
        "plt.stairs(counts, bins)"
      ]
    },
    {
      "cell_type": "code",
      "execution_count": 15,
      "metadata": {
        "colab": {
          "base_uri": "https://localhost:8080/"
        },
        "id": "48YZRE9koZc6",
        "outputId": "d4828c87-d5e9-465c-c5e4-45b8293991d6"
      },
      "outputs": [
        {
          "output_type": "execute_result",
          "data": {
            "text/plain": [
              "4.0"
            ]
          },
          "metadata": {},
          "execution_count": 15
        }
      ],
      "source": [
        "np.median(sorted(med))"
      ]
    },
    {
      "cell_type": "code",
      "execution_count": 16,
      "metadata": {
        "colab": {
          "base_uri": "https://localhost:8080/"
        },
        "id": "_5ziTxFgqlsm",
        "outputId": "08b35f6c-3af0-4099-d06e-b5d2b6c178c6"
      },
      "outputs": [
        {
          "output_type": "execute_result",
          "data": {
            "text/plain": [
              "3.885"
            ]
          },
          "metadata": {},
          "execution_count": 16
        }
      ],
      "source": [
        "np.mean(med)"
      ]
    },
    {
      "cell_type": "markdown",
      "metadata": {
        "id": "auWJ2QmYuB-k"
      },
      "source": [
        "Разделение жанров фильмов"
      ]
    },
    {
      "cell_type": "code",
      "execution_count": 17,
      "metadata": {
        "colab": {
          "base_uri": "https://localhost:8080/"
        },
        "id": "RDejbzRIEmLn",
        "outputId": "0decf254-c31f-4112-ec5d-5d1e3355518f"
      },
      "outputs": [
        {
          "output_type": "stream",
          "name": "stdout",
          "text": [
            "    User_Id                                         Movie_Name  Rating  \\\n",
            "0         1                                Pulp Fiction (1994)     5.0   \n",
            "1         1   Three Colors: Red (Trois couleurs: Rouge) (1994)     3.5   \n",
            "2         1   Three Colors: Blue (Trois couleurs: Bleu) (1993)     5.0   \n",
            "3         1                                 Underground (1995)     5.0   \n",
            "4         1                         Singin' in the Rain (1952)     3.5   \n",
            "..      ...                                                ...     ...   \n",
            "65        1                                      Taxi 2 (2000)     3.0   \n",
            "66        1                                        2046 (2004)     4.5   \n",
            "67        1  Very Long Engagement, A (Un long dimanche de f...     3.0   \n",
            "68        1                                         5x2 (2004)     3.5   \n",
            "69        1                Look at Me (Comme une image) (2004)     5.0   \n",
            "\n",
            "    Action  Adventure  Animation  Children  Comedy  Crime  Documentary  ...  \\\n",
            "0        0          0          0         0       1      1            0  ...   \n",
            "1        0          0          0         0       0      0            0  ...   \n",
            "2        0          0          0         0       0      0            0  ...   \n",
            "3        0          0          0         0       1      0            0  ...   \n",
            "4        0          0          0         0       1      0            0  ...   \n",
            "..     ...        ...        ...       ...     ...    ...          ...  ...   \n",
            "65       1          0          0         0       1      0            0  ...   \n",
            "66       0          0          0         0       0      0            0  ...   \n",
            "67       0          0          0         0       0      0            0  ...   \n",
            "68       0          0          0         0       0      0            0  ...   \n",
            "69       0          0          0         0       1      0            0  ...   \n",
            "\n",
            "    Fantasy  Film-Noir  Horror  Musical  Mystery  Romance  Sci-Fi  Thriller  \\\n",
            "0         0          0       0        0        0        0       0         1   \n",
            "1         0          0       0        0        0        0       0         0   \n",
            "2         0          0       0        0        0        0       0         0   \n",
            "3         0          0       0        0        0        0       0         0   \n",
            "4         0          0       0        1        0        1       0         0   \n",
            "..      ...        ...     ...      ...      ...      ...     ...       ...   \n",
            "65        0          0       0        0        0        0       0         0   \n",
            "66        1          0       0        0        0        1       1         0   \n",
            "67        0          0       0        0        1        1       0         0   \n",
            "68        0          0       0        0        0        1       0         0   \n",
            "69        0          0       0        0        0        1       0         0   \n",
            "\n",
            "    War  Western  \n",
            "0     0        0  \n",
            "1     0        0  \n",
            "2     0        0  \n",
            "3     1        0  \n",
            "4     0        0  \n",
            "..  ...      ...  \n",
            "65    0        0  \n",
            "66    0        0  \n",
            "67    1        0  \n",
            "68    0        0  \n",
            "69    0        0  \n",
            "\n",
            "[70 rows x 21 columns]\n"
          ]
        },
        {
          "output_type": "stream",
          "name": "stderr",
          "text": [
            "<ipython-input-17-6ef07fe891ad>:1: SettingWithCopyWarning: \n",
            "A value is trying to be set on a copy of a slice from a DataFrame.\n",
            "Try using .loc[row_indexer,col_indexer] = value instead\n",
            "\n",
            "See the caveats in the documentation: https://pandas.pydata.org/pandas-docs/stable/user_guide/indexing.html#returning-a-view-versus-a-copy\n",
            "  df_for_1['Genre'] = df_for_1['Genre'].str.split('|')\n",
            "<ipython-input-17-6ef07fe891ad>:2: FutureWarning: Using the level keyword in DataFrame and Series aggregations is deprecated and will be removed in a future version. Use groupby instead. df.sum(level=1) should use df.groupby(level=1).sum().\n",
            "  dfx = pd.get_dummies(pd.DataFrame(df_for_1['Genre'].tolist()).stack()).sum(level=0)\n"
          ]
        }
      ],
      "source": [
        "df_for_1['Genre'] = df_for_1['Genre'].str.split('|')\n",
        "dfx = pd.get_dummies(pd.DataFrame(df_for_1['Genre'].tolist()).stack()).sum(level=0)\n",
        "df_for_1 = pd.concat([df_for_1, dfx], axis=1).drop(columns=['Genre'])\n",
        "print(df_for_1)"
      ]
    },
    {
      "cell_type": "code",
      "execution_count": 18,
      "metadata": {
        "colab": {
          "base_uri": "https://localhost:8080/"
        },
        "id": "VMfoW6BPGDZR",
        "outputId": "d4a9c766-7cc3-461a-95b1-56f0daa1230d"
      },
      "outputs": [
        {
          "output_type": "execute_result",
          "data": {
            "text/plain": [
              "Index(['User_Id', 'Movie_Name', 'Rating', 'Action', 'Adventure', 'Animation',\n",
              "       'Children', 'Comedy', 'Crime', 'Documentary', 'Drama', 'Fantasy',\n",
              "       'Film-Noir', 'Horror', 'Musical', 'Mystery', 'Romance', 'Sci-Fi',\n",
              "       'Thriller', 'War', 'Western'],\n",
              "      dtype='object')"
            ]
          },
          "metadata": {},
          "execution_count": 18
        }
      ],
      "source": [
        "df_for_1.columns"
      ]
    },
    {
      "cell_type": "markdown",
      "metadata": {
        "id": "rdOdNnyolno5"
      },
      "source": [
        "Подсчёт среднего значения для одной категории"
      ]
    },
    {
      "cell_type": "code",
      "execution_count": 19,
      "metadata": {
        "colab": {
          "base_uri": "https://localhost:8080/"
        },
        "id": "xfj2QpB5aoHO",
        "outputId": "1571008c-e0e3-4ff4-a202-492dc8425897"
      },
      "outputs": [
        {
          "output_type": "execute_result",
          "data": {
            "text/plain": [
              "array([0, 0, 0, 0, 0, 0, 0, 0, 0, 0, 0, 0, 0, 1, 0, 0, 0, 0, 0, 0, 0, 0,\n",
              "       0, 0, 0, 0, 0, 0, 0, 0, 0, 0, 0, 0, 0, 0, 0, 0, 0, 0, 0, 0, 0, 0,\n",
              "       0, 0, 0, 0, 0, 0, 0, 0, 0, 0, 0, 0, 0, 0, 0, 0, 0, 0, 0, 0, 0, 0,\n",
              "       0, 0, 0, 0], dtype=uint8)"
            ]
          },
          "metadata": {},
          "execution_count": 19
        }
      ],
      "source": [
        "DR = pd.DataFrame(df_for_1['Western']).values.ravel()\n",
        "DR"
      ]
    },
    {
      "cell_type": "code",
      "execution_count": 20,
      "metadata": {
        "colab": {
          "base_uri": "https://localhost:8080/"
        },
        "id": "ql7LlphbGTGs",
        "outputId": "45518521-bf7a-451e-ed71-9f2cf0762f5a"
      },
      "outputs": [
        {
          "output_type": "stream",
          "name": "stdout",
          "text": [
            "Original list 1 : [5.  3.5 5.  5.  3.5 4.  3.5 3.5 5.  4.  3.5 4.  2.5 2.5 2.5 3.5 4.5 4.\n",
            " 5.  5.  4.5 4.  5.  5.  5.  3.  5.  3.  4.  4.5 4.  0.5 2.  5.  4.  3.\n",
            " 4.  5.  4.5 4.  3.5 5.  3.5 4.  4.5 2.  3.5 3.5 5.  4.  2.5 3.  2.5 2.5\n",
            " 4.5 3.5 5.  5.  4.  3.5 1.  3.5 4.  3.  4.  3.  4.5 3.  3.5 5. ]\n"
          ]
        },
        {
          "output_type": "execute_result",
          "data": {
            "text/plain": [
              "70"
            ]
          },
          "metadata": {},
          "execution_count": 20
        }
      ],
      "source": [
        "Rat = pd.DataFrame(df_for_1['Rating']).values.ravel()\n",
        "print (\"Original list 1 : \" + str(Rat))\n",
        "len(Rat)"
      ]
    },
    {
      "cell_type": "code",
      "execution_count": 21,
      "metadata": {
        "colab": {
          "base_uri": "https://localhost:8080/"
        },
        "id": "LdFt9a5AVDT-",
        "outputId": "2c3d12de-25ec-4d47-924f-1aa15cb1baf1"
      },
      "outputs": [
        {
          "output_type": "stream",
          "name": "stdout",
          "text": [
            "Resultant list is : [0.0, 0.0, 0.0, 0.0, 0.0, 0.0, 0.0, 0.0, 0.0, 0.0, 0.0, 0.0, 0.0, 2.5, 0.0, 0.0, 0.0, 0.0, 0.0, 0.0, 0.0, 0.0, 0.0, 0.0, 0.0, 0.0, 0.0, 0.0, 0.0, 0.0, 0.0, 0.0, 0.0, 0.0, 0.0, 0.0, 0.0, 0.0, 0.0, 0.0, 0.0, 0.0, 0.0, 0.0, 0.0, 0.0, 0.0, 0.0, 0.0, 0.0, 0.0, 0.0, 0.0, 0.0, 0.0, 0.0, 0.0, 0.0, 0.0, 0.0, 0.0, 0.0, 0.0, 0.0, 0.0, 0.0, 0.0, 0.0, 0.0, 0.0]\n"
          ]
        },
        {
          "output_type": "execute_result",
          "data": {
            "text/plain": [
              "70"
            ]
          },
          "metadata": {},
          "execution_count": 21
        }
      ],
      "source": [
        "res_list = []\n",
        "for i in range(0, len(DR)):\n",
        "    res_list.append(DR[i] * Rat[i])\n",
        "print (\"Resultant list is : \" + str(res_list))\n",
        "len(res_list)"
      ]
    },
    {
      "cell_type": "code",
      "execution_count": 22,
      "metadata": {
        "colab": {
          "base_uri": "https://localhost:8080/"
        },
        "id": "2D2PbgmfH1F9",
        "outputId": "49fe7142-fb62-4291-fb81-79aa5cd0a5e2"
      },
      "outputs": [
        {
          "output_type": "execute_result",
          "data": {
            "text/plain": [
              "2.5"
            ]
          },
          "metadata": {},
          "execution_count": 22
        }
      ],
      "source": [
        "sr_cat = sum(res_list)/sum(DR)\n",
        "sr_cat"
      ]
    },
    {
      "cell_type": "markdown",
      "metadata": {
        "id": "kuqk90kDlvQh"
      },
      "source": [
        "Подсчет средних значений для всех категорий"
      ]
    },
    {
      "cell_type": "code",
      "execution_count": 23,
      "metadata": {
        "id": "f07NF-asQVUy"
      },
      "outputs": [],
      "source": [
        "list1 = ['Action', 'Adventure', 'Animation',\n",
        "       'Children', 'Comedy', 'Crime', 'Documentary', 'Drama', 'Fantasy',\n",
        "       'Film-Noir', 'Horror', 'Musical', 'Mystery', 'Romance', 'Sci-Fi',\n",
        "       'Thriller', 'War', 'Western']"
      ]
    },
    {
      "cell_type": "code",
      "execution_count": 24,
      "metadata": {
        "id": "NOUylcvdQYoN"
      },
      "outputs": [],
      "source": [
        "# Цикл считает средний рейтинг за каждую категорию фильма\n",
        "sr_cat_vse = []\n",
        "sum_kolva_film = []\n",
        "for column in list1:\n",
        "  DR = pd.DataFrame(df_for_1[column]).values.ravel()\n",
        "  res_list = []\n",
        "  for j in range(0, len(Rat)):\n",
        "    res_list.append(DR[j] * Rat[j])\n",
        "  sum_kolva_film.append(sum(DR))\n",
        "  sr_cat_vse.append(sum(res_list)/sum(DR))"
      ]
    },
    {
      "cell_type": "code",
      "execution_count": null,
      "metadata": {
        "id": "tzxHSdj7RQ_E"
      },
      "outputs": [],
      "source": [
        "sr_cat_vse"
      ]
    },
    {
      "cell_type": "code",
      "execution_count": 26,
      "metadata": {
        "colab": {
          "base_uri": "https://localhost:8080/"
        },
        "id": "hi-RDAHXtCxm",
        "outputId": "dd70912f-c3fe-4667-db64-f277e7dff29a"
      },
      "outputs": [
        {
          "output_type": "execute_result",
          "data": {
            "text/plain": [
              "[4, 11, 2, 3, 23, 8, 1, 53, 5, 1, 1, 5, 4, 18, 5, 5, 5, 1]"
            ]
          },
          "metadata": {},
          "execution_count": 26
        }
      ],
      "source": [
        "# Количество фильмов в каждой категории\n",
        "sum_kolva_film"
      ]
    },
    {
      "cell_type": "code",
      "execution_count": 27,
      "metadata": {
        "colab": {
          "base_uri": "https://localhost:8080/"
        },
        "id": "rMplCpXefTIB",
        "outputId": "2da17edb-dc0a-48ef-f30b-138c1f68ecb4"
      },
      "outputs": [
        {
          "output_type": "stream",
          "name": "stdout",
          "text": [
            "Action: 4.125\n",
            "Adventure: 3.727272727272727\n",
            "Animation: 4.0\n",
            "Children: 3.8333333333333335\n",
            "Comedy: 3.869565217391304\n",
            "Crime: 4.0625\n",
            "Documentary: 2.0\n",
            "Drama: 3.8679245283018866\n",
            "Fantasy: 3.6\n",
            "Film-Noir: 3.5\n",
            "Horror: 3.5\n",
            "Musical: 3.7\n",
            "Mystery: 3.5\n",
            "Romance: 4.166666666666667\n",
            "Sci-Fi: 3.7\n",
            "Thriller: 4.3\n",
            "War: 3.9\n",
            "Western: 2.5\n"
          ]
        }
      ],
      "source": [
        "# Вывожу категорию и рейтинг \n",
        "for i in range(0, len(sr_cat_vse)):\n",
        "    print (list1[i] + ': ' + str(sr_cat_vse[i]))"
      ]
    },
    {
      "cell_type": "code",
      "execution_count": 28,
      "metadata": {
        "colab": {
          "base_uri": "https://localhost:8080/",
          "height": 477
        },
        "id": "HaqVVi2oocoT",
        "outputId": "7edfdc51-848a-4e40-bb94-8a03f2243172"
      },
      "outputs": [
        {
          "output_type": "display_data",
          "data": {
            "text/plain": [
              "<Figure size 640x480 with 1 Axes>"
            ],
            "image/png": "[encoded data removed]"
          },
          "metadata": {}
        }
      ],
      "source": [
        "# Столбчатая нагляднее, но не видно названий\n",
        "plt.bar(list1,sr_cat_vse,color = 'blue', width = 0.5)   \n",
        "plt.title('Result')   \n",
        "plt.xlabel('Names')   \n",
        "plt.ylabel('Marks')   \n",
        "plt.show()"
      ]
    },
    {
      "cell_type": "code",
      "execution_count": 29,
      "metadata": {
        "colab": {
          "base_uri": "https://localhost:8080/",
          "height": 1000
        },
        "id": "V92ANebNvM6r",
        "outputId": "f137f86b-d86a-46c0-87a5-1c8965705128"
      },
      "outputs": [
        {
          "output_type": "error",
          "ename": "ValueError",
          "evalue": "ignored",
          "traceback": [
            "\u001b[0;31m---------------------------------------------------------------------------\u001b[0m",
            "\u001b[0;31mValueError\u001b[0m                                Traceback (most recent call last)",
            "\u001b[0;32m<ipython-input-29-1f367c454d27>\u001b[0m in \u001b[0;36m<cell line: 12>\u001b[0;34m()\u001b[0m\n\u001b[1;32m     10\u001b[0m \u001b[0;34m\u001b[0m\u001b[0m\n\u001b[1;32m     11\u001b[0m \u001b[0;31m# Add x, y gridlines\u001b[0m\u001b[0;34m\u001b[0m\u001b[0;34m\u001b[0m\u001b[0m\n\u001b[0;32m---> 12\u001b[0;31m ax.grid(b = True, color ='grey',\n\u001b[0m\u001b[1;32m     13\u001b[0m         \u001b[0mlinestyle\u001b[0m \u001b[0;34m=\u001b[0m\u001b[0;34m'-.'\u001b[0m\u001b[0;34m,\u001b[0m \u001b[0mlinewidth\u001b[0m \u001b[0;34m=\u001b[0m \u001b[0;36m0.5\u001b[0m\u001b[0;34m,\u001b[0m\u001b[0;34m\u001b[0m\u001b[0;34m\u001b[0m\u001b[0m\n\u001b[1;32m     14\u001b[0m         alpha = 0.2)\n",
            "\u001b[0;32m/usr/local/lib/python3.10/dist-packages/matplotlib/axes/_base.py\u001b[0m in \u001b[0;36mgrid\u001b[0;34m(self, visible, which, axis, **kwargs)\u001b[0m\n\u001b[1;32m   3192\u001b[0m         \u001b[0m_api\u001b[0m\u001b[0;34m.\u001b[0m\u001b[0mcheck_in_list\u001b[0m\u001b[0;34m(\u001b[0m\u001b[0;34m[\u001b[0m\u001b[0;34m'x'\u001b[0m\u001b[0;34m,\u001b[0m \u001b[0;34m'y'\u001b[0m\u001b[0;34m,\u001b[0m \u001b[0;34m'both'\u001b[0m\u001b[0;34m]\u001b[0m\u001b[0;34m,\u001b[0m \u001b[0maxis\u001b[0m\u001b[0;34m=\u001b[0m\u001b[0maxis\u001b[0m\u001b[0;34m)\u001b[0m\u001b[0;34m\u001b[0m\u001b[0;34m\u001b[0m\u001b[0m\n\u001b[1;32m   3193\u001b[0m         \u001b[0;32mif\u001b[0m \u001b[0maxis\u001b[0m \u001b[0;32min\u001b[0m \u001b[0;34m[\u001b[0m\u001b[0;34m'x'\u001b[0m\u001b[0;34m,\u001b[0m \u001b[0;34m'both'\u001b[0m\u001b[0;34m]\u001b[0m\u001b[0;34m:\u001b[0m\u001b[0;34m\u001b[0m\u001b[0;34m\u001b[0m\u001b[0m\n\u001b[0;32m-> 3194\u001b[0;31m             \u001b[0mself\u001b[0m\u001b[0;34m.\u001b[0m\u001b[0mxaxis\u001b[0m\u001b[0;34m.\u001b[0m\u001b[0mgrid\u001b[0m\u001b[0;34m(\u001b[0m\u001b[0mvisible\u001b[0m\u001b[0;34m,\u001b[0m \u001b[0mwhich\u001b[0m\u001b[0;34m=\u001b[0m\u001b[0mwhich\u001b[0m\u001b[0;34m,\u001b[0m \u001b[0;34m**\u001b[0m\u001b[0mkwargs\u001b[0m\u001b[0;34m)\u001b[0m\u001b[0;34m\u001b[0m\u001b[0;34m\u001b[0m\u001b[0m\n\u001b[0m\u001b[1;32m   3195\u001b[0m         \u001b[0;32mif\u001b[0m \u001b[0maxis\u001b[0m \u001b[0;32min\u001b[0m \u001b[0;34m[\u001b[0m\u001b[0;34m'y'\u001b[0m\u001b[0;34m,\u001b[0m \u001b[0;34m'both'\u001b[0m\u001b[0;34m]\u001b[0m\u001b[0;34m:\u001b[0m\u001b[0;34m\u001b[0m\u001b[0;34m\u001b[0m\u001b[0m\n\u001b[1;32m   3196\u001b[0m             \u001b[0mself\u001b[0m\u001b[0;34m.\u001b[0m\u001b[0myaxis\u001b[0m\u001b[0;34m.\u001b[0m\u001b[0mgrid\u001b[0m\u001b[0;34m(\u001b[0m\u001b[0mvisible\u001b[0m\u001b[0;34m,\u001b[0m \u001b[0mwhich\u001b[0m\u001b[0;34m=\u001b[0m\u001b[0mwhich\u001b[0m\u001b[0;34m,\u001b[0m \u001b[0;34m**\u001b[0m\u001b[0mkwargs\u001b[0m\u001b[0;34m)\u001b[0m\u001b[0;34m\u001b[0m\u001b[0;34m\u001b[0m\u001b[0m\n",
            "\u001b[0;32m/usr/local/lib/python3.10/dist-packages/matplotlib/axis.py\u001b[0m in \u001b[0;36mgrid\u001b[0;34m(self, visible, which, **kwargs)\u001b[0m\n\u001b[1;32m   1658\u001b[0m             gridkw['gridOn'] = (not self._major_tick_kw['gridOn']\n\u001b[1;32m   1659\u001b[0m                                 if visible is None else visible)\n\u001b[0;32m-> 1660\u001b[0;31m             \u001b[0mself\u001b[0m\u001b[0;34m.\u001b[0m\u001b[0mset_tick_params\u001b[0m\u001b[0;34m(\u001b[0m\u001b[0mwhich\u001b[0m\u001b[0;34m=\u001b[0m\u001b[0;34m'major'\u001b[0m\u001b[0;34m,\u001b[0m \u001b[0;34m**\u001b[0m\u001b[0mgridkw\u001b[0m\u001b[0;34m)\u001b[0m\u001b[0;34m\u001b[0m\u001b[0;34m\u001b[0m\u001b[0m\n\u001b[0m\u001b[1;32m   1661\u001b[0m         \u001b[0mself\u001b[0m\u001b[0;34m.\u001b[0m\u001b[0mstale\u001b[0m \u001b[0;34m=\u001b[0m \u001b[0;32mTrue\u001b[0m\u001b[0;34m\u001b[0m\u001b[0;34m\u001b[0m\u001b[0m\n\u001b[1;32m   1662\u001b[0m \u001b[0;34m\u001b[0m\u001b[0m\n",
            "\u001b[0;32m/usr/local/lib/python3.10/dist-packages/matplotlib/axis.py\u001b[0m in \u001b[0;36mset_tick_params\u001b[0;34m(self, which, reset, **kwargs)\u001b[0m\n\u001b[1;32m    930\u001b[0m         \"\"\"\n\u001b[1;32m    931\u001b[0m         \u001b[0m_api\u001b[0m\u001b[0;34m.\u001b[0m\u001b[0mcheck_in_list\u001b[0m\u001b[0;34m(\u001b[0m\u001b[0;34m[\u001b[0m\u001b[0;34m'major'\u001b[0m\u001b[0;34m,\u001b[0m \u001b[0;34m'minor'\u001b[0m\u001b[0;34m,\u001b[0m \u001b[0;34m'both'\u001b[0m\u001b[0;34m]\u001b[0m\u001b[0;34m,\u001b[0m \u001b[0mwhich\u001b[0m\u001b[0;34m=\u001b[0m\u001b[0mwhich\u001b[0m\u001b[0;34m)\u001b[0m\u001b[0;34m\u001b[0m\u001b[0;34m\u001b[0m\u001b[0m\n\u001b[0;32m--> 932\u001b[0;31m         \u001b[0mkwtrans\u001b[0m \u001b[0;34m=\u001b[0m \u001b[0mself\u001b[0m\u001b[0;34m.\u001b[0m\u001b[0m_translate_tick_params\u001b[0m\u001b[0;34m(\u001b[0m\u001b[0mkwargs\u001b[0m\u001b[0;34m)\u001b[0m\u001b[0;34m\u001b[0m\u001b[0;34m\u001b[0m\u001b[0m\n\u001b[0m\u001b[1;32m    933\u001b[0m \u001b[0;34m\u001b[0m\u001b[0m\n\u001b[1;32m    934\u001b[0m         \u001b[0;31m# the kwargs are stored in self._major/minor_tick_kw so that any\u001b[0m\u001b[0;34m\u001b[0m\u001b[0;34m\u001b[0m\u001b[0m\n",
            "\u001b[0;32m/usr/local/lib/python3.10/dist-packages/matplotlib/axis.py\u001b[0m in \u001b[0;36m_translate_tick_params\u001b[0;34m(kw, reverse)\u001b[0m\n\u001b[1;32m   1074\u001b[0m         \u001b[0;32mfor\u001b[0m \u001b[0mkey\u001b[0m \u001b[0;32min\u001b[0m \u001b[0mkw_\u001b[0m\u001b[0;34m:\u001b[0m\u001b[0;34m\u001b[0m\u001b[0;34m\u001b[0m\u001b[0m\n\u001b[1;32m   1075\u001b[0m             \u001b[0;32mif\u001b[0m \u001b[0mkey\u001b[0m \u001b[0;32mnot\u001b[0m \u001b[0;32min\u001b[0m \u001b[0mallowed_keys\u001b[0m\u001b[0;34m:\u001b[0m\u001b[0;34m\u001b[0m\u001b[0;34m\u001b[0m\u001b[0m\n\u001b[0;32m-> 1076\u001b[0;31m                 raise ValueError(\n\u001b[0m\u001b[1;32m   1077\u001b[0m                     \u001b[0;34m\"keyword %s is not recognized; valid keywords are %s\"\u001b[0m\u001b[0;34m\u001b[0m\u001b[0;34m\u001b[0m\u001b[0m\n\u001b[1;32m   1078\u001b[0m                     % (key, allowed_keys))\n",
            "\u001b[0;31mValueError\u001b[0m: keyword grid_b is not recognized; valid keywords are ['size', 'width', 'color', 'tickdir', 'pad', 'labelsize', 'labelcolor', 'zorder', 'gridOn', 'tick1On', 'tick2On', 'label1On', 'label2On', 'length', 'direction', 'left', 'bottom', 'right', 'top', 'labelleft', 'labelbottom', 'labelright', 'labeltop', 'labelrotation', 'grid_agg_filter', 'grid_alpha', 'grid_animated', 'grid_antialiased', 'grid_clip_box', 'grid_clip_on', 'grid_clip_path', 'grid_color', 'grid_dash_capstyle', 'grid_dash_joinstyle', 'grid_dashes', 'grid_data', 'grid_drawstyle', 'grid_figure', 'grid_fillstyle', 'grid_gapcolor', 'grid_gid', 'grid_in_layout', 'grid_label', 'grid_linestyle', 'grid_linewidth', 'grid_marker', 'grid_markeredgecolor', 'grid_markeredgewidth', 'grid_markerfacecolor', 'grid_markerfacecoloralt', 'grid_markersize', 'grid_markevery', 'grid_mouseover', 'grid_path_effects', 'grid_picker', 'grid_pickradius', 'grid_rasterized', 'grid_sketch_params', 'grid_snap', 'grid_solid_capstyle', 'grid_solid_joinstyle', 'grid_transform', 'grid_url', 'grid_visible', 'grid_xdata', 'grid_ydata', 'grid_zorder', 'grid_aa', 'grid_c', 'grid_ds', 'grid_ls', 'grid_lw', 'grid_mec', 'grid_mew', 'grid_mfc', 'grid_mfcalt', 'grid_ms']"
          ]
        },
        {
          "output_type": "display_data",
          "data": {
            "text/plain": [
              "<Figure size 1600x900 with 1 Axes>"
            ],
            "image/png": "[encoded data removed]"
          },
          "metadata": {}
        }
      ],
      "source": [
        "fig, ax = plt.subplots(figsize =(16, 9))\n",
        "ax.barh(list1, sr_cat_vse)\n",
        "# Remove x, y Ticks\n",
        "ax.xaxis.set_ticks_position('none')\n",
        "ax.yaxis.set_ticks_position('none')\n",
        " \n",
        "# Add padding between axes and labels\n",
        "ax.xaxis.set_tick_params(pad = 5)\n",
        "ax.yaxis.set_tick_params(pad = 10)\n",
        " \n",
        "# Add x, y gridlines\n",
        "ax.grid(b = True, color ='grey',\n",
        "        linestyle ='-.', linewidth = 0.5,\n",
        "        alpha = 0.2)\n",
        " \n",
        "# Show top values\n",
        "ax.invert_yaxis()\n",
        " # Add annotation to bars\n",
        "for i in ax.patches:\n",
        "    plt.text(i.get_width()+0.2, i.get_y()+0.5,\n",
        "             str(round((i.get_width()), 2)),\n",
        "             fontsize = 10, fontweight ='bold',\n",
        "             color ='grey')\n",
        " \n",
        "# Add Plot Title\n",
        "ax.set_title('Sports car and their price in crore',\n",
        "             loc ='left', )\n",
        " \n",
        "# Add Text watermark\n",
        "fig.text(0.9, 0.15, 'Jeeteshgavande30', fontsize = 12,\n",
        "         color ='grey', ha ='right', va ='bottom',\n",
        "         alpha = 0.7)\n",
        " \n",
        "# Show Plot\n",
        "plt.show()"
      ]
    },
    {
      "cell_type": "code",
      "execution_count": 30,
      "metadata": {
        "colab": {
          "base_uri": "https://localhost:8080/"
        },
        "id": "Epk4cpNmpYzp",
        "outputId": "27782b2a-c20e-4f2f-b0fc-62d14405f5a0"
      },
      "outputs": [
        {
          "output_type": "execute_result",
          "data": {
            "text/plain": [
              "4.3"
            ]
          },
          "metadata": {},
          "execution_count": 30
        }
      ],
      "source": [
        "# Максимальное значение рейтинга\n",
        "# Может быть объединить это все в новую таблицу чтобы сразу выводилось\n",
        "max(sr_cat_vse)"
      ]
    },
    {
      "cell_type": "markdown",
      "metadata": {
        "id": "EEnKmgAfxl85"
      },
      "source": [
        "График, показывающий какой жанр у пользователя пребладает"
      ]
    },
    {
      "cell_type": "code",
      "execution_count": 31,
      "metadata": {
        "colab": {
          "base_uri": "https://localhost:8080/",
          "height": 418
        },
        "id": "1hIEgA5TsCMN",
        "outputId": "793b655c-cd1a-46cc-fd4c-5ac64b08ab23"
      },
      "outputs": [
        {
          "output_type": "display_data",
          "data": {
            "text/plain": [
              "<Figure size 640x480 with 1 Axes>"
            ],
            "image/png": "[encoded data removed]"
          },
          "metadata": {}
        }
      ],
      "source": [
        "explode =(0.1, 0, 0, 0, 0, 0, 0, 0, 0, 0, 0, 0, 0, 0, 0, 0, 0, 0)  \n",
        "   \n",
        "fig1, ax1 = plt.subplots()   \n",
        "ax1.pie(sum_kolva_film, explode=explode, labels=list1, autopct='%1.1f%%',   \n",
        "        shadow=True, startangle=90)   \n",
        "ax1.axis('equal')  \n",
        "   \n",
        "plt.show() \n",
        "\n",
        "# Опять ничего не видно\n",
        "# Нужно удалить фильмы, которые совссем мало встречаются, например, меньше 6 раз"
      ]
    },
    {
      "cell_type": "code",
      "execution_count": 32,
      "metadata": {
        "colab": {
          "base_uri": "https://localhost:8080/"
        },
        "id": "RzYwH3b6fjPS",
        "outputId": "4a17879c-e6e1-4cb2-8cee-736dcbdd7528"
      },
      "outputs": [
        {
          "output_type": "stream",
          "name": "stdout",
          "text": [
            "['Action', 'Adventure', 'Animation', 'Children', 'Comedy', 'Crime', 'Documentary', 'Drama', 'Fantasy', 'Film-Noir', 'Horror', 'Musical', 'Mystery', 'Romance', 'Sci-Fi', 'Thriller', 'War', 'Western']\n"
          ]
        },
        {
          "output_type": "execute_result",
          "data": {
            "text/plain": [
              "([4, 11, 2, 3, 23, 8, 1, 53, 5, 1, 1, 5, 4, 18, 5, 5, 5, 1], None)"
            ]
          },
          "metadata": {},
          "execution_count": 32
        }
      ],
      "source": [
        "sum_kolva_film, print(list1)"
      ]
    },
    {
      "cell_type": "code",
      "execution_count": 33,
      "metadata": {
        "id": "94z9iJFFr65L"
      },
      "outputs": [],
      "source": [
        "# Видимо лучше добавлять в новый массив, потому что не удаляются некоторые фильмы\n",
        "new_name = []\n",
        "new_kol = []\n",
        "# Удалить из массива количество <6 и соответсвующую категорию\n",
        "for i in range(0, len(sum_kolva_film)):\n",
        "    if sum_kolva_film[i] > 6:\n",
        "      new_name.append(list1[i])\n",
        "      new_kol.append(sum_kolva_film[i])"
      ]
    },
    {
      "cell_type": "code",
      "execution_count": 34,
      "metadata": {
        "colab": {
          "base_uri": "https://localhost:8080/"
        },
        "id": "7S4nDS4kgaPu",
        "outputId": "159bc791-90bb-45a4-9691-b5d217a9ed32"
      },
      "outputs": [
        {
          "output_type": "execute_result",
          "data": {
            "text/plain": [
              "(['Adventure', 'Comedy', 'Crime', 'Drama', 'Romance'], [11, 23, 8, 53, 18])"
            ]
          },
          "metadata": {},
          "execution_count": 34
        }
      ],
      "source": [
        "new_name, new_kol"
      ]
    },
    {
      "cell_type": "code",
      "execution_count": 35,
      "metadata": {
        "colab": {
          "base_uri": "https://localhost:8080/"
        },
        "id": "WZviMrfZt7j3",
        "outputId": "7f21d2d7-813f-40e3-9896-7f5e49bee4c1"
      },
      "outputs": [
        {
          "output_type": "execute_result",
          "data": {
            "text/plain": [
              "5"
            ]
          },
          "metadata": {},
          "execution_count": 35
        }
      ],
      "source": [
        "len(new_name)"
      ]
    },
    {
      "cell_type": "code",
      "execution_count": 36,
      "metadata": {
        "colab": {
          "base_uri": "https://localhost:8080/",
          "height": 406
        },
        "id": "d4QUaqCDtqGY",
        "outputId": "021dbfaa-dbe0-4953-80ad-b4aa362d674f"
      },
      "outputs": [
        {
          "output_type": "display_data",
          "data": {
            "text/plain": [
              "<Figure size 640x480 with 1 Axes>"
            ],
            "image/png": "[encoded data removed]"
          },
          "metadata": {}
        }
      ],
      "source": [
        "explode =(0.1, 0, 0, 0, 0)  \n",
        "   \n",
        "fig1, ax1 = plt.subplots()   \n",
        "ax1.pie(new_kol, explode=explode, labels=new_name, autopct='%1.1f%%',   \n",
        "        shadow=True, startangle=90)   \n",
        "ax1.axis('equal')  \n",
        "\n",
        "   \n",
        "plt.show() \n"
      ]
    },
    {
      "cell_type": "code",
      "execution_count": 37,
      "metadata": {
        "id": "MZhSDNVqVBRu"
      },
      "outputs": [],
      "source": [
        "list2 = ['Action', 'Adventure', 'Animation',\n",
        "       'Children', 'Comedy', 'Crime', 'Documentary', 'Drama', 'Fantasy',\n",
        "       'Film-Noir', 'Horror', 'Musical', 'Mystery', 'Romance', 'Sci-Fi',\n",
        "       'Thriller', 'War', 'Western']"
      ]
    },
    {
      "cell_type": "code",
      "execution_count": 38,
      "metadata": {
        "id": "FjYLQAqTVnNs"
      },
      "outputs": [],
      "source": [
        "sum_kolva_film2 = []\n",
        "for column in list1:\n",
        "  DR = pd.DataFrame(df_for_1[column]).values.ravel()\n",
        "  \n",
        "  sum_kolva_film2.append(sum(DR))"
      ]
    },
    {
      "cell_type": "code",
      "execution_count": 39,
      "metadata": {
        "colab": {
          "base_uri": "https://localhost:8080/"
        },
        "id": "VNtvHnznXhEd",
        "outputId": "f449f2d0-1cc8-4d6c-b2b1-4b6a45844ae6"
      },
      "outputs": [
        {
          "output_type": "execute_result",
          "data": {
            "text/plain": [
              "[4.125,\n",
              " 3.727272727272727,\n",
              " 4.0,\n",
              " 3.8333333333333335,\n",
              " 3.869565217391304,\n",
              " 4.0625,\n",
              " 2.0,\n",
              " 3.8679245283018866,\n",
              " 3.6,\n",
              " 3.5,\n",
              " 3.5,\n",
              " 3.7,\n",
              " 3.5,\n",
              " 4.166666666666667,\n",
              " 3.7,\n",
              " 4.3,\n",
              " 3.9,\n",
              " 2.5]"
            ]
          },
          "metadata": {},
          "execution_count": 39
        }
      ],
      "source": [
        "sr_cat_vse"
      ]
    },
    {
      "cell_type": "code",
      "execution_count": 40,
      "metadata": {
        "colab": {
          "base_uri": "https://localhost:8080/"
        },
        "id": "ZGDQrcUWV8il",
        "outputId": "e482ae6f-6e33-4b2f-8720-5ca2fd6a17b7"
      },
      "outputs": [
        {
          "output_type": "execute_result",
          "data": {
            "text/plain": [
              "[4, 11, 2, 3, 23, 8, 1, 53, 5, 1, 1, 5, 4, 18, 5, 5, 5, 1]"
            ]
          },
          "metadata": {},
          "execution_count": 40
        }
      ],
      "source": [
        "sum_kolva_film2"
      ]
    },
    {
      "cell_type": "code",
      "execution_count": 41,
      "metadata": {
        "id": "8cevTSxkt3nZ"
      },
      "outputs": [],
      "source": [
        "# Вывод фильмов у которых больший рейтинг\n",
        "new_name_2 = []\n",
        "new_kol_2 = []\n",
        "# Записать в новый массив только те фильмы, у которых рейтинг > 4\n",
        "for i in range(0, len(sr_cat_vse)):\n",
        "    if sr_cat_vse[i] > 4:\n",
        "      new_name_2.append(list2[i])\n",
        "      new_kol_2.append(sum_kolva_film2[i])"
      ]
    },
    {
      "cell_type": "code",
      "execution_count": 42,
      "metadata": {
        "colab": {
          "base_uri": "https://localhost:8080/"
        },
        "id": "H6qPmcq0Xncn",
        "outputId": "8a84e16e-bc02-4263-c8dc-253b4668411f"
      },
      "outputs": [
        {
          "output_type": "execute_result",
          "data": {
            "text/plain": [
              "[4, 8, 18, 5]"
            ]
          },
          "metadata": {},
          "execution_count": 42
        }
      ],
      "source": [
        "new_kol_2"
      ]
    },
    {
      "cell_type": "code",
      "execution_count": 43,
      "metadata": {
        "colab": {
          "base_uri": "https://localhost:8080/"
        },
        "id": "SWIgv1irXrdA",
        "outputId": "23708920-9aab-4098-9527-e057208f0bb3"
      },
      "outputs": [
        {
          "output_type": "execute_result",
          "data": {
            "text/plain": [
              "['Action', 'Crime', 'Romance', 'Thriller']"
            ]
          },
          "metadata": {},
          "execution_count": 43
        }
      ],
      "source": [
        "new_name_2"
      ]
    },
    {
      "cell_type": "code",
      "execution_count": 44,
      "metadata": {
        "colab": {
          "base_uri": "https://localhost:8080/"
        },
        "id": "aVEURnPLy3zk",
        "outputId": "14b1e24e-65f1-4445-98de-7ae8663416eb"
      },
      "outputs": [
        {
          "output_type": "execute_result",
          "data": {
            "text/plain": [
              "4"
            ]
          },
          "metadata": {},
          "execution_count": 44
        }
      ],
      "source": [
        "len(new_name_2)"
      ]
    },
    {
      "cell_type": "code",
      "execution_count": 45,
      "metadata": {
        "colab": {
          "base_uri": "https://localhost:8080/",
          "height": 406
        },
        "id": "sxUKP2OTy6bB",
        "outputId": "e4e5dd2f-1610-4d92-b234-ecfe24083ee4"
      },
      "outputs": [
        {
          "output_type": "display_data",
          "data": {
            "text/plain": [
              "<Figure size 640x480 with 1 Axes>"
            ],
            "image/png": "[encoded data removed]"
          },
          "metadata": {}
        }
      ],
      "source": [
        "explode =(0.1, 0, 0, 0)  \n",
        "   \n",
        "fig1, ax1 = plt.subplots()   \n",
        "ax1.pie(new_kol_2, explode=explode, labels=new_name_2, autopct='%1.1f%%',   \n",
        "        shadow=True, startangle=90)   \n",
        "ax1.axis('equal')  \n",
        "   \n",
        "plt.show() "
      ]
    },
    {
      "cell_type": "code",
      "execution_count": 46,
      "metadata": {
        "colab": {
          "base_uri": "https://localhost:8080/"
        },
        "id": "BTmrgk_UzA2b",
        "outputId": "4ec1b679-75cc-4cc3-fdef-3c099cf7aac2"
      },
      "outputs": [
        {
          "output_type": "stream",
          "name": "stdout",
          "text": [
            "Action: 4.125   Kolvo:4\n",
            "Adventure: 3.727272727272727   Kolvo:11\n",
            "Animation: 4.0   Kolvo:2\n",
            "Children: 3.8333333333333335   Kolvo:3\n",
            "Comedy: 3.869565217391304   Kolvo:23\n",
            "Crime: 4.0625   Kolvo:8\n",
            "Documentary: 2.0   Kolvo:1\n",
            "Drama: 3.8679245283018866   Kolvo:53\n",
            "Fantasy: 3.6   Kolvo:5\n",
            "Film-Noir: 3.5   Kolvo:1\n",
            "Horror: 3.5   Kolvo:1\n",
            "Musical: 3.7   Kolvo:5\n",
            "Mystery: 3.5   Kolvo:4\n",
            "Romance: 4.166666666666667   Kolvo:18\n",
            "Sci-Fi: 3.7   Kolvo:5\n",
            "Thriller: 4.3   Kolvo:5\n",
            "War: 3.9   Kolvo:5\n",
            "Western: 2.5   Kolvo:1\n"
          ]
        }
      ],
      "source": [
        "# Вывожу категорию и рейтинг \n",
        "for i in range(0, len(sr_cat_vse)):\n",
        "    print (list1[i] + ': ' + str(sr_cat_vse[i]) + '   Kolvo:' + str(sum_kolva_film[i]))"
      ]
    },
    {
      "cell_type": "markdown",
      "metadata": {
        "id": "55O6diqL1Sen"
      },
      "source": [
        "Обучение классификационной нейросети"
      ]
    },
    {
      "cell_type": "code",
      "execution_count": 47,
      "metadata": {
        "colab": {
          "base_uri": "https://localhost:8080/",
          "height": 424
        },
        "id": "xMgyszrw1a_Y",
        "outputId": "2a2172a7-ca00-4623-c4a6-34da7a454616"
      },
      "outputs": [
        {
          "output_type": "execute_result",
          "data": {
            "text/plain": [
              "      User_Id                                        Movie_Name  Rating  \\\n",
              "0           1                               Pulp Fiction (1994)     5.0   \n",
              "1           1  Three Colors: Red (Trois couleurs: Rouge) (1994)     3.5   \n",
              "2           1  Three Colors: Blue (Trois couleurs: Bleu) (1993)     5.0   \n",
              "3           1                                Underground (1995)     5.0   \n",
              "4           1                        Singin' in the Rain (1952)     3.5   \n",
              "...       ...                                               ...     ...   \n",
              "3995       23                           Jean de Florette (1986)     3.0   \n",
              "3996       23    Manon of the Spring (Manon des sources) (1986)     3.0   \n",
              "3997       23                         When We Were Kings (1996)     5.0   \n",
              "3998       23    Cinema Paradiso (Nuovo cinema Paradiso) (1989)     5.0   \n",
              "3999       23                       English Patient, The (1996)     5.0   \n",
              "\n",
              "                            Genre  \n",
              "0     Comedy|Crime|Drama|Thriller  \n",
              "1                           Drama  \n",
              "2                           Drama  \n",
              "3                Comedy|Drama|War  \n",
              "4          Comedy|Musical|Romance  \n",
              "...                           ...  \n",
              "3995                Drama|Mystery  \n",
              "3996                        Drama  \n",
              "3997                  Documentary  \n",
              "3998                        Drama  \n",
              "3999            Drama|Romance|War  \n",
              "\n",
              "[4000 rows x 4 columns]"
            ],
            "text/html": [
              "\n",
              "  <div id=\"df-7743eda8-68d5-40d9-ad98-c5f57ffa038b\">\n",
              "    <div class=\"colab-df-container\">\n",
              "      <div>\n",
              "<style scoped>\n",
              "    .dataframe tbody tr th:only-of-type {\n",
              "        vertical-align: middle;\n",
              "    }\n",
              "\n",
              "    .dataframe tbody tr th {\n",
              "        vertical-align: top;\n",
              "    }\n",
              "\n",
              "    .dataframe thead th {\n",
              "        text-align: right;\n",
              "    }\n",
              "</style>\n",
              "<table border=\"1\" class=\"dataframe\">\n",
              "  <thead>\n",
              "    <tr style=\"text-align: right;\">\n",
              "      <th></th>\n",
              "      <th>User_Id</th>\n",
              "      <th>Movie_Name</th>\n",
              "      <th>Rating</th>\n",
              "      <th>Genre</th>\n",
              "    </tr>\n",
              "  </thead>\n",
              "  <tbody>\n",
              "    <tr>\n",
              "      <th>0</th>\n",
              "      <td>1</td>\n",
              "      <td>Pulp Fiction (1994)</td>\n",
              "      <td>5.0</td>\n",
              "      <td>Comedy|Crime|Drama|Thriller</td>\n",
              "    </tr>\n",
              "    <tr>\n",
              "      <th>1</th>\n",
              "      <td>1</td>\n",
              "      <td>Three Colors: Red (Trois couleurs: Rouge) (1994)</td>\n",
              "      <td>3.5</td>\n",
              "      <td>Drama</td>\n",
              "    </tr>\n",
              "    <tr>\n",
              "      <th>2</th>\n",
              "      <td>1</td>\n",
              "      <td>Three Colors: Blue (Trois couleurs: Bleu) (1993)</td>\n",
              "      <td>5.0</td>\n",
              "      <td>Drama</td>\n",
              "    </tr>\n",
              "    <tr>\n",
              "      <th>3</th>\n",
              "      <td>1</td>\n",
              "      <td>Underground (1995)</td>\n",
              "      <td>5.0</td>\n",
              "      <td>Comedy|Drama|War</td>\n",
              "    </tr>\n",
              "    <tr>\n",
              "      <th>4</th>\n",
              "      <td>1</td>\n",
              "      <td>Singin' in the Rain (1952)</td>\n",
              "      <td>3.5</td>\n",
              "      <td>Comedy|Musical|Romance</td>\n",
              "    </tr>\n",
              "    <tr>\n",
              "      <th>...</th>\n",
              "      <td>...</td>\n",
              "      <td>...</td>\n",
              "      <td>...</td>\n",
              "      <td>...</td>\n",
              "    </tr>\n",
              "    <tr>\n",
              "      <th>3995</th>\n",
              "      <td>23</td>\n",
              "      <td>Jean de Florette (1986)</td>\n",
              "      <td>3.0</td>\n",
              "      <td>Drama|Mystery</td>\n",
              "    </tr>\n",
              "    <tr>\n",
              "      <th>3996</th>\n",
              "      <td>23</td>\n",
              "      <td>Manon of the Spring (Manon des sources) (1986)</td>\n",
              "      <td>3.0</td>\n",
              "      <td>Drama</td>\n",
              "    </tr>\n",
              "    <tr>\n",
              "      <th>3997</th>\n",
              "      <td>23</td>\n",
              "      <td>When We Were Kings (1996)</td>\n",
              "      <td>5.0</td>\n",
              "      <td>Documentary</td>\n",
              "    </tr>\n",
              "    <tr>\n",
              "      <th>3998</th>\n",
              "      <td>23</td>\n",
              "      <td>Cinema Paradiso (Nuovo cinema Paradiso) (1989)</td>\n",
              "      <td>5.0</td>\n",
              "      <td>Drama</td>\n",
              "    </tr>\n",
              "    <tr>\n",
              "      <th>3999</th>\n",
              "      <td>23</td>\n",
              "      <td>English Patient, The (1996)</td>\n",
              "      <td>5.0</td>\n",
              "      <td>Drama|Romance|War</td>\n",
              "    </tr>\n",
              "  </tbody>\n",
              "</table>\n",
              "<p>4000 rows × 4 columns</p>\n",
              "</div>\n",
              "      <button class=\"colab-df-convert\" onclick=\"convertToInteractive('df-7743eda8-68d5-40d9-ad98-c5f57ffa038b')\"\n",
              "              title=\"Convert this dataframe to an interactive table.\"\n",
              "              style=\"display:none;\">\n",
              "        \n",
              "  <svg xmlns=\"http://www.w3.org/2000/svg\" height=\"24px\"viewBox=\"0 0 24 24\"\n",
              "       width=\"24px\">\n",
              "    <path d=\"M0 0h24v24H0V0z\" fill=\"none\"/>\n",
              "    <path d=\"M18.56 5.44l.94 2.06.94-2.06 2.06-.94-2.06-.94-.94-2.06-.94 2.06-2.06.94zm-11 1L8.5 8.5l.94-2.06 2.06-.94-2.06-.94L8.5 2.5l-.94 2.06-2.06.94zm10 10l.94 2.06.94-2.06 2.06-.94-2.06-.94-.94-2.06-.94 2.06-2.06.94z\"/><path d=\"M17.41 7.96l-1.37-1.37c-.4-.4-.92-.59-1.43-.59-.52 0-1.04.2-1.43.59L10.3 9.45l-7.72 7.72c-.78.78-.78 2.05 0 2.83L4 21.41c.39.39.9.59 1.41.59.51 0 1.02-.2 1.41-.59l7.78-7.78 2.81-2.81c.8-.78.8-2.07 0-2.86zM5.41 20L4 18.59l7.72-7.72 1.47 1.35L5.41 20z\"/>\n",
              "  </svg>\n",
              "      </button>\n",
              "      \n",
              "  <style>\n",
              "    .colab-df-container {\n",
              "      display:flex;\n",
              "      flex-wrap:wrap;\n",
              "      gap: 12px;\n",
              "    }\n",
              "\n",
              "    .colab-df-convert {\n",
              "      background-color: #E8F0FE;\n",
              "      border: none;\n",
              "      border-radius: 50%;\n",
              "      cursor: pointer;\n",
              "      display: none;\n",
              "      fill: #1967D2;\n",
              "      height: 32px;\n",
              "      padding: 0 0 0 0;\n",
              "      width: 32px;\n",
              "    }\n",
              "\n",
              "    .colab-df-convert:hover {\n",
              "      background-color: #E2EBFA;\n",
              "      box-shadow: 0px 1px 2px rgba(60, 64, 67, 0.3), 0px 1px 3px 1px rgba(60, 64, 67, 0.15);\n",
              "      fill: #174EA6;\n",
              "    }\n",
              "\n",
              "    [theme=dark] .colab-df-convert {\n",
              "      background-color: #3B4455;\n",
              "      fill: #D2E3FC;\n",
              "    }\n",
              "\n",
              "    [theme=dark] .colab-df-convert:hover {\n",
              "      background-color: #434B5C;\n",
              "      box-shadow: 0px 1px 3px 1px rgba(0, 0, 0, 0.15);\n",
              "      filter: drop-shadow(0px 1px 2px rgba(0, 0, 0, 0.3));\n",
              "      fill: #FFFFFF;\n",
              "    }\n",
              "  </style>\n",
              "\n",
              "      <script>\n",
              "        const buttonEl =\n",
              "          document.querySelector('#df-7743eda8-68d5-40d9-ad98-c5f57ffa038b button.colab-df-convert');\n",
              "        buttonEl.style.display =\n",
              "          google.colab.kernel.accessAllowed ? 'block' : 'none';\n",
              "\n",
              "        async function convertToInteractive(key) {\n",
              "          const element = document.querySelector('#df-7743eda8-68d5-40d9-ad98-c5f57ffa038b');\n",
              "          const dataTable =\n",
              "            await google.colab.kernel.invokeFunction('convertToInteractive',\n",
              "                                                     [key], {});\n",
              "          if (!dataTable) return;\n",
              "\n",
              "          const docLinkHtml = 'Like what you see? Visit the ' +\n",
              "            '<a target=\"_blank\" href=https://colab.research.google.com/notebooks/data_table.ipynb>data table notebook</a>'\n",
              "            + ' to learn more about interactive tables.';\n",
              "          element.innerHTML = '';\n",
              "          dataTable['output_type'] = 'display_data';\n",
              "          await google.colab.output.renderOutput(dataTable, element);\n",
              "          const docLink = document.createElement('div');\n",
              "          docLink.innerHTML = docLinkHtml;\n",
              "          element.appendChild(docLink);\n",
              "        }\n",
              "      </script>\n",
              "    </div>\n",
              "  </div>\n",
              "  "
            ]
          },
          "metadata": {},
          "execution_count": 47
        }
      ],
      "source": [
        "df_min = df[:4000]\n",
        "df_min"
      ]
    },
    {
      "cell_type": "code",
      "execution_count": 48,
      "metadata": {
        "colab": {
          "base_uri": "https://localhost:8080/"
        },
        "id": "lvZsTTE2zegN",
        "outputId": "27ec2822-c9d2-4781-8fb7-c34c1e380b9d"
      },
      "outputs": [
        {
          "output_type": "stream",
          "name": "stdout",
          "text": [
            "      User_Id                                        Movie_Name  Rating  \\\n",
            "0           1                               Pulp Fiction (1994)     5.0   \n",
            "1           1  Three Colors: Red (Trois couleurs: Rouge) (1994)     3.5   \n",
            "2           1  Three Colors: Blue (Trois couleurs: Bleu) (1993)     5.0   \n",
            "3           1                                Underground (1995)     5.0   \n",
            "4           1                        Singin' in the Rain (1952)     3.5   \n",
            "...       ...                                               ...     ...   \n",
            "3995       23                           Jean de Florette (1986)     3.0   \n",
            "3996       23    Manon of the Spring (Manon des sources) (1986)     3.0   \n",
            "3997       23                         When We Were Kings (1996)     5.0   \n",
            "3998       23    Cinema Paradiso (Nuovo cinema Paradiso) (1989)     5.0   \n",
            "3999       23                       English Patient, The (1996)     5.0   \n",
            "\n",
            "      (no genres listed)  Action  Adventure  Animation  Children  Comedy  \\\n",
            "0                      0       0          0          0         0       1   \n",
            "1                      0       0          0          0         0       0   \n",
            "2                      0       0          0          0         0       0   \n",
            "3                      0       0          0          0         0       1   \n",
            "4                      0       0          0          0         0       1   \n",
            "...                  ...     ...        ...        ...       ...     ...   \n",
            "3995                   0       0          0          0         0       0   \n",
            "3996                   0       0          0          0         0       0   \n",
            "3997                   0       0          0          0         0       0   \n",
            "3998                   0       0          0          0         0       0   \n",
            "3999                   0       0          0          0         0       0   \n",
            "\n",
            "      Crime  ...  Film-Noir  Horror  IMAX  Musical  Mystery  Romance  Sci-Fi  \\\n",
            "0         1  ...          0       0     0        0        0        0       0   \n",
            "1         0  ...          0       0     0        0        0        0       0   \n",
            "2         0  ...          0       0     0        0        0        0       0   \n",
            "3         0  ...          0       0     0        0        0        0       0   \n",
            "4         0  ...          0       0     0        1        0        1       0   \n",
            "...     ...  ...        ...     ...   ...      ...      ...      ...     ...   \n",
            "3995      0  ...          0       0     0        0        1        0       0   \n",
            "3996      0  ...          0       0     0        0        0        0       0   \n",
            "3997      0  ...          0       0     0        0        0        0       0   \n",
            "3998      0  ...          0       0     0        0        0        0       0   \n",
            "3999      0  ...          0       0     0        0        0        1       0   \n",
            "\n",
            "      Thriller  War  Western  \n",
            "0            1    0        0  \n",
            "1            0    0        0  \n",
            "2            0    0        0  \n",
            "3            0    1        0  \n",
            "4            0    0        0  \n",
            "...        ...  ...      ...  \n",
            "3995         0    0        0  \n",
            "3996         0    0        0  \n",
            "3997         0    0        0  \n",
            "3998         0    0        0  \n",
            "3999         0    1        0  \n",
            "\n",
            "[4000 rows x 23 columns]\n"
          ]
        },
        {
          "output_type": "stream",
          "name": "stderr",
          "text": [
            "<ipython-input-48-7a68a95864b6>:1: SettingWithCopyWarning: \n",
            "A value is trying to be set on a copy of a slice from a DataFrame.\n",
            "Try using .loc[row_indexer,col_indexer] = value instead\n",
            "\n",
            "See the caveats in the documentation: https://pandas.pydata.org/pandas-docs/stable/user_guide/indexing.html#returning-a-view-versus-a-copy\n",
            "  df_min['Genre'] = df_min['Genre'].str.split('|')\n",
            "<ipython-input-48-7a68a95864b6>:2: FutureWarning: Using the level keyword in DataFrame and Series aggregations is deprecated and will be removed in a future version. Use groupby instead. df.sum(level=1) should use df.groupby(level=1).sum().\n",
            "  dfx = pd.get_dummies(pd.DataFrame(df_min['Genre'].tolist()).stack()).sum(level=0)\n"
          ]
        }
      ],
      "source": [
        "df_min['Genre'] = df_min['Genre'].str.split('|')\n",
        "dfx = pd.get_dummies(pd.DataFrame(df_min['Genre'].tolist()).stack()).sum(level=0)\n",
        "df_min = pd.concat([df_min, dfx], axis=1).drop(columns=['Genre'])\n",
        "print(df_min)"
      ]
    },
    {
      "cell_type": "code",
      "execution_count": null,
      "metadata": {
        "colab": {
          "base_uri": "https://localhost:8080/",
          "height": 505
        },
        "id": "5BRCcVse1srk",
        "outputId": "aad932ae-826d-4771-d992-c8c48b53f256"
      },
      "outputs": [
        {
          "data": {
            "text/html": [
              "\n",
              "  <div id=\"df-30507aa5-a1b4-4ab6-82f1-5d457b6ac25c\">\n",
              "    <div class=\"colab-df-container\">\n",
              "      <div>\n",
              "<style scoped>\n",
              "    .dataframe tbody tr th:only-of-type {\n",
              "        vertical-align: middle;\n",
              "    }\n",
              "\n",
              "    .dataframe tbody tr th {\n",
              "        vertical-align: top;\n",
              "    }\n",
              "\n",
              "    .dataframe thead th {\n",
              "        text-align: right;\n",
              "    }\n",
              "</style>\n",
              "<table border=\"1\" class=\"dataframe\">\n",
              "  <thead>\n",
              "    <tr style=\"text-align: right;\">\n",
              "      <th></th>\n",
              "      <th>User_Id</th>\n",
              "      <th>Action</th>\n",
              "      <th>Adventure</th>\n",
              "      <th>Animation</th>\n",
              "      <th>Children</th>\n",
              "      <th>Comedy</th>\n",
              "      <th>Crime</th>\n",
              "      <th>Documentary</th>\n",
              "      <th>Drama</th>\n",
              "      <th>Fantasy</th>\n",
              "      <th>Film-Noir</th>\n",
              "      <th>Horror</th>\n",
              "      <th>IMAX</th>\n",
              "      <th>Musical</th>\n",
              "      <th>Mystery</th>\n",
              "      <th>Romance</th>\n",
              "      <th>Sci-Fi</th>\n",
              "      <th>Thriller</th>\n",
              "      <th>War</th>\n",
              "      <th>Western</th>\n",
              "    </tr>\n",
              "  </thead>\n",
              "  <tbody>\n",
              "    <tr>\n",
              "      <th>0</th>\n",
              "      <td>1</td>\n",
              "      <td>0</td>\n",
              "      <td>0</td>\n",
              "      <td>0</td>\n",
              "      <td>0</td>\n",
              "      <td>1</td>\n",
              "      <td>1</td>\n",
              "      <td>0</td>\n",
              "      <td>1</td>\n",
              "      <td>0</td>\n",
              "      <td>0</td>\n",
              "      <td>0</td>\n",
              "      <td>0</td>\n",
              "      <td>0</td>\n",
              "      <td>0</td>\n",
              "      <td>0</td>\n",
              "      <td>0</td>\n",
              "      <td>1</td>\n",
              "      <td>0</td>\n",
              "      <td>0</td>\n",
              "    </tr>\n",
              "    <tr>\n",
              "      <th>1</th>\n",
              "      <td>1</td>\n",
              "      <td>0</td>\n",
              "      <td>0</td>\n",
              "      <td>0</td>\n",
              "      <td>0</td>\n",
              "      <td>0</td>\n",
              "      <td>0</td>\n",
              "      <td>0</td>\n",
              "      <td>1</td>\n",
              "      <td>0</td>\n",
              "      <td>0</td>\n",
              "      <td>0</td>\n",
              "      <td>0</td>\n",
              "      <td>0</td>\n",
              "      <td>0</td>\n",
              "      <td>0</td>\n",
              "      <td>0</td>\n",
              "      <td>0</td>\n",
              "      <td>0</td>\n",
              "      <td>0</td>\n",
              "    </tr>\n",
              "    <tr>\n",
              "      <th>2</th>\n",
              "      <td>1</td>\n",
              "      <td>0</td>\n",
              "      <td>0</td>\n",
              "      <td>0</td>\n",
              "      <td>0</td>\n",
              "      <td>0</td>\n",
              "      <td>0</td>\n",
              "      <td>0</td>\n",
              "      <td>1</td>\n",
              "      <td>0</td>\n",
              "      <td>0</td>\n",
              "      <td>0</td>\n",
              "      <td>0</td>\n",
              "      <td>0</td>\n",
              "      <td>0</td>\n",
              "      <td>0</td>\n",
              "      <td>0</td>\n",
              "      <td>0</td>\n",
              "      <td>0</td>\n",
              "      <td>0</td>\n",
              "    </tr>\n",
              "    <tr>\n",
              "      <th>3</th>\n",
              "      <td>1</td>\n",
              "      <td>0</td>\n",
              "      <td>0</td>\n",
              "      <td>0</td>\n",
              "      <td>0</td>\n",
              "      <td>1</td>\n",
              "      <td>0</td>\n",
              "      <td>0</td>\n",
              "      <td>1</td>\n",
              "      <td>0</td>\n",
              "      <td>0</td>\n",
              "      <td>0</td>\n",
              "      <td>0</td>\n",
              "      <td>0</td>\n",
              "      <td>0</td>\n",
              "      <td>0</td>\n",
              "      <td>0</td>\n",
              "      <td>0</td>\n",
              "      <td>1</td>\n",
              "      <td>0</td>\n",
              "    </tr>\n",
              "    <tr>\n",
              "      <th>4</th>\n",
              "      <td>1</td>\n",
              "      <td>0</td>\n",
              "      <td>0</td>\n",
              "      <td>0</td>\n",
              "      <td>0</td>\n",
              "      <td>1</td>\n",
              "      <td>0</td>\n",
              "      <td>0</td>\n",
              "      <td>0</td>\n",
              "      <td>0</td>\n",
              "      <td>0</td>\n",
              "      <td>0</td>\n",
              "      <td>0</td>\n",
              "      <td>1</td>\n",
              "      <td>0</td>\n",
              "      <td>1</td>\n",
              "      <td>0</td>\n",
              "      <td>0</td>\n",
              "      <td>0</td>\n",
              "      <td>0</td>\n",
              "    </tr>\n",
              "    <tr>\n",
              "      <th>...</th>\n",
              "      <td>...</td>\n",
              "      <td>...</td>\n",
              "      <td>...</td>\n",
              "      <td>...</td>\n",
              "      <td>...</td>\n",
              "      <td>...</td>\n",
              "      <td>...</td>\n",
              "      <td>...</td>\n",
              "      <td>...</td>\n",
              "      <td>...</td>\n",
              "      <td>...</td>\n",
              "      <td>...</td>\n",
              "      <td>...</td>\n",
              "      <td>...</td>\n",
              "      <td>...</td>\n",
              "      <td>...</td>\n",
              "      <td>...</td>\n",
              "      <td>...</td>\n",
              "      <td>...</td>\n",
              "      <td>...</td>\n",
              "    </tr>\n",
              "    <tr>\n",
              "      <th>3995</th>\n",
              "      <td>23</td>\n",
              "      <td>0</td>\n",
              "      <td>0</td>\n",
              "      <td>0</td>\n",
              "      <td>0</td>\n",
              "      <td>0</td>\n",
              "      <td>0</td>\n",
              "      <td>0</td>\n",
              "      <td>1</td>\n",
              "      <td>0</td>\n",
              "      <td>0</td>\n",
              "      <td>0</td>\n",
              "      <td>0</td>\n",
              "      <td>0</td>\n",
              "      <td>1</td>\n",
              "      <td>0</td>\n",
              "      <td>0</td>\n",
              "      <td>0</td>\n",
              "      <td>0</td>\n",
              "      <td>0</td>\n",
              "    </tr>\n",
              "    <tr>\n",
              "      <th>3996</th>\n",
              "      <td>23</td>\n",
              "      <td>0</td>\n",
              "      <td>0</td>\n",
              "      <td>0</td>\n",
              "      <td>0</td>\n",
              "      <td>0</td>\n",
              "      <td>0</td>\n",
              "      <td>0</td>\n",
              "      <td>1</td>\n",
              "      <td>0</td>\n",
              "      <td>0</td>\n",
              "      <td>0</td>\n",
              "      <td>0</td>\n",
              "      <td>0</td>\n",
              "      <td>0</td>\n",
              "      <td>0</td>\n",
              "      <td>0</td>\n",
              "      <td>0</td>\n",
              "      <td>0</td>\n",
              "      <td>0</td>\n",
              "    </tr>\n",
              "    <tr>\n",
              "      <th>3997</th>\n",
              "      <td>23</td>\n",
              "      <td>0</td>\n",
              "      <td>0</td>\n",
              "      <td>0</td>\n",
              "      <td>0</td>\n",
              "      <td>0</td>\n",
              "      <td>0</td>\n",
              "      <td>1</td>\n",
              "      <td>0</td>\n",
              "      <td>0</td>\n",
              "      <td>0</td>\n",
              "      <td>0</td>\n",
              "      <td>0</td>\n",
              "      <td>0</td>\n",
              "      <td>0</td>\n",
              "      <td>0</td>\n",
              "      <td>0</td>\n",
              "      <td>0</td>\n",
              "      <td>0</td>\n",
              "      <td>0</td>\n",
              "    </tr>\n",
              "    <tr>\n",
              "      <th>3998</th>\n",
              "      <td>23</td>\n",
              "      <td>0</td>\n",
              "      <td>0</td>\n",
              "      <td>0</td>\n",
              "      <td>0</td>\n",
              "      <td>0</td>\n",
              "      <td>0</td>\n",
              "      <td>0</td>\n",
              "      <td>1</td>\n",
              "      <td>0</td>\n",
              "      <td>0</td>\n",
              "      <td>0</td>\n",
              "      <td>0</td>\n",
              "      <td>0</td>\n",
              "      <td>0</td>\n",
              "      <td>0</td>\n",
              "      <td>0</td>\n",
              "      <td>0</td>\n",
              "      <td>0</td>\n",
              "      <td>0</td>\n",
              "    </tr>\n",
              "    <tr>\n",
              "      <th>3999</th>\n",
              "      <td>23</td>\n",
              "      <td>0</td>\n",
              "      <td>0</td>\n",
              "      <td>0</td>\n",
              "      <td>0</td>\n",
              "      <td>0</td>\n",
              "      <td>0</td>\n",
              "      <td>0</td>\n",
              "      <td>1</td>\n",
              "      <td>0</td>\n",
              "      <td>0</td>\n",
              "      <td>0</td>\n",
              "      <td>0</td>\n",
              "      <td>0</td>\n",
              "      <td>0</td>\n",
              "      <td>1</td>\n",
              "      <td>0</td>\n",
              "      <td>0</td>\n",
              "      <td>1</td>\n",
              "      <td>0</td>\n",
              "    </tr>\n",
              "  </tbody>\n",
              "</table>\n",
              "<p>4000 rows × 20 columns</p>\n",
              "</div>\n",
              "      <button class=\"colab-df-convert\" onclick=\"convertToInteractive('df-30507aa5-a1b4-4ab6-82f1-5d457b6ac25c')\"\n",
              "              title=\"Convert this dataframe to an interactive table.\"\n",
              "              style=\"display:none;\">\n",
              "        \n",
              "  <svg xmlns=\"http://www.w3.org/2000/svg\" height=\"24px\"viewBox=\"0 0 24 24\"\n",
              "       width=\"24px\">\n",
              "    <path d=\"M0 0h24v24H0V0z\" fill=\"none\"/>\n",
              "    <path d=\"M18.56 5.44l.94 2.06.94-2.06 2.06-.94-2.06-.94-.94-2.06-.94 2.06-2.06.94zm-11 1L8.5 8.5l.94-2.06 2.06-.94-2.06-.94L8.5 2.5l-.94 2.06-2.06.94zm10 10l.94 2.06.94-2.06 2.06-.94-2.06-.94-.94-2.06-.94 2.06-2.06.94z\"/><path d=\"M17.41 7.96l-1.37-1.37c-.4-.4-.92-.59-1.43-.59-.52 0-1.04.2-1.43.59L10.3 9.45l-7.72 7.72c-.78.78-.78 2.05 0 2.83L4 21.41c.39.39.9.59 1.41.59.51 0 1.02-.2 1.41-.59l7.78-7.78 2.81-2.81c.8-.78.8-2.07 0-2.86zM5.41 20L4 18.59l7.72-7.72 1.47 1.35L5.41 20z\"/>\n",
              "  </svg>\n",
              "      </button>\n",
              "      \n",
              "  <style>\n",
              "    .colab-df-container {\n",
              "      display:flex;\n",
              "      flex-wrap:wrap;\n",
              "      gap: 12px;\n",
              "    }\n",
              "\n",
              "    .colab-df-convert {\n",
              "      background-color: #E8F0FE;\n",
              "      border: none;\n",
              "      border-radius: 50%;\n",
              "      cursor: pointer;\n",
              "      display: none;\n",
              "      fill: #1967D2;\n",
              "      height: 32px;\n",
              "      padding: 0 0 0 0;\n",
              "      width: 32px;\n",
              "    }\n",
              "\n",
              "    .colab-df-convert:hover {\n",
              "      background-color: #E2EBFA;\n",
              "      box-shadow: 0px 1px 2px rgba(60, 64, 67, 0.3), 0px 1px 3px 1px rgba(60, 64, 67, 0.15);\n",
              "      fill: #174EA6;\n",
              "    }\n",
              "\n",
              "    [theme=dark] .colab-df-convert {\n",
              "      background-color: #3B4455;\n",
              "      fill: #D2E3FC;\n",
              "    }\n",
              "\n",
              "    [theme=dark] .colab-df-convert:hover {\n",
              "      background-color: #434B5C;\n",
              "      box-shadow: 0px 1px 3px 1px rgba(0, 0, 0, 0.15);\n",
              "      filter: drop-shadow(0px 1px 2px rgba(0, 0, 0, 0.3));\n",
              "      fill: #FFFFFF;\n",
              "    }\n",
              "  </style>\n",
              "\n",
              "      <script>\n",
              "        const buttonEl =\n",
              "          document.querySelector('#df-30507aa5-a1b4-4ab6-82f1-5d457b6ac25c button.colab-df-convert');\n",
              "        buttonEl.style.display =\n",
              "          google.colab.kernel.accessAllowed ? 'block' : 'none';\n",
              "\n",
              "        async function convertToInteractive(key) {\n",
              "          const element = document.querySelector('#df-30507aa5-a1b4-4ab6-82f1-5d457b6ac25c');\n",
              "          const dataTable =\n",
              "            await google.colab.kernel.invokeFunction('convertToInteractive',\n",
              "                                                     [key], {});\n",
              "          if (!dataTable) return;\n",
              "\n",
              "          const docLinkHtml = 'Like what you see? Visit the ' +\n",
              "            '<a target=\"_blank\" href=https://colab.research.google.com/notebooks/data_table.ipynb>data table notebook</a>'\n",
              "            + ' to learn more about interactive tables.';\n",
              "          element.innerHTML = '';\n",
              "          dataTable['output_type'] = 'display_data';\n",
              "          await google.colab.output.renderOutput(dataTable, element);\n",
              "          const docLink = document.createElement('div');\n",
              "          docLink.innerHTML = docLinkHtml;\n",
              "          element.appendChild(docLink);\n",
              "        }\n",
              "      </script>\n",
              "    </div>\n",
              "  </div>\n",
              "  "
            ],
            "text/plain": [
              "      User_Id  Action  Adventure  Animation  Children  Comedy  Crime  \\\n",
              "0           1       0          0          0         0       1      1   \n",
              "1           1       0          0          0         0       0      0   \n",
              "2           1       0          0          0         0       0      0   \n",
              "3           1       0          0          0         0       1      0   \n",
              "4           1       0          0          0         0       1      0   \n",
              "...       ...     ...        ...        ...       ...     ...    ...   \n",
              "3995       23       0          0          0         0       0      0   \n",
              "3996       23       0          0          0         0       0      0   \n",
              "3997       23       0          0          0         0       0      0   \n",
              "3998       23       0          0          0         0       0      0   \n",
              "3999       23       0          0          0         0       0      0   \n",
              "\n",
              "      Documentary  Drama  Fantasy  Film-Noir  Horror  IMAX  Musical  Mystery  \\\n",
              "0               0      1        0          0       0     0        0        0   \n",
              "1               0      1        0          0       0     0        0        0   \n",
              "2               0      1        0          0       0     0        0        0   \n",
              "3               0      1        0          0       0     0        0        0   \n",
              "4               0      0        0          0       0     0        1        0   \n",
              "...           ...    ...      ...        ...     ...   ...      ...      ...   \n",
              "3995            0      1        0          0       0     0        0        1   \n",
              "3996            0      1        0          0       0     0        0        0   \n",
              "3997            1      0        0          0       0     0        0        0   \n",
              "3998            0      1        0          0       0     0        0        0   \n",
              "3999            0      1        0          0       0     0        0        0   \n",
              "\n",
              "      Romance  Sci-Fi  Thriller  War  Western  \n",
              "0           0       0         1    0        0  \n",
              "1           0       0         0    0        0  \n",
              "2           0       0         0    0        0  \n",
              "3           0       0         0    1        0  \n",
              "4           1       0         0    0        0  \n",
              "...       ...     ...       ...  ...      ...  \n",
              "3995        0       0         0    0        0  \n",
              "3996        0       0         0    0        0  \n",
              "3997        0       0         0    0        0  \n",
              "3998        0       0         0    0        0  \n",
              "3999        1       0         0    1        0  \n",
              "\n",
              "[4000 rows x 20 columns]"
            ]
          },
          "execution_count": 146,
          "metadata": {},
          "output_type": "execute_result"
        }
      ],
      "source": [
        "X = pd.DataFrame(df_min.drop(['Rating', 'Movie_Name', '(no genres listed)'], axis=1))\n",
        "#X = pd.DataFrame(df_min.drop(['Movie_Name'], axis=1))\n",
        "X"
      ]
    },
    {
      "cell_type": "code",
      "execution_count": 49,
      "metadata": {
        "colab": {
          "base_uri": "https://localhost:8080/"
        },
        "id": "R4-REV8r2YXM",
        "outputId": "6a9bcbd7-e495-4bfb-8db5-891da10ce36c"
      },
      "outputs": [
        {
          "output_type": "execute_result",
          "data": {
            "text/plain": [
              "array([5. , 3.5, 5. , ..., 5. , 5. , 5. ])"
            ]
          },
          "metadata": {},
          "execution_count": 49
        }
      ],
      "source": [
        "y = pd.DataFrame(df_min['Rating']).values.ravel()\n",
        "y"
      ]
    },
    {
      "cell_type": "code",
      "execution_count": 50,
      "metadata": {
        "id": "kIfrG71G2fag"
      },
      "outputs": [],
      "source": [
        "#подключение модели логистической регрессии из библиотеки sklearn\n",
        "from sklearn.linear_model import LogisticRegression"
      ]
    },
    {
      "cell_type": "code",
      "execution_count": 51,
      "metadata": {
        "colab": {
          "base_uri": "https://localhost:8080/"
        },
        "id": "tUvxOd_leKES",
        "outputId": "3e64bc15-7ef6-4897-a664-3779b78bedf3"
      },
      "outputs": [
        {
          "output_type": "execute_result",
          "data": {
            "text/plain": [
              "array([ 1,  2,  3,  4,  5,  6,  7,  8,  9, 10, 11, 12, 13, 14, 15, 16, 17,\n",
              "       18, 19, 20, 21, 22, 23])"
            ]
          },
          "metadata": {},
          "execution_count": 51
        }
      ],
      "source": [
        "from sys import last_type\n",
        "lst = df_min.User_Id.unique()\n",
        "lst"
      ]
    },
    {
      "cell_type": "code",
      "execution_count": 52,
      "metadata": {
        "id": "5IdJmU9dogUc"
      },
      "outputs": [],
      "source": [
        "# Массивы для среднего рейтинга по категориям\n",
        "med2 = [0]*24\n",
        "res_list_2 = [0]*24\n",
        "sr_sum = []\n",
        "sr_sum_A = []\n",
        "sr_sum_An  = []\n",
        "sr_sum_Ch = []\n",
        "sr_sum_Co = []\n",
        "sr_sum_Cr = []\n",
        "sr_sum_Do = []\n",
        "sr_sum_Dr = []\n",
        "sr_sum_Fa = []\n",
        "sr_sum_FN = []\n",
        "sr_sum_Ho = []\n",
        "sr_sum_Mu = []\n",
        "sr_sum_My = []\n",
        "sr_sum_Ro = []\n",
        "sr_sum_SF = []\n",
        "sr_sum_Th = []\n",
        "sr_sum_Wa = []\n",
        "sr_sum_We = []"
      ]
    },
    {
      "cell_type": "code",
      "execution_count": 53,
      "metadata": {
        "colab": {
          "base_uri": "https://localhost:8080/"
        },
        "id": "zDcIY9dIkWaN",
        "outputId": "02178e3d-dda3-43d6-a207-39eb24dba7ee"
      },
      "outputs": [
        {
          "output_type": "execute_result",
          "data": {
            "text/plain": [
              "23"
            ]
          },
          "metadata": {},
          "execution_count": 53
        }
      ],
      "source": [
        "# В массив sr_sum будут записываться средние значение рейтинга одной категории для разных пользоателей\n",
        "for i in range (1,24):\n",
        "  df_1 = df_min.loc[df_min['User_Id']. isin([i])]\n",
        "  y=pd.DataFrame(df_1['Action']).values.ravel()\n",
        "  X = pd.DataFrame(df_1['Rating']).values.ravel()\n",
        "  res_list_2 = []\n",
        "  for i in range(0, len(y)):\n",
        "    res_list_2.append(y[i] * X[i])\n",
        "    sr_sum3 = sum(res_list_2)/sum(y)\n",
        "  sr_sum.append(sr_sum3)\n",
        "len(sr_sum)"
      ]
    },
    {
      "cell_type": "code",
      "execution_count": 54,
      "metadata": {
        "colab": {
          "base_uri": "https://localhost:8080/"
        },
        "id": "DnESouIFwkKk",
        "outputId": "ea29016a-80c8-470f-9f97-565d75be9591"
      },
      "outputs": [
        {
          "output_type": "execute_result",
          "data": {
            "text/plain": [
              "23"
            ]
          },
          "metadata": {},
          "execution_count": 54
        }
      ],
      "source": [
        "for i in range (1,24):\n",
        "  df_1 = df_min.loc[df_min['User_Id']. isin([i])]\n",
        "  y=pd.DataFrame(df_1['Adventure']).values.ravel()\n",
        "  X = pd.DataFrame(df_1['Rating']).values.ravel()\n",
        "  res_list_2 = []\n",
        "  for i in range(0, len(y)):\n",
        "    res_list_2.append(y[i] * X[i])\n",
        "    sr_sum3 = sum(res_list_2)/sum(y)\n",
        "  sr_sum_A.append(sr_sum3)\n",
        "len(sr_sum_A)"
      ]
    },
    {
      "cell_type": "code",
      "execution_count": 55,
      "metadata": {
        "colab": {
          "base_uri": "https://localhost:8080/"
        },
        "id": "eq_uSMxfxs_I",
        "outputId": "1f9a77d2-e3b8-4129-add0-5a1fa0fa6f8f"
      },
      "outputs": [
        {
          "output_type": "stream",
          "name": "stderr",
          "text": [
            "<ipython-input-55-b16be800e855>:8: RuntimeWarning: invalid value encountered in scalar divide\n",
            "  sr_sum3 = sum(res_list_2)/sum(y)\n",
            "<ipython-input-55-b16be800e855>:8: RuntimeWarning: invalid value encountered in scalar divide\n",
            "  sr_sum3 = sum(res_list_2)/sum(y)\n"
          ]
        },
        {
          "output_type": "execute_result",
          "data": {
            "text/plain": [
              "23"
            ]
          },
          "metadata": {},
          "execution_count": 55
        }
      ],
      "source": [
        "for i in range (1,24):\n",
        "  df_1 = df_min.loc[df_min['User_Id']. isin([i])]\n",
        "  y=pd.DataFrame(df_1['Animation']).values.ravel()\n",
        "  X = pd.DataFrame(df_1['Rating']).values.ravel()\n",
        "  res_list_2 = []\n",
        "  for i in range(0, len(y)):\n",
        "    res_list_2.append(y[i] * X[i])\n",
        "    sr_sum3 = sum(res_list_2)/sum(y)\n",
        "  sr_sum_An.append(sr_sum3)\n",
        "len(sr_sum_An)"
      ]
    },
    {
      "cell_type": "code",
      "execution_count": 56,
      "metadata": {
        "colab": {
          "base_uri": "https://localhost:8080/"
        },
        "id": "meJMu9lsx0Zb",
        "outputId": "c95e81c0-ade1-4c80-c630-6a8b130c32a2"
      },
      "outputs": [
        {
          "output_type": "stream",
          "name": "stderr",
          "text": [
            "<ipython-input-56-06b07abee99d>:8: RuntimeWarning: invalid value encountered in scalar divide\n",
            "  sr_sum3 = sum(res_list_2)/sum(y)\n"
          ]
        },
        {
          "output_type": "execute_result",
          "data": {
            "text/plain": [
              "23"
            ]
          },
          "metadata": {},
          "execution_count": 56
        }
      ],
      "source": [
        "for i in range (1,24):\n",
        "  df_1 = df_min.loc[df_min['User_Id']. isin([i])]\n",
        "  y=pd.DataFrame(df_1['Children']).values.ravel()\n",
        "  X = pd.DataFrame(df_1['Rating']).values.ravel()\n",
        "  res_list_2 = []\n",
        "  for i in range(0, len(y)):\n",
        "    res_list_2.append(y[i] * X[i])\n",
        "    sr_sum3 = sum(res_list_2)/sum(y)\n",
        "  sr_sum_Ch.append(sr_sum3)\n",
        "len(sr_sum_Ch)"
      ]
    },
    {
      "cell_type": "code",
      "execution_count": 57,
      "metadata": {
        "colab": {
          "base_uri": "https://localhost:8080/"
        },
        "id": "a6FU6xi0x3nR",
        "outputId": "5297ef95-2594-4940-eaeb-da8e1d3f970b"
      },
      "outputs": [
        {
          "output_type": "execute_result",
          "data": {
            "text/plain": [
              "23"
            ]
          },
          "metadata": {},
          "execution_count": 57
        }
      ],
      "source": [
        "for i in range (1,24):\n",
        "  df_1 = df_min.loc[df_min['User_Id']. isin([i])]\n",
        "  y=pd.DataFrame(df_1['Comedy']).values.ravel()\n",
        "  X = pd.DataFrame(df_1['Rating']).values.ravel()\n",
        "  res_list_2 = []\n",
        "  for i in range(0, len(y)):\n",
        "    res_list_2.append(y[i] * X[i])\n",
        "    sr_sum3 = sum(res_list_2)/sum(y)\n",
        "  sr_sum_Co.append(sr_sum3)\n",
        "len(sr_sum_Co)"
      ]
    },
    {
      "cell_type": "code",
      "execution_count": 58,
      "metadata": {
        "colab": {
          "base_uri": "https://localhost:8080/"
        },
        "id": "VcBcqCKlx6Fx",
        "outputId": "bcec567d-846b-4f9d-cf17-70e95e573bce"
      },
      "outputs": [
        {
          "output_type": "execute_result",
          "data": {
            "text/plain": [
              "23"
            ]
          },
          "metadata": {},
          "execution_count": 58
        }
      ],
      "source": [
        "for i in range (1,24):\n",
        "  df_1 = df_min.loc[df_min['User_Id']. isin([i])]\n",
        "  y=pd.DataFrame(df_1['Crime']).values.ravel()\n",
        "  X = pd.DataFrame(df_1['Rating']).values.ravel()\n",
        "  res_list_2 = []\n",
        "  for i in range(0, len(y)):\n",
        "    res_list_2.append(y[i] * X[i])\n",
        "    sr_sum3 = sum(res_list_2)/sum(y)\n",
        "  sr_sum_Cr.append(sr_sum3)\n",
        "len(sr_sum_Cr)"
      ]
    },
    {
      "cell_type": "code",
      "execution_count": 59,
      "metadata": {
        "colab": {
          "base_uri": "https://localhost:8080/"
        },
        "id": "HLbXsV-yx-pu",
        "outputId": "a70145ab-b45e-466b-9f81-b12cd7db2f0f"
      },
      "outputs": [
        {
          "output_type": "stream",
          "name": "stderr",
          "text": [
            "<ipython-input-59-317acf9f168b>:8: RuntimeWarning: invalid value encountered in scalar divide\n",
            "  sr_sum3 = sum(res_list_2)/sum(y)\n",
            "<ipython-input-59-317acf9f168b>:8: RuntimeWarning: invalid value encountered in scalar divide\n",
            "  sr_sum3 = sum(res_list_2)/sum(y)\n",
            "<ipython-input-59-317acf9f168b>:8: RuntimeWarning: invalid value encountered in scalar divide\n",
            "  sr_sum3 = sum(res_list_2)/sum(y)\n",
            "<ipython-input-59-317acf9f168b>:8: RuntimeWarning: invalid value encountered in scalar divide\n",
            "  sr_sum3 = sum(res_list_2)/sum(y)\n",
            "<ipython-input-59-317acf9f168b>:8: RuntimeWarning: invalid value encountered in scalar divide\n",
            "  sr_sum3 = sum(res_list_2)/sum(y)\n",
            "<ipython-input-59-317acf9f168b>:8: RuntimeWarning: invalid value encountered in scalar divide\n",
            "  sr_sum3 = sum(res_list_2)/sum(y)\n",
            "<ipython-input-59-317acf9f168b>:8: RuntimeWarning: invalid value encountered in scalar divide\n",
            "  sr_sum3 = sum(res_list_2)/sum(y)\n",
            "<ipython-input-59-317acf9f168b>:8: RuntimeWarning: invalid value encountered in scalar divide\n",
            "  sr_sum3 = sum(res_list_2)/sum(y)\n",
            "<ipython-input-59-317acf9f168b>:8: RuntimeWarning: invalid value encountered in scalar divide\n",
            "  sr_sum3 = sum(res_list_2)/sum(y)\n",
            "<ipython-input-59-317acf9f168b>:8: RuntimeWarning: invalid value encountered in scalar divide\n",
            "  sr_sum3 = sum(res_list_2)/sum(y)\n",
            "<ipython-input-59-317acf9f168b>:8: RuntimeWarning: invalid value encountered in scalar divide\n",
            "  sr_sum3 = sum(res_list_2)/sum(y)\n"
          ]
        },
        {
          "output_type": "execute_result",
          "data": {
            "text/plain": [
              "23"
            ]
          },
          "metadata": {},
          "execution_count": 59
        }
      ],
      "source": [
        "for i in range (1,24):\n",
        "  df_1 = df_min.loc[df_min['User_Id']. isin([i])]\n",
        "  y=pd.DataFrame(df_1['Documentary']).values.ravel()\n",
        "  X = pd.DataFrame(df_1['Rating']).values.ravel()\n",
        "  res_list_2 = []\n",
        "  for i in range(0, len(y)):\n",
        "    res_list_2.append(y[i] * X[i])\n",
        "    sr_sum3 = sum(res_list_2)/sum(y)\n",
        "  sr_sum_Do.append(sr_sum3)\n",
        "len(sr_sum_Do)"
      ]
    },
    {
      "cell_type": "code",
      "execution_count": 60,
      "metadata": {
        "colab": {
          "base_uri": "https://localhost:8080/"
        },
        "id": "5I1AKH1NyB5r",
        "outputId": "23db55a0-3fca-41a4-bcef-53093a43b8a8"
      },
      "outputs": [
        {
          "output_type": "execute_result",
          "data": {
            "text/plain": [
              "23"
            ]
          },
          "metadata": {},
          "execution_count": 60
        }
      ],
      "source": [
        "for i in range (1,24):\n",
        "  df_1 = df_min.loc[df_min['User_Id']. isin([i])]\n",
        "  y=pd.DataFrame(df_1['Drama']).values.ravel()\n",
        "  X = pd.DataFrame(df_1['Rating']).values.ravel()\n",
        "  res_list_2 = []\n",
        "  for i in range(0, len(y)):\n",
        "    res_list_2.append(y[i] * X[i])\n",
        "    sr_sum3 = sum(res_list_2)/sum(y)\n",
        "  sr_sum_Dr.append(sr_sum3)\n",
        "len(sr_sum_Dr)"
      ]
    },
    {
      "cell_type": "code",
      "execution_count": 61,
      "metadata": {
        "colab": {
          "base_uri": "https://localhost:8080/"
        },
        "id": "-ejkjdOEyFzZ",
        "outputId": "74861f16-1569-4f76-9a81-ff712d7f487f"
      },
      "outputs": [
        {
          "output_type": "execute_result",
          "data": {
            "text/plain": [
              "23"
            ]
          },
          "metadata": {},
          "execution_count": 61
        }
      ],
      "source": [
        "for i in range (1,24):\n",
        "  df_1 = df_min.loc[df_min['User_Id']. isin([i])]\n",
        "  y=pd.DataFrame(df_1['Fantasy']).values.ravel()\n",
        "  X = pd.DataFrame(df_1['Rating']).values.ravel()\n",
        "  res_list_2 = []\n",
        "  for i in range(0, len(y)):\n",
        "    res_list_2.append(y[i] * X[i])\n",
        "    sr_sum3 = sum(res_list_2)/sum(y)\n",
        "  sr_sum_Fa.append(sr_sum3)\n",
        "len(sr_sum_Fa)"
      ]
    },
    {
      "cell_type": "code",
      "execution_count": 62,
      "metadata": {
        "colab": {
          "base_uri": "https://localhost:8080/"
        },
        "id": "a_wG1ALByIt8",
        "outputId": "6b088e26-8ba0-4c53-b20c-f0a3ce569f91"
      },
      "outputs": [
        {
          "output_type": "stream",
          "name": "stderr",
          "text": [
            "<ipython-input-62-73167b0efe29>:8: RuntimeWarning: invalid value encountered in scalar divide\n",
            "  sr_sum3 = sum(res_list_2)/sum(y)\n",
            "<ipython-input-62-73167b0efe29>:8: RuntimeWarning: invalid value encountered in scalar divide\n",
            "  sr_sum3 = sum(res_list_2)/sum(y)\n",
            "<ipython-input-62-73167b0efe29>:8: RuntimeWarning: invalid value encountered in scalar divide\n",
            "  sr_sum3 = sum(res_list_2)/sum(y)\n",
            "<ipython-input-62-73167b0efe29>:8: RuntimeWarning: invalid value encountered in scalar divide\n",
            "  sr_sum3 = sum(res_list_2)/sum(y)\n",
            "<ipython-input-62-73167b0efe29>:8: RuntimeWarning: invalid value encountered in scalar divide\n",
            "  sr_sum3 = sum(res_list_2)/sum(y)\n",
            "<ipython-input-62-73167b0efe29>:8: RuntimeWarning: invalid value encountered in scalar divide\n",
            "  sr_sum3 = sum(res_list_2)/sum(y)\n",
            "<ipython-input-62-73167b0efe29>:8: RuntimeWarning: invalid value encountered in scalar divide\n",
            "  sr_sum3 = sum(res_list_2)/sum(y)\n",
            "<ipython-input-62-73167b0efe29>:8: RuntimeWarning: invalid value encountered in scalar divide\n",
            "  sr_sum3 = sum(res_list_2)/sum(y)\n",
            "<ipython-input-62-73167b0efe29>:8: RuntimeWarning: invalid value encountered in scalar divide\n",
            "  sr_sum3 = sum(res_list_2)/sum(y)\n",
            "<ipython-input-62-73167b0efe29>:8: RuntimeWarning: invalid value encountered in scalar divide\n",
            "  sr_sum3 = sum(res_list_2)/sum(y)\n",
            "<ipython-input-62-73167b0efe29>:8: RuntimeWarning: invalid value encountered in scalar divide\n",
            "  sr_sum3 = sum(res_list_2)/sum(y)\n",
            "<ipython-input-62-73167b0efe29>:8: RuntimeWarning: invalid value encountered in scalar divide\n",
            "  sr_sum3 = sum(res_list_2)/sum(y)\n",
            "<ipython-input-62-73167b0efe29>:8: RuntimeWarning: invalid value encountered in scalar divide\n",
            "  sr_sum3 = sum(res_list_2)/sum(y)\n",
            "<ipython-input-62-73167b0efe29>:8: RuntimeWarning: invalid value encountered in scalar divide\n",
            "  sr_sum3 = sum(res_list_2)/sum(y)\n"
          ]
        },
        {
          "output_type": "execute_result",
          "data": {
            "text/plain": [
              "23"
            ]
          },
          "metadata": {},
          "execution_count": 62
        }
      ],
      "source": [
        "for i in range (1,24):\n",
        "  df_1 = df_min.loc[df_min['User_Id']. isin([i])]\n",
        "  y=pd.DataFrame(df_1['Film-Noir']).values.ravel()\n",
        "  X = pd.DataFrame(df_1['Rating']).values.ravel()\n",
        "  res_list_2 = []\n",
        "  for i in range(0, len(y)):\n",
        "    res_list_2.append(y[i] * X[i])\n",
        "    sr_sum3 = sum(res_list_2)/sum(y)\n",
        "  sr_sum_FN.append(sr_sum3)\n",
        "len(sr_sum_FN)"
      ]
    },
    {
      "cell_type": "code",
      "execution_count": 63,
      "metadata": {
        "colab": {
          "base_uri": "https://localhost:8080/"
        },
        "id": "d9Ife9_OyNCk",
        "outputId": "9a247845-a3ee-4afe-bf73-0801d86654d2"
      },
      "outputs": [
        {
          "output_type": "stream",
          "name": "stderr",
          "text": [
            "<ipython-input-63-2db4bf6fe3cc>:8: RuntimeWarning: invalid value encountered in scalar divide\n",
            "  sr_sum3 = sum(res_list_2)/sum(y)\n",
            "<ipython-input-63-2db4bf6fe3cc>:8: RuntimeWarning: invalid value encountered in scalar divide\n",
            "  sr_sum3 = sum(res_list_2)/sum(y)\n"
          ]
        },
        {
          "output_type": "execute_result",
          "data": {
            "text/plain": [
              "23"
            ]
          },
          "metadata": {},
          "execution_count": 63
        }
      ],
      "source": [
        "for i in range (1,24):\n",
        "  df_1 = df_min.loc[df_min['User_Id']. isin([i])]\n",
        "  y=pd.DataFrame(df_1['Horror']).values.ravel()\n",
        "  X = pd.DataFrame(df_1['Rating']).values.ravel()\n",
        "  res_list_2 = []\n",
        "  for i in range(0, len(y)):\n",
        "    res_list_2.append(y[i] * X[i])\n",
        "    sr_sum3 = sum(res_list_2)/sum(y)\n",
        "  sr_sum_Ho.append(sr_sum3)\n",
        "len(sr_sum_Ho)"
      ]
    },
    {
      "cell_type": "code",
      "execution_count": 64,
      "metadata": {
        "colab": {
          "base_uri": "https://localhost:8080/"
        },
        "id": "UNlwOe9_yR2g",
        "outputId": "ac77264e-63f2-452f-be2c-b9719ebcdca3"
      },
      "outputs": [
        {
          "output_type": "stream",
          "name": "stderr",
          "text": [
            "<ipython-input-64-d27ec008ffb3>:8: RuntimeWarning: invalid value encountered in scalar divide\n",
            "  sr_sum3 = sum(res_list_2)/sum(y)\n",
            "<ipython-input-64-d27ec008ffb3>:8: RuntimeWarning: invalid value encountered in scalar divide\n",
            "  sr_sum3 = sum(res_list_2)/sum(y)\n",
            "<ipython-input-64-d27ec008ffb3>:8: RuntimeWarning: invalid value encountered in scalar divide\n",
            "  sr_sum3 = sum(res_list_2)/sum(y)\n"
          ]
        },
        {
          "output_type": "execute_result",
          "data": {
            "text/plain": [
              "23"
            ]
          },
          "metadata": {},
          "execution_count": 64
        }
      ],
      "source": [
        "for i in range (1,24):\n",
        "  df_1 = df_min.loc[df_min['User_Id']. isin([i])]\n",
        "  y=pd.DataFrame(df_1['Musical']).values.ravel()\n",
        "  X = pd.DataFrame(df_1['Rating']).values.ravel()\n",
        "  res_list_2 = []\n",
        "  for i in range(0, len(y)):\n",
        "    res_list_2.append(y[i] * X[i])\n",
        "    sr_sum3 = sum(res_list_2)/sum(y)\n",
        "  sr_sum_Mu.append(sr_sum3)\n",
        "len(sr_sum_Mu)"
      ]
    },
    {
      "cell_type": "code",
      "execution_count": 65,
      "metadata": {
        "colab": {
          "base_uri": "https://localhost:8080/"
        },
        "id": "pxW3Z4rAyUSn",
        "outputId": "80106dfd-cff3-44a2-a343-825f3399b47e"
      },
      "outputs": [
        {
          "output_type": "stream",
          "name": "stderr",
          "text": [
            "<ipython-input-65-e1f07d4b4680>:8: RuntimeWarning: invalid value encountered in scalar divide\n",
            "  sr_sum3 = sum(res_list_2)/sum(y)\n",
            "<ipython-input-65-e1f07d4b4680>:8: RuntimeWarning: invalid value encountered in scalar divide\n",
            "  sr_sum3 = sum(res_list_2)/sum(y)\n",
            "<ipython-input-65-e1f07d4b4680>:8: RuntimeWarning: invalid value encountered in scalar divide\n",
            "  sr_sum3 = sum(res_list_2)/sum(y)\n"
          ]
        },
        {
          "output_type": "execute_result",
          "data": {
            "text/plain": [
              "23"
            ]
          },
          "metadata": {},
          "execution_count": 65
        }
      ],
      "source": [
        "for i in range (1,24):\n",
        "  df_1 = df_min.loc[df_min['User_Id']. isin([i])]\n",
        "  y=pd.DataFrame(df_1['Mystery']).values.ravel()\n",
        "  X = pd.DataFrame(df_1['Rating']).values.ravel()\n",
        "  res_list_2 = []\n",
        "  for i in range(0, len(y)):\n",
        "    res_list_2.append(y[i] * X[i])\n",
        "    sr_sum3 = sum(res_list_2)/sum(y)\n",
        "  sr_sum_My.append(sr_sum3)\n",
        "len(sr_sum_My)"
      ]
    },
    {
      "cell_type": "code",
      "execution_count": 66,
      "metadata": {
        "colab": {
          "base_uri": "https://localhost:8080/"
        },
        "id": "UfaBJBQOyarP",
        "outputId": "c445258e-481f-4d84-8166-95ed375ed72d"
      },
      "outputs": [
        {
          "output_type": "execute_result",
          "data": {
            "text/plain": [
              "23"
            ]
          },
          "metadata": {},
          "execution_count": 66
        }
      ],
      "source": [
        "for i in range (1,24):\n",
        "  df_1 = df_min.loc[df_min['User_Id']. isin([i])]\n",
        "  y=pd.DataFrame(df_1['Romance']).values.ravel()\n",
        "  X = pd.DataFrame(df_1['Rating']).values.ravel()\n",
        "  res_list_2 = []\n",
        "  for i in range(0, len(y)):\n",
        "    res_list_2.append(y[i] * X[i])\n",
        "    sr_sum3 = sum(res_list_2)/sum(y)\n",
        "  sr_sum_Ro.append(sr_sum3)\n",
        "len(sr_sum_Ro)"
      ]
    },
    {
      "cell_type": "code",
      "execution_count": 67,
      "metadata": {
        "colab": {
          "base_uri": "https://localhost:8080/"
        },
        "id": "ovhZD1xr-L7C",
        "outputId": "3ed59a8d-bdfd-40c0-b10e-0230d05c1923"
      },
      "outputs": [
        {
          "output_type": "stream",
          "name": "stderr",
          "text": [
            "<ipython-input-67-0264061ec579>:8: RuntimeWarning: invalid value encountered in scalar divide\n",
            "  sr_sum3 = sum(res_list_2)/sum(y)\n"
          ]
        },
        {
          "output_type": "execute_result",
          "data": {
            "text/plain": [
              "23"
            ]
          },
          "metadata": {},
          "execution_count": 67
        }
      ],
      "source": [
        "for i in range (1,24):\n",
        "  df_1 = df_min.loc[df_min['User_Id']. isin([i])]\n",
        "  y=pd.DataFrame(df_1['Sci-Fi']).values.ravel()\n",
        "  X = pd.DataFrame(df_1['Rating']).values.ravel()\n",
        "  res_list_2 = []\n",
        "  for i in range(0, len(y)):\n",
        "    res_list_2.append(y[i] * X[i])\n",
        "    sr_sum3 = sum(res_list_2)/sum(y)\n",
        "  sr_sum_SF.append(sr_sum3)\n",
        "len(sr_sum_SF)"
      ]
    },
    {
      "cell_type": "code",
      "execution_count": 68,
      "metadata": {
        "colab": {
          "base_uri": "https://localhost:8080/"
        },
        "id": "a7d9iJtsycjT",
        "outputId": "79ff60a4-4513-4b09-b50a-05a950ad0cb4"
      },
      "outputs": [
        {
          "output_type": "execute_result",
          "data": {
            "text/plain": [
              "23"
            ]
          },
          "metadata": {},
          "execution_count": 68
        }
      ],
      "source": [
        "for i in range (1,24):\n",
        "  df_1 = df_min.loc[df_min['User_Id']. isin([i])]\n",
        "  y=pd.DataFrame(df_1['Thriller']).values.ravel()\n",
        "  X = pd.DataFrame(df_1['Rating']).values.ravel()\n",
        "  res_list_2 = []\n",
        "  for i in range(0, len(y)):\n",
        "    res_list_2.append(y[i] * X[i])\n",
        "    sr_sum3 = sum(res_list_2)/sum(y)\n",
        "  sr_sum_Th.append(sr_sum3)\n",
        "len(sr_sum_Th)"
      ]
    },
    {
      "cell_type": "code",
      "execution_count": 69,
      "metadata": {
        "colab": {
          "base_uri": "https://localhost:8080/"
        },
        "id": "p4kOQ4Cxyhno",
        "outputId": "18361e7c-05ab-41ff-d998-f6f3f1b232e2"
      },
      "outputs": [
        {
          "output_type": "execute_result",
          "data": {
            "text/plain": [
              "23"
            ]
          },
          "metadata": {},
          "execution_count": 69
        }
      ],
      "source": [
        "for i in range (1,24):\n",
        "  df_1 = df_min.loc[df_min['User_Id']. isin([i])]\n",
        "  y=pd.DataFrame(df_1['War']).values.ravel()\n",
        "  X = pd.DataFrame(df_1['Rating']).values.ravel()\n",
        "  res_list_2 = []\n",
        "  for i in range(0, len(y)):\n",
        "    res_list_2.append(y[i] * X[i])\n",
        "    sr_sum3 = sum(res_list_2)/sum(y)\n",
        "  sr_sum_Wa.append(sr_sum3)\n",
        "len(sr_sum_Wa)"
      ]
    },
    {
      "cell_type": "code",
      "execution_count": 70,
      "metadata": {
        "colab": {
          "base_uri": "https://localhost:8080/"
        },
        "id": "s5kyuvdlynRo",
        "outputId": "afcfe8bd-a398-474d-d4d8-7bce4b41f270"
      },
      "outputs": [
        {
          "output_type": "stream",
          "name": "stderr",
          "text": [
            "<ipython-input-70-fe9991e63bc5>:8: RuntimeWarning: invalid value encountered in scalar divide\n",
            "  sr_sum3 = sum(res_list_2)/sum(y)\n",
            "<ipython-input-70-fe9991e63bc5>:8: RuntimeWarning: invalid value encountered in scalar divide\n",
            "  sr_sum3 = sum(res_list_2)/sum(y)\n",
            "<ipython-input-70-fe9991e63bc5>:8: RuntimeWarning: invalid value encountered in scalar divide\n",
            "  sr_sum3 = sum(res_list_2)/sum(y)\n",
            "<ipython-input-70-fe9991e63bc5>:8: RuntimeWarning: invalid value encountered in scalar divide\n",
            "  sr_sum3 = sum(res_list_2)/sum(y)\n",
            "<ipython-input-70-fe9991e63bc5>:8: RuntimeWarning: invalid value encountered in scalar divide\n",
            "  sr_sum3 = sum(res_list_2)/sum(y)\n",
            "<ipython-input-70-fe9991e63bc5>:8: RuntimeWarning: invalid value encountered in scalar divide\n",
            "  sr_sum3 = sum(res_list_2)/sum(y)\n",
            "<ipython-input-70-fe9991e63bc5>:8: RuntimeWarning: invalid value encountered in scalar divide\n",
            "  sr_sum3 = sum(res_list_2)/sum(y)\n"
          ]
        },
        {
          "output_type": "execute_result",
          "data": {
            "text/plain": [
              "23"
            ]
          },
          "metadata": {},
          "execution_count": 70
        }
      ],
      "source": [
        "for i in range (1,24):\n",
        "  df_1 = df_min.loc[df_min['User_Id']. isin([i])]\n",
        "  y=pd.DataFrame(df_1['Western']).values.ravel()\n",
        "  X = pd.DataFrame(df_1['Rating']).values.ravel()\n",
        "  res_list_2 = []\n",
        "  for i in range(0, len(y)):\n",
        "    res_list_2.append(y[i] * X[i])\n",
        "    sr_sum3 = sum(res_list_2)/sum(y)\n",
        "  sr_sum_We.append(sr_sum3)\n",
        "len(sr_sum_We)"
      ]
    },
    {
      "cell_type": "markdown",
      "metadata": {
        "id": "8SDRJWY-CHYx"
      },
      "source": [
        "СВОДНАЯ ТАБЛИЦА СРЕДНЕГО ЗНАЧЕНИЯ РЕЙТИНГА ПО КАТЕГОРИИ ДЛЯ КАЖДОГО ПОЛЬЗОВАТЕЛЯ"
      ]
    },
    {
      "cell_type": "code",
      "execution_count": 71,
      "metadata": {
        "colab": {
          "base_uri": "https://localhost:8080/",
          "height": 771
        },
        "id": "pAvka4-F5HUe",
        "outputId": "0b4c0005-115d-40f2-eeac-54621dbaead1"
      },
      "outputs": [
        {
          "output_type": "execute_result",
          "data": {
            "text/plain": [
              "      Action  Adventure  Animation  Children    Comedy     Crime  Documentary  \\\n",
              "0   4.125000   3.727273   4.000000  3.833333  3.869565  4.062500     2.000000   \n",
              "1   3.696970   3.906667   3.617647  3.660000  3.317460  3.138889          NaN   \n",
              "2   3.640719   3.689394   3.980000  3.708333  3.454545  3.886364     3.166667   \n",
              "3   3.186207   3.074561   3.467742  3.214286  3.611111  3.972973     4.100000   \n",
              "4   3.722222   3.857143   3.750000  3.333333  3.571429  4.142857          NaN   \n",
              "5   4.000000   4.500000        NaN  4.500000  4.500000  4.500000          NaN   \n",
              "6   3.000000   3.333333   4.000000  3.666667  3.625000  3.285714          NaN   \n",
              "7   3.666667   3.441176   3.100000  3.214286  3.847826  4.136364          NaN   \n",
              "8   3.795455   4.222222   4.142857  4.085714  3.746032  3.687500     5.000000   \n",
              "9   3.611111   3.538462   2.833333  2.833333  3.233333  3.772727     4.250000   \n",
              "10  3.500000   3.000000   2.750000       NaN  3.055556  3.375000          NaN   \n",
              "11  3.179825   3.214876   3.606061  2.909722  3.181701  3.528409     3.678571   \n",
              "12  3.529101   3.536424   3.872093  3.453488  3.612782  3.985294     3.300000   \n",
              "13  4.571429   4.000000   4.000000  4.000000  4.708333  4.730769          NaN   \n",
              "14  3.790323   3.437500   3.500000  3.000000  4.294118  4.550000     4.500000   \n",
              "15  4.750000   4.500000   4.285714  3.666667  4.500000  4.833333          NaN   \n",
              "16  3.794118   3.366667   3.727273  3.650000  3.863636  5.000000          NaN   \n",
              "17  3.383721   3.476190   3.000000  3.269231  3.500000  3.275862     2.250000   \n",
              "18  3.237500   3.170213   3.764925  3.114035  3.185606  3.316327     4.000000   \n",
              "19  4.270270   4.205882   4.000000  3.928571  3.846154  4.541667          NaN   \n",
              "20  4.150943   4.182927   4.708333  4.000000  3.710526  4.159091     5.000000   \n",
              "21  4.700000   4.300000   4.500000  4.500000  3.714286  4.571429          NaN   \n",
              "22  3.550000   4.111111        NaN  4.333333  3.903846  4.125000     5.000000   \n",
              "\n",
              "       Drama   Fantasy  Film-Noir    Horror   Musical   Mystery   Romance  \\\n",
              "0   3.867925  3.600000   3.500000  3.500000  3.700000  3.500000  4.166667   \n",
              "1   3.571429  3.982759        NaN  4.000000  3.272727  3.687500  3.161765   \n",
              "2   3.890086  3.737179   4.300000  3.544444  3.583333  3.891667  3.533333   \n",
              "3   3.744898  2.833333        NaN  3.150000  3.642857  3.805556  3.450000   \n",
              "4   3.822222  3.500000        NaN  4.666667  3.714286  4.714286  3.550000   \n",
              "5   4.052632  5.000000   4.000000  4.000000  4.500000  4.000000  4.000000   \n",
              "6   4.076923  3.666667        NaN  4.000000  4.000000       NaN  4.166667   \n",
              "7   3.615385  2.818182   5.000000  3.777778  3.100000  3.888889  3.482759   \n",
              "8   3.925373  4.166667        NaN  3.238095  4.411765  3.714286  4.096774   \n",
              "9   3.475000  2.166667        NaN  3.625000  3.000000  3.500000  3.125000   \n",
              "10  3.269231  3.250000        NaN  4.000000       NaN       NaN  3.400000   \n",
              "11  3.514493  3.195312   3.750000  3.011364  3.346154  3.358974  3.417683   \n",
              "12  3.753968  3.366667   3.833333  3.324324  3.863636  3.779412  3.402778   \n",
              "13  4.588235  4.333333        NaN  4.000000       NaN  5.000000  4.687500   \n",
              "14  4.586207  3.875000        NaN  3.666667  4.000000  2.500000  4.266667   \n",
              "15  4.444444  4.250000        NaN       NaN       NaN  4.000000  4.583333   \n",
              "16  3.400000  2.625000        NaN       NaN  3.500000  5.000000  3.500000   \n",
              "17  3.123188  3.732143        NaN  3.900000  3.750000  3.750000  3.205882   \n",
              "18  3.641753  3.563291   4.000000  3.384615  2.772727  3.500000  3.434426   \n",
              "19  4.304348  3.933333        NaN  3.333333  2.250000  3.500000  3.250000   \n",
              "20  4.451220  4.473684   4.000000  4.000000  5.000000  4.346154  4.687500   \n",
              "21  4.444444  4.000000        NaN  4.000000  4.500000       NaN  4.333333   \n",
              "22  4.240506  3.666667   5.000000  5.000000  4.000000  4.000000  3.763158   \n",
              "\n",
              "      Sci-Fi  Thriller       War   Western  \n",
              "0   3.700000  4.300000  3.900000  2.500000  \n",
              "1   4.017857  3.833333  3.433333  2.500000  \n",
              "2   3.696429  3.692469  3.692308  3.750000  \n",
              "3   3.164706  3.544643  3.333333  2.833333  \n",
              "4   4.090909  4.000000  4.500000  3.000000  \n",
              "5   4.500000  3.666667  3.000000       NaN  \n",
              "6   3.000000  3.250000  5.000000  3.000000  \n",
              "7   3.307692  3.830508  4.142857  3.000000  \n",
              "8   4.034483  4.125000  3.846154  2.714286  \n",
              "9   4.000000  3.522727  3.833333       NaN  \n",
              "10       NaN  3.666667  4.000000       NaN  \n",
              "11  3.067164  3.208333  3.739130  3.100000  \n",
              "12  3.414286  3.447368  3.392857  3.648148  \n",
              "13  4.500000  4.833333  5.000000       NaN  \n",
              "14  4.111111  4.340909  4.166667       NaN  \n",
              "15  4.750000  4.750000  4.500000       NaN  \n",
              "16  3.636364  4.400000  3.250000       NaN  \n",
              "17  3.473684  3.526316  2.450000  0.875000  \n",
              "18  3.527273  3.061111  3.375000  3.333333  \n",
              "19  4.342105  4.156250  4.214286  4.562500  \n",
              "20  4.333333  4.144737  4.214286  4.500000  \n",
              "21  4.750000  4.444444  4.000000  5.000000  \n",
              "22  3.857143  3.870968  4.375000  4.000000  "
            ],
            "text/html": [
              "\n",
              "  <div id=\"df-5e8ab7c0-e1ef-4893-a410-cdf61384c411\">\n",
              "    <div class=\"colab-df-container\">\n",
              "      <div>\n",
              "<style scoped>\n",
              "    .dataframe tbody tr th:only-of-type {\n",
              "        vertical-align: middle;\n",
              "    }\n",
              "\n",
              "    .dataframe tbody tr th {\n",
              "        vertical-align: top;\n",
              "    }\n",
              "\n",
              "    .dataframe thead th {\n",
              "        text-align: right;\n",
              "    }\n",
              "</style>\n",
              "<table border=\"1\" class=\"dataframe\">\n",
              "  <thead>\n",
              "    <tr style=\"text-align: right;\">\n",
              "      <th></th>\n",
              "      <th>Action</th>\n",
              "      <th>Adventure</th>\n",
              "      <th>Animation</th>\n",
              "      <th>Children</th>\n",
              "      <th>Comedy</th>\n",
              "      <th>Crime</th>\n",
              "      <th>Documentary</th>\n",
              "      <th>Drama</th>\n",
              "      <th>Fantasy</th>\n",
              "      <th>Film-Noir</th>\n",
              "      <th>Horror</th>\n",
              "      <th>Musical</th>\n",
              "      <th>Mystery</th>\n",
              "      <th>Romance</th>\n",
              "      <th>Sci-Fi</th>\n",
              "      <th>Thriller</th>\n",
              "      <th>War</th>\n",
              "      <th>Western</th>\n",
              "    </tr>\n",
              "  </thead>\n",
              "  <tbody>\n",
              "    <tr>\n",
              "      <th>0</th>\n",
              "      <td>4.125000</td>\n",
              "      <td>3.727273</td>\n",
              "      <td>4.000000</td>\n",
              "      <td>3.833333</td>\n",
              "      <td>3.869565</td>\n",
              "      <td>4.062500</td>\n",
              "      <td>2.000000</td>\n",
              "      <td>3.867925</td>\n",
              "      <td>3.600000</td>\n",
              "      <td>3.500000</td>\n",
              "      <td>3.500000</td>\n",
              "      <td>3.700000</td>\n",
              "      <td>3.500000</td>\n",
              "      <td>4.166667</td>\n",
              "      <td>3.700000</td>\n",
              "      <td>4.300000</td>\n",
              "      <td>3.900000</td>\n",
              "      <td>2.500000</td>\n",
              "    </tr>\n",
              "    <tr>\n",
              "      <th>1</th>\n",
              "      <td>3.696970</td>\n",
              "      <td>3.906667</td>\n",
              "      <td>3.617647</td>\n",
              "      <td>3.660000</td>\n",
              "      <td>3.317460</td>\n",
              "      <td>3.138889</td>\n",
              "      <td>NaN</td>\n",
              "      <td>3.571429</td>\n",
              "      <td>3.982759</td>\n",
              "      <td>NaN</td>\n",
              "      <td>4.000000</td>\n",
              "      <td>3.272727</td>\n",
              "      <td>3.687500</td>\n",
              "      <td>3.161765</td>\n",
              "      <td>4.017857</td>\n",
              "      <td>3.833333</td>\n",
              "      <td>3.433333</td>\n",
              "      <td>2.500000</td>\n",
              "    </tr>\n",
              "    <tr>\n",
              "      <th>2</th>\n",
              "      <td>3.640719</td>\n",
              "      <td>3.689394</td>\n",
              "      <td>3.980000</td>\n",
              "      <td>3.708333</td>\n",
              "      <td>3.454545</td>\n",
              "      <td>3.886364</td>\n",
              "      <td>3.166667</td>\n",
              "      <td>3.890086</td>\n",
              "      <td>3.737179</td>\n",
              "      <td>4.300000</td>\n",
              "      <td>3.544444</td>\n",
              "      <td>3.583333</td>\n",
              "      <td>3.891667</td>\n",
              "      <td>3.533333</td>\n",
              "      <td>3.696429</td>\n",
              "      <td>3.692469</td>\n",
              "      <td>3.692308</td>\n",
              "      <td>3.750000</td>\n",
              "    </tr>\n",
              "    <tr>\n",
              "      <th>3</th>\n",
              "      <td>3.186207</td>\n",
              "      <td>3.074561</td>\n",
              "      <td>3.467742</td>\n",
              "      <td>3.214286</td>\n",
              "      <td>3.611111</td>\n",
              "      <td>3.972973</td>\n",
              "      <td>4.100000</td>\n",
              "      <td>3.744898</td>\n",
              "      <td>2.833333</td>\n",
              "      <td>NaN</td>\n",
              "      <td>3.150000</td>\n",
              "      <td>3.642857</td>\n",
              "      <td>3.805556</td>\n",
              "      <td>3.450000</td>\n",
              "      <td>3.164706</td>\n",
              "      <td>3.544643</td>\n",
              "      <td>3.333333</td>\n",
              "      <td>2.833333</td>\n",
              "    </tr>\n",
              "    <tr>\n",
              "      <th>4</th>\n",
              "      <td>3.722222</td>\n",
              "      <td>3.857143</td>\n",
              "      <td>3.750000</td>\n",
              "      <td>3.333333</td>\n",
              "      <td>3.571429</td>\n",
              "      <td>4.142857</td>\n",
              "      <td>NaN</td>\n",
              "      <td>3.822222</td>\n",
              "      <td>3.500000</td>\n",
              "      <td>NaN</td>\n",
              "      <td>4.666667</td>\n",
              "      <td>3.714286</td>\n",
              "      <td>4.714286</td>\n",
              "      <td>3.550000</td>\n",
              "      <td>4.090909</td>\n",
              "      <td>4.000000</td>\n",
              "      <td>4.500000</td>\n",
              "      <td>3.000000</td>\n",
              "    </tr>\n",
              "    <tr>\n",
              "      <th>5</th>\n",
              "      <td>4.000000</td>\n",
              "      <td>4.500000</td>\n",
              "      <td>NaN</td>\n",
              "      <td>4.500000</td>\n",
              "      <td>4.500000</td>\n",
              "      <td>4.500000</td>\n",
              "      <td>NaN</td>\n",
              "      <td>4.052632</td>\n",
              "      <td>5.000000</td>\n",
              "      <td>4.000000</td>\n",
              "      <td>4.000000</td>\n",
              "      <td>4.500000</td>\n",
              "      <td>4.000000</td>\n",
              "      <td>4.000000</td>\n",
              "      <td>4.500000</td>\n",
              "      <td>3.666667</td>\n",
              "      <td>3.000000</td>\n",
              "      <td>NaN</td>\n",
              "    </tr>\n",
              "    <tr>\n",
              "      <th>6</th>\n",
              "      <td>3.000000</td>\n",
              "      <td>3.333333</td>\n",
              "      <td>4.000000</td>\n",
              "      <td>3.666667</td>\n",
              "      <td>3.625000</td>\n",
              "      <td>3.285714</td>\n",
              "      <td>NaN</td>\n",
              "      <td>4.076923</td>\n",
              "      <td>3.666667</td>\n",
              "      <td>NaN</td>\n",
              "      <td>4.000000</td>\n",
              "      <td>4.000000</td>\n",
              "      <td>NaN</td>\n",
              "      <td>4.166667</td>\n",
              "      <td>3.000000</td>\n",
              "      <td>3.250000</td>\n",
              "      <td>5.000000</td>\n",
              "      <td>3.000000</td>\n",
              "    </tr>\n",
              "    <tr>\n",
              "      <th>7</th>\n",
              "      <td>3.666667</td>\n",
              "      <td>3.441176</td>\n",
              "      <td>3.100000</td>\n",
              "      <td>3.214286</td>\n",
              "      <td>3.847826</td>\n",
              "      <td>4.136364</td>\n",
              "      <td>NaN</td>\n",
              "      <td>3.615385</td>\n",
              "      <td>2.818182</td>\n",
              "      <td>5.000000</td>\n",
              "      <td>3.777778</td>\n",
              "      <td>3.100000</td>\n",
              "      <td>3.888889</td>\n",
              "      <td>3.482759</td>\n",
              "      <td>3.307692</td>\n",
              "      <td>3.830508</td>\n",
              "      <td>4.142857</td>\n",
              "      <td>3.000000</td>\n",
              "    </tr>\n",
              "    <tr>\n",
              "      <th>8</th>\n",
              "      <td>3.795455</td>\n",
              "      <td>4.222222</td>\n",
              "      <td>4.142857</td>\n",
              "      <td>4.085714</td>\n",
              "      <td>3.746032</td>\n",
              "      <td>3.687500</td>\n",
              "      <td>5.000000</td>\n",
              "      <td>3.925373</td>\n",
              "      <td>4.166667</td>\n",
              "      <td>NaN</td>\n",
              "      <td>3.238095</td>\n",
              "      <td>4.411765</td>\n",
              "      <td>3.714286</td>\n",
              "      <td>4.096774</td>\n",
              "      <td>4.034483</td>\n",
              "      <td>4.125000</td>\n",
              "      <td>3.846154</td>\n",
              "      <td>2.714286</td>\n",
              "    </tr>\n",
              "    <tr>\n",
              "      <th>9</th>\n",
              "      <td>3.611111</td>\n",
              "      <td>3.538462</td>\n",
              "      <td>2.833333</td>\n",
              "      <td>2.833333</td>\n",
              "      <td>3.233333</td>\n",
              "      <td>3.772727</td>\n",
              "      <td>4.250000</td>\n",
              "      <td>3.475000</td>\n",
              "      <td>2.166667</td>\n",
              "      <td>NaN</td>\n",
              "      <td>3.625000</td>\n",
              "      <td>3.000000</td>\n",
              "      <td>3.500000</td>\n",
              "      <td>3.125000</td>\n",
              "      <td>4.000000</td>\n",
              "      <td>3.522727</td>\n",
              "      <td>3.833333</td>\n",
              "      <td>NaN</td>\n",
              "    </tr>\n",
              "    <tr>\n",
              "      <th>10</th>\n",
              "      <td>3.500000</td>\n",
              "      <td>3.000000</td>\n",
              "      <td>2.750000</td>\n",
              "      <td>NaN</td>\n",
              "      <td>3.055556</td>\n",
              "      <td>3.375000</td>\n",
              "      <td>NaN</td>\n",
              "      <td>3.269231</td>\n",
              "      <td>3.250000</td>\n",
              "      <td>NaN</td>\n",
              "      <td>4.000000</td>\n",
              "      <td>NaN</td>\n",
              "      <td>NaN</td>\n",
              "      <td>3.400000</td>\n",
              "      <td>NaN</td>\n",
              "      <td>3.666667</td>\n",
              "      <td>4.000000</td>\n",
              "      <td>NaN</td>\n",
              "    </tr>\n",
              "    <tr>\n",
              "      <th>11</th>\n",
              "      <td>3.179825</td>\n",
              "      <td>3.214876</td>\n",
              "      <td>3.606061</td>\n",
              "      <td>2.909722</td>\n",
              "      <td>3.181701</td>\n",
              "      <td>3.528409</td>\n",
              "      <td>3.678571</td>\n",
              "      <td>3.514493</td>\n",
              "      <td>3.195312</td>\n",
              "      <td>3.750000</td>\n",
              "      <td>3.011364</td>\n",
              "      <td>3.346154</td>\n",
              "      <td>3.358974</td>\n",
              "      <td>3.417683</td>\n",
              "      <td>3.067164</td>\n",
              "      <td>3.208333</td>\n",
              "      <td>3.739130</td>\n",
              "      <td>3.100000</td>\n",
              "    </tr>\n",
              "    <tr>\n",
              "      <th>12</th>\n",
              "      <td>3.529101</td>\n",
              "      <td>3.536424</td>\n",
              "      <td>3.872093</td>\n",
              "      <td>3.453488</td>\n",
              "      <td>3.612782</td>\n",
              "      <td>3.985294</td>\n",
              "      <td>3.300000</td>\n",
              "      <td>3.753968</td>\n",
              "      <td>3.366667</td>\n",
              "      <td>3.833333</td>\n",
              "      <td>3.324324</td>\n",
              "      <td>3.863636</td>\n",
              "      <td>3.779412</td>\n",
              "      <td>3.402778</td>\n",
              "      <td>3.414286</td>\n",
              "      <td>3.447368</td>\n",
              "      <td>3.392857</td>\n",
              "      <td>3.648148</td>\n",
              "    </tr>\n",
              "    <tr>\n",
              "      <th>13</th>\n",
              "      <td>4.571429</td>\n",
              "      <td>4.000000</td>\n",
              "      <td>4.000000</td>\n",
              "      <td>4.000000</td>\n",
              "      <td>4.708333</td>\n",
              "      <td>4.730769</td>\n",
              "      <td>NaN</td>\n",
              "      <td>4.588235</td>\n",
              "      <td>4.333333</td>\n",
              "      <td>NaN</td>\n",
              "      <td>4.000000</td>\n",
              "      <td>NaN</td>\n",
              "      <td>5.000000</td>\n",
              "      <td>4.687500</td>\n",
              "      <td>4.500000</td>\n",
              "      <td>4.833333</td>\n",
              "      <td>5.000000</td>\n",
              "      <td>NaN</td>\n",
              "    </tr>\n",
              "    <tr>\n",
              "      <th>14</th>\n",
              "      <td>3.790323</td>\n",
              "      <td>3.437500</td>\n",
              "      <td>3.500000</td>\n",
              "      <td>3.000000</td>\n",
              "      <td>4.294118</td>\n",
              "      <td>4.550000</td>\n",
              "      <td>4.500000</td>\n",
              "      <td>4.586207</td>\n",
              "      <td>3.875000</td>\n",
              "      <td>NaN</td>\n",
              "      <td>3.666667</td>\n",
              "      <td>4.000000</td>\n",
              "      <td>2.500000</td>\n",
              "      <td>4.266667</td>\n",
              "      <td>4.111111</td>\n",
              "      <td>4.340909</td>\n",
              "      <td>4.166667</td>\n",
              "      <td>NaN</td>\n",
              "    </tr>\n",
              "    <tr>\n",
              "      <th>15</th>\n",
              "      <td>4.750000</td>\n",
              "      <td>4.500000</td>\n",
              "      <td>4.285714</td>\n",
              "      <td>3.666667</td>\n",
              "      <td>4.500000</td>\n",
              "      <td>4.833333</td>\n",
              "      <td>NaN</td>\n",
              "      <td>4.444444</td>\n",
              "      <td>4.250000</td>\n",
              "      <td>NaN</td>\n",
              "      <td>NaN</td>\n",
              "      <td>NaN</td>\n",
              "      <td>4.000000</td>\n",
              "      <td>4.583333</td>\n",
              "      <td>4.750000</td>\n",
              "      <td>4.750000</td>\n",
              "      <td>4.500000</td>\n",
              "      <td>NaN</td>\n",
              "    </tr>\n",
              "    <tr>\n",
              "      <th>16</th>\n",
              "      <td>3.794118</td>\n",
              "      <td>3.366667</td>\n",
              "      <td>3.727273</td>\n",
              "      <td>3.650000</td>\n",
              "      <td>3.863636</td>\n",
              "      <td>5.000000</td>\n",
              "      <td>NaN</td>\n",
              "      <td>3.400000</td>\n",
              "      <td>2.625000</td>\n",
              "      <td>NaN</td>\n",
              "      <td>NaN</td>\n",
              "      <td>3.500000</td>\n",
              "      <td>5.000000</td>\n",
              "      <td>3.500000</td>\n",
              "      <td>3.636364</td>\n",
              "      <td>4.400000</td>\n",
              "      <td>3.250000</td>\n",
              "      <td>NaN</td>\n",
              "    </tr>\n",
              "    <tr>\n",
              "      <th>17</th>\n",
              "      <td>3.383721</td>\n",
              "      <td>3.476190</td>\n",
              "      <td>3.000000</td>\n",
              "      <td>3.269231</td>\n",
              "      <td>3.500000</td>\n",
              "      <td>3.275862</td>\n",
              "      <td>2.250000</td>\n",
              "      <td>3.123188</td>\n",
              "      <td>3.732143</td>\n",
              "      <td>NaN</td>\n",
              "      <td>3.900000</td>\n",
              "      <td>3.750000</td>\n",
              "      <td>3.750000</td>\n",
              "      <td>3.205882</td>\n",
              "      <td>3.473684</td>\n",
              "      <td>3.526316</td>\n",
              "      <td>2.450000</td>\n",
              "      <td>0.875000</td>\n",
              "    </tr>\n",
              "    <tr>\n",
              "      <th>18</th>\n",
              "      <td>3.237500</td>\n",
              "      <td>3.170213</td>\n",
              "      <td>3.764925</td>\n",
              "      <td>3.114035</td>\n",
              "      <td>3.185606</td>\n",
              "      <td>3.316327</td>\n",
              "      <td>4.000000</td>\n",
              "      <td>3.641753</td>\n",
              "      <td>3.563291</td>\n",
              "      <td>4.000000</td>\n",
              "      <td>3.384615</td>\n",
              "      <td>2.772727</td>\n",
              "      <td>3.500000</td>\n",
              "      <td>3.434426</td>\n",
              "      <td>3.527273</td>\n",
              "      <td>3.061111</td>\n",
              "      <td>3.375000</td>\n",
              "      <td>3.333333</td>\n",
              "    </tr>\n",
              "    <tr>\n",
              "      <th>19</th>\n",
              "      <td>4.270270</td>\n",
              "      <td>4.205882</td>\n",
              "      <td>4.000000</td>\n",
              "      <td>3.928571</td>\n",
              "      <td>3.846154</td>\n",
              "      <td>4.541667</td>\n",
              "      <td>NaN</td>\n",
              "      <td>4.304348</td>\n",
              "      <td>3.933333</td>\n",
              "      <td>NaN</td>\n",
              "      <td>3.333333</td>\n",
              "      <td>2.250000</td>\n",
              "      <td>3.500000</td>\n",
              "      <td>3.250000</td>\n",
              "      <td>4.342105</td>\n",
              "      <td>4.156250</td>\n",
              "      <td>4.214286</td>\n",
              "      <td>4.562500</td>\n",
              "    </tr>\n",
              "    <tr>\n",
              "      <th>20</th>\n",
              "      <td>4.150943</td>\n",
              "      <td>4.182927</td>\n",
              "      <td>4.708333</td>\n",
              "      <td>4.000000</td>\n",
              "      <td>3.710526</td>\n",
              "      <td>4.159091</td>\n",
              "      <td>5.000000</td>\n",
              "      <td>4.451220</td>\n",
              "      <td>4.473684</td>\n",
              "      <td>4.000000</td>\n",
              "      <td>4.000000</td>\n",
              "      <td>5.000000</td>\n",
              "      <td>4.346154</td>\n",
              "      <td>4.687500</td>\n",
              "      <td>4.333333</td>\n",
              "      <td>4.144737</td>\n",
              "      <td>4.214286</td>\n",
              "      <td>4.500000</td>\n",
              "    </tr>\n",
              "    <tr>\n",
              "      <th>21</th>\n",
              "      <td>4.700000</td>\n",
              "      <td>4.300000</td>\n",
              "      <td>4.500000</td>\n",
              "      <td>4.500000</td>\n",
              "      <td>3.714286</td>\n",
              "      <td>4.571429</td>\n",
              "      <td>NaN</td>\n",
              "      <td>4.444444</td>\n",
              "      <td>4.000000</td>\n",
              "      <td>NaN</td>\n",
              "      <td>4.000000</td>\n",
              "      <td>4.500000</td>\n",
              "      <td>NaN</td>\n",
              "      <td>4.333333</td>\n",
              "      <td>4.750000</td>\n",
              "      <td>4.444444</td>\n",
              "      <td>4.000000</td>\n",
              "      <td>5.000000</td>\n",
              "    </tr>\n",
              "    <tr>\n",
              "      <th>22</th>\n",
              "      <td>3.550000</td>\n",
              "      <td>4.111111</td>\n",
              "      <td>NaN</td>\n",
              "      <td>4.333333</td>\n",
              "      <td>3.903846</td>\n",
              "      <td>4.125000</td>\n",
              "      <td>5.000000</td>\n",
              "      <td>4.240506</td>\n",
              "      <td>3.666667</td>\n",
              "      <td>5.000000</td>\n",
              "      <td>5.000000</td>\n",
              "      <td>4.000000</td>\n",
              "      <td>4.000000</td>\n",
              "      <td>3.763158</td>\n",
              "      <td>3.857143</td>\n",
              "      <td>3.870968</td>\n",
              "      <td>4.375000</td>\n",
              "      <td>4.000000</td>\n",
              "    </tr>\n",
              "  </tbody>\n",
              "</table>\n",
              "</div>\n",
              "      <button class=\"colab-df-convert\" onclick=\"convertToInteractive('df-5e8ab7c0-e1ef-4893-a410-cdf61384c411')\"\n",
              "              title=\"Convert this dataframe to an interactive table.\"\n",
              "              style=\"display:none;\">\n",
              "        \n",
              "  <svg xmlns=\"http://www.w3.org/2000/svg\" height=\"24px\"viewBox=\"0 0 24 24\"\n",
              "       width=\"24px\">\n",
              "    <path d=\"M0 0h24v24H0V0z\" fill=\"none\"/>\n",
              "    <path d=\"M18.56 5.44l.94 2.06.94-2.06 2.06-.94-2.06-.94-.94-2.06-.94 2.06-2.06.94zm-11 1L8.5 8.5l.94-2.06 2.06-.94-2.06-.94L8.5 2.5l-.94 2.06-2.06.94zm10 10l.94 2.06.94-2.06 2.06-.94-2.06-.94-.94-2.06-.94 2.06-2.06.94z\"/><path d=\"M17.41 7.96l-1.37-1.37c-.4-.4-.92-.59-1.43-.59-.52 0-1.04.2-1.43.59L10.3 9.45l-7.72 7.72c-.78.78-.78 2.05 0 2.83L4 21.41c.39.39.9.59 1.41.59.51 0 1.02-.2 1.41-.59l7.78-7.78 2.81-2.81c.8-.78.8-2.07 0-2.86zM5.41 20L4 18.59l7.72-7.72 1.47 1.35L5.41 20z\"/>\n",
              "  </svg>\n",
              "      </button>\n",
              "      \n",
              "  <style>\n",
              "    .colab-df-container {\n",
              "      display:flex;\n",
              "      flex-wrap:wrap;\n",
              "      gap: 12px;\n",
              "    }\n",
              "\n",
              "    .colab-df-convert {\n",
              "      background-color: #E8F0FE;\n",
              "      border: none;\n",
              "      border-radius: 50%;\n",
              "      cursor: pointer;\n",
              "      display: none;\n",
              "      fill: #1967D2;\n",
              "      height: 32px;\n",
              "      padding: 0 0 0 0;\n",
              "      width: 32px;\n",
              "    }\n",
              "\n",
              "    .colab-df-convert:hover {\n",
              "      background-color: #E2EBFA;\n",
              "      box-shadow: 0px 1px 2px rgba(60, 64, 67, 0.3), 0px 1px 3px 1px rgba(60, 64, 67, 0.15);\n",
              "      fill: #174EA6;\n",
              "    }\n",
              "\n",
              "    [theme=dark] .colab-df-convert {\n",
              "      background-color: #3B4455;\n",
              "      fill: #D2E3FC;\n",
              "    }\n",
              "\n",
              "    [theme=dark] .colab-df-convert:hover {\n",
              "      background-color: #434B5C;\n",
              "      box-shadow: 0px 1px 3px 1px rgba(0, 0, 0, 0.15);\n",
              "      filter: drop-shadow(0px 1px 2px rgba(0, 0, 0, 0.3));\n",
              "      fill: #FFFFFF;\n",
              "    }\n",
              "  </style>\n",
              "\n",
              "      <script>\n",
              "        const buttonEl =\n",
              "          document.querySelector('#df-5e8ab7c0-e1ef-4893-a410-cdf61384c411 button.colab-df-convert');\n",
              "        buttonEl.style.display =\n",
              "          google.colab.kernel.accessAllowed ? 'block' : 'none';\n",
              "\n",
              "        async function convertToInteractive(key) {\n",
              "          const element = document.querySelector('#df-5e8ab7c0-e1ef-4893-a410-cdf61384c411');\n",
              "          const dataTable =\n",
              "            await google.colab.kernel.invokeFunction('convertToInteractive',\n",
              "                                                     [key], {});\n",
              "          if (!dataTable) return;\n",
              "\n",
              "          const docLinkHtml = 'Like what you see? Visit the ' +\n",
              "            '<a target=\"_blank\" href=https://colab.research.google.com/notebooks/data_table.ipynb>data table notebook</a>'\n",
              "            + ' to learn more about interactive tables.';\n",
              "          element.innerHTML = '';\n",
              "          dataTable['output_type'] = 'display_data';\n",
              "          await google.colab.output.renderOutput(dataTable, element);\n",
              "          const docLink = document.createElement('div');\n",
              "          docLink.innerHTML = docLinkHtml;\n",
              "          element.appendChild(docLink);\n",
              "        }\n",
              "      </script>\n",
              "    </div>\n",
              "  </div>\n",
              "  "
            ]
          },
          "metadata": {},
          "execution_count": 71
        }
      ],
      "source": [
        "df_new = pd.DataFrame(list(zip(sr_sum, sr_sum_A, sr_sum_An, sr_sum_Ch, sr_sum_Co, sr_sum_Cr, \n",
        "                               sr_sum_Do, sr_sum_Dr, sr_sum_Fa, sr_sum_FN, sr_sum_Ho,\n",
        "                               sr_sum_Mu, sr_sum_My, sr_sum_Ro, sr_sum_SF, sr_sum_Th,\n",
        "                               sr_sum_Wa, sr_sum_We)), \n",
        "                      columns =  ['Action', 'Adventure','Animation',\n",
        "                                  'Children','Comedy', 'Crime', 'Documentary', 'Drama', \n",
        "                                  'Fantasy', 'Film-Noir', 'Horror', 'Musical',\n",
        "                                  'Mystery', 'Romance', 'Sci-Fi', 'Thriller',\n",
        "                                  'War', 'Western'])\n",
        "df_new"
      ]
    },
    {
      "cell_type": "code",
      "execution_count": 72,
      "metadata": {
        "colab": {
          "base_uri": "https://localhost:8080/",
          "height": 771
        },
        "id": "yUbG0MHrBhgA",
        "outputId": "0e713499-6345-4f3a-9da1-2b267e8e96dd"
      },
      "outputs": [
        {
          "output_type": "execute_result",
          "data": {
            "text/plain": [
              "      Action  Adventure  Animation  Children    Comedy     Crime  Documentary  \\\n",
              "0   4.125000   3.727273   4.000000  3.833333  3.869565  4.062500     2.000000   \n",
              "1   3.696970   3.906667   3.617647  3.660000  3.317460  3.138889     0.000000   \n",
              "2   3.640719   3.689394   3.980000  3.708333  3.454545  3.886364     3.166667   \n",
              "3   3.186207   3.074561   3.467742  3.214286  3.611111  3.972973     4.100000   \n",
              "4   3.722222   3.857143   3.750000  3.333333  3.571429  4.142857     0.000000   \n",
              "5   4.000000   4.500000   0.000000  4.500000  4.500000  4.500000     0.000000   \n",
              "6   3.000000   3.333333   4.000000  3.666667  3.625000  3.285714     0.000000   \n",
              "7   3.666667   3.441176   3.100000  3.214286  3.847826  4.136364     0.000000   \n",
              "8   3.795455   4.222222   4.142857  4.085714  3.746032  3.687500     5.000000   \n",
              "9   3.611111   3.538462   2.833333  2.833333  3.233333  3.772727     4.250000   \n",
              "10  3.500000   3.000000   2.750000  0.000000  3.055556  3.375000     0.000000   \n",
              "11  3.179825   3.214876   3.606061  2.909722  3.181701  3.528409     3.678571   \n",
              "12  3.529101   3.536424   3.872093  3.453488  3.612782  3.985294     3.300000   \n",
              "13  4.571429   4.000000   4.000000  4.000000  4.708333  4.730769     0.000000   \n",
              "14  3.790323   3.437500   3.500000  3.000000  4.294118  4.550000     4.500000   \n",
              "15  4.750000   4.500000   4.285714  3.666667  4.500000  4.833333     0.000000   \n",
              "16  3.794118   3.366667   3.727273  3.650000  3.863636  5.000000     0.000000   \n",
              "17  3.383721   3.476190   3.000000  3.269231  3.500000  3.275862     2.250000   \n",
              "18  3.237500   3.170213   3.764925  3.114035  3.185606  3.316327     4.000000   \n",
              "19  4.270270   4.205882   4.000000  3.928571  3.846154  4.541667     0.000000   \n",
              "20  4.150943   4.182927   4.708333  4.000000  3.710526  4.159091     5.000000   \n",
              "21  4.700000   4.300000   4.500000  4.500000  3.714286  4.571429     0.000000   \n",
              "22  3.550000   4.111111   0.000000  4.333333  3.903846  4.125000     5.000000   \n",
              "\n",
              "       Drama   Fantasy  Film-Noir    Horror   Musical   Mystery   Romance  \\\n",
              "0   3.867925  3.600000   3.500000  3.500000  3.700000  3.500000  4.166667   \n",
              "1   3.571429  3.982759   0.000000  4.000000  3.272727  3.687500  3.161765   \n",
              "2   3.890086  3.737179   4.300000  3.544444  3.583333  3.891667  3.533333   \n",
              "3   3.744898  2.833333   0.000000  3.150000  3.642857  3.805556  3.450000   \n",
              "4   3.822222  3.500000   0.000000  4.666667  3.714286  4.714286  3.550000   \n",
              "5   4.052632  5.000000   4.000000  4.000000  4.500000  4.000000  4.000000   \n",
              "6   4.076923  3.666667   0.000000  4.000000  4.000000  0.000000  4.166667   \n",
              "7   3.615385  2.818182   5.000000  3.777778  3.100000  3.888889  3.482759   \n",
              "8   3.925373  4.166667   0.000000  3.238095  4.411765  3.714286  4.096774   \n",
              "9   3.475000  2.166667   0.000000  3.625000  3.000000  3.500000  3.125000   \n",
              "10  3.269231  3.250000   0.000000  4.000000  0.000000  0.000000  3.400000   \n",
              "11  3.514493  3.195312   3.750000  3.011364  3.346154  3.358974  3.417683   \n",
              "12  3.753968  3.366667   3.833333  3.324324  3.863636  3.779412  3.402778   \n",
              "13  4.588235  4.333333   0.000000  4.000000  0.000000  5.000000  4.687500   \n",
              "14  4.586207  3.875000   0.000000  3.666667  4.000000  2.500000  4.266667   \n",
              "15  4.444444  4.250000   0.000000  0.000000  0.000000  4.000000  4.583333   \n",
              "16  3.400000  2.625000   0.000000  0.000000  3.500000  5.000000  3.500000   \n",
              "17  3.123188  3.732143   0.000000  3.900000  3.750000  3.750000  3.205882   \n",
              "18  3.641753  3.563291   4.000000  3.384615  2.772727  3.500000  3.434426   \n",
              "19  4.304348  3.933333   0.000000  3.333333  2.250000  3.500000  3.250000   \n",
              "20  4.451220  4.473684   4.000000  4.000000  5.000000  4.346154  4.687500   \n",
              "21  4.444444  4.000000   0.000000  4.000000  4.500000  0.000000  4.333333   \n",
              "22  4.240506  3.666667   5.000000  5.000000  4.000000  4.000000  3.763158   \n",
              "\n",
              "      Sci-Fi  Thriller       War   Western  \n",
              "0   3.700000  4.300000  3.900000  2.500000  \n",
              "1   4.017857  3.833333  3.433333  2.500000  \n",
              "2   3.696429  3.692469  3.692308  3.750000  \n",
              "3   3.164706  3.544643  3.333333  2.833333  \n",
              "4   4.090909  4.000000  4.500000  3.000000  \n",
              "5   4.500000  3.666667  3.000000  0.000000  \n",
              "6   3.000000  3.250000  5.000000  3.000000  \n",
              "7   3.307692  3.830508  4.142857  3.000000  \n",
              "8   4.034483  4.125000  3.846154  2.714286  \n",
              "9   4.000000  3.522727  3.833333  0.000000  \n",
              "10  0.000000  3.666667  4.000000  0.000000  \n",
              "11  3.067164  3.208333  3.739130  3.100000  \n",
              "12  3.414286  3.447368  3.392857  3.648148  \n",
              "13  4.500000  4.833333  5.000000  0.000000  \n",
              "14  4.111111  4.340909  4.166667  0.000000  \n",
              "15  4.750000  4.750000  4.500000  0.000000  \n",
              "16  3.636364  4.400000  3.250000  0.000000  \n",
              "17  3.473684  3.526316  2.450000  0.875000  \n",
              "18  3.527273  3.061111  3.375000  3.333333  \n",
              "19  4.342105  4.156250  4.214286  4.562500  \n",
              "20  4.333333  4.144737  4.214286  4.500000  \n",
              "21  4.750000  4.444444  4.000000  5.000000  \n",
              "22  3.857143  3.870968  4.375000  4.000000  "
            ],
            "text/html": [
              "\n",
              "  <div id=\"df-2452b434-7492-4497-b1e3-49071409f9bd\">\n",
              "    <div class=\"colab-df-container\">\n",
              "      <div>\n",
              "<style scoped>\n",
              "    .dataframe tbody tr th:only-of-type {\n",
              "        vertical-align: middle;\n",
              "    }\n",
              "\n",
              "    .dataframe tbody tr th {\n",
              "        vertical-align: top;\n",
              "    }\n",
              "\n",
              "    .dataframe thead th {\n",
              "        text-align: right;\n",
              "    }\n",
              "</style>\n",
              "<table border=\"1\" class=\"dataframe\">\n",
              "  <thead>\n",
              "    <tr style=\"text-align: right;\">\n",
              "      <th></th>\n",
              "      <th>Action</th>\n",
              "      <th>Adventure</th>\n",
              "      <th>Animation</th>\n",
              "      <th>Children</th>\n",
              "      <th>Comedy</th>\n",
              "      <th>Crime</th>\n",
              "      <th>Documentary</th>\n",
              "      <th>Drama</th>\n",
              "      <th>Fantasy</th>\n",
              "      <th>Film-Noir</th>\n",
              "      <th>Horror</th>\n",
              "      <th>Musical</th>\n",
              "      <th>Mystery</th>\n",
              "      <th>Romance</th>\n",
              "      <th>Sci-Fi</th>\n",
              "      <th>Thriller</th>\n",
              "      <th>War</th>\n",
              "      <th>Western</th>\n",
              "    </tr>\n",
              "  </thead>\n",
              "  <tbody>\n",
              "    <tr>\n",
              "      <th>0</th>\n",
              "      <td>4.125000</td>\n",
              "      <td>3.727273</td>\n",
              "      <td>4.000000</td>\n",
              "      <td>3.833333</td>\n",
              "      <td>3.869565</td>\n",
              "      <td>4.062500</td>\n",
              "      <td>2.000000</td>\n",
              "      <td>3.867925</td>\n",
              "      <td>3.600000</td>\n",
              "      <td>3.500000</td>\n",
              "      <td>3.500000</td>\n",
              "      <td>3.700000</td>\n",
              "      <td>3.500000</td>\n",
              "      <td>4.166667</td>\n",
              "      <td>3.700000</td>\n",
              "      <td>4.300000</td>\n",
              "      <td>3.900000</td>\n",
              "      <td>2.500000</td>\n",
              "    </tr>\n",
              "    <tr>\n",
              "      <th>1</th>\n",
              "      <td>3.696970</td>\n",
              "      <td>3.906667</td>\n",
              "      <td>3.617647</td>\n",
              "      <td>3.660000</td>\n",
              "      <td>3.317460</td>\n",
              "      <td>3.138889</td>\n",
              "      <td>0.000000</td>\n",
              "      <td>3.571429</td>\n",
              "      <td>3.982759</td>\n",
              "      <td>0.000000</td>\n",
              "      <td>4.000000</td>\n",
              "      <td>3.272727</td>\n",
              "      <td>3.687500</td>\n",
              "      <td>3.161765</td>\n",
              "      <td>4.017857</td>\n",
              "      <td>3.833333</td>\n",
              "      <td>3.433333</td>\n",
              "      <td>2.500000</td>\n",
              "    </tr>\n",
              "    <tr>\n",
              "      <th>2</th>\n",
              "      <td>3.640719</td>\n",
              "      <td>3.689394</td>\n",
              "      <td>3.980000</td>\n",
              "      <td>3.708333</td>\n",
              "      <td>3.454545</td>\n",
              "      <td>3.886364</td>\n",
              "      <td>3.166667</td>\n",
              "      <td>3.890086</td>\n",
              "      <td>3.737179</td>\n",
              "      <td>4.300000</td>\n",
              "      <td>3.544444</td>\n",
              "      <td>3.583333</td>\n",
              "      <td>3.891667</td>\n",
              "      <td>3.533333</td>\n",
              "      <td>3.696429</td>\n",
              "      <td>3.692469</td>\n",
              "      <td>3.692308</td>\n",
              "      <td>3.750000</td>\n",
              "    </tr>\n",
              "    <tr>\n",
              "      <th>3</th>\n",
              "      <td>3.186207</td>\n",
              "      <td>3.074561</td>\n",
              "      <td>3.467742</td>\n",
              "      <td>3.214286</td>\n",
              "      <td>3.611111</td>\n",
              "      <td>3.972973</td>\n",
              "      <td>4.100000</td>\n",
              "      <td>3.744898</td>\n",
              "      <td>2.833333</td>\n",
              "      <td>0.000000</td>\n",
              "      <td>3.150000</td>\n",
              "      <td>3.642857</td>\n",
              "      <td>3.805556</td>\n",
              "      <td>3.450000</td>\n",
              "      <td>3.164706</td>\n",
              "      <td>3.544643</td>\n",
              "      <td>3.333333</td>\n",
              "      <td>2.833333</td>\n",
              "    </tr>\n",
              "    <tr>\n",
              "      <th>4</th>\n",
              "      <td>3.722222</td>\n",
              "      <td>3.857143</td>\n",
              "      <td>3.750000</td>\n",
              "      <td>3.333333</td>\n",
              "      <td>3.571429</td>\n",
              "      <td>4.142857</td>\n",
              "      <td>0.000000</td>\n",
              "      <td>3.822222</td>\n",
              "      <td>3.500000</td>\n",
              "      <td>0.000000</td>\n",
              "      <td>4.666667</td>\n",
              "      <td>3.714286</td>\n",
              "      <td>4.714286</td>\n",
              "      <td>3.550000</td>\n",
              "      <td>4.090909</td>\n",
              "      <td>4.000000</td>\n",
              "      <td>4.500000</td>\n",
              "      <td>3.000000</td>\n",
              "    </tr>\n",
              "    <tr>\n",
              "      <th>5</th>\n",
              "      <td>4.000000</td>\n",
              "      <td>4.500000</td>\n",
              "      <td>0.000000</td>\n",
              "      <td>4.500000</td>\n",
              "      <td>4.500000</td>\n",
              "      <td>4.500000</td>\n",
              "      <td>0.000000</td>\n",
              "      <td>4.052632</td>\n",
              "      <td>5.000000</td>\n",
              "      <td>4.000000</td>\n",
              "      <td>4.000000</td>\n",
              "      <td>4.500000</td>\n",
              "      <td>4.000000</td>\n",
              "      <td>4.000000</td>\n",
              "      <td>4.500000</td>\n",
              "      <td>3.666667</td>\n",
              "      <td>3.000000</td>\n",
              "      <td>0.000000</td>\n",
              "    </tr>\n",
              "    <tr>\n",
              "      <th>6</th>\n",
              "      <td>3.000000</td>\n",
              "      <td>3.333333</td>\n",
              "      <td>4.000000</td>\n",
              "      <td>3.666667</td>\n",
              "      <td>3.625000</td>\n",
              "      <td>3.285714</td>\n",
              "      <td>0.000000</td>\n",
              "      <td>4.076923</td>\n",
              "      <td>3.666667</td>\n",
              "      <td>0.000000</td>\n",
              "      <td>4.000000</td>\n",
              "      <td>4.000000</td>\n",
              "      <td>0.000000</td>\n",
              "      <td>4.166667</td>\n",
              "      <td>3.000000</td>\n",
              "      <td>3.250000</td>\n",
              "      <td>5.000000</td>\n",
              "      <td>3.000000</td>\n",
              "    </tr>\n",
              "    <tr>\n",
              "      <th>7</th>\n",
              "      <td>3.666667</td>\n",
              "      <td>3.441176</td>\n",
              "      <td>3.100000</td>\n",
              "      <td>3.214286</td>\n",
              "      <td>3.847826</td>\n",
              "      <td>4.136364</td>\n",
              "      <td>0.000000</td>\n",
              "      <td>3.615385</td>\n",
              "      <td>2.818182</td>\n",
              "      <td>5.000000</td>\n",
              "      <td>3.777778</td>\n",
              "      <td>3.100000</td>\n",
              "      <td>3.888889</td>\n",
              "      <td>3.482759</td>\n",
              "      <td>3.307692</td>\n",
              "      <td>3.830508</td>\n",
              "      <td>4.142857</td>\n",
              "      <td>3.000000</td>\n",
              "    </tr>\n",
              "    <tr>\n",
              "      <th>8</th>\n",
              "      <td>3.795455</td>\n",
              "      <td>4.222222</td>\n",
              "      <td>4.142857</td>\n",
              "      <td>4.085714</td>\n",
              "      <td>3.746032</td>\n",
              "      <td>3.687500</td>\n",
              "      <td>5.000000</td>\n",
              "      <td>3.925373</td>\n",
              "      <td>4.166667</td>\n",
              "      <td>0.000000</td>\n",
              "      <td>3.238095</td>\n",
              "      <td>4.411765</td>\n",
              "      <td>3.714286</td>\n",
              "      <td>4.096774</td>\n",
              "      <td>4.034483</td>\n",
              "      <td>4.125000</td>\n",
              "      <td>3.846154</td>\n",
              "      <td>2.714286</td>\n",
              "    </tr>\n",
              "    <tr>\n",
              "      <th>9</th>\n",
              "      <td>3.611111</td>\n",
              "      <td>3.538462</td>\n",
              "      <td>2.833333</td>\n",
              "      <td>2.833333</td>\n",
              "      <td>3.233333</td>\n",
              "      <td>3.772727</td>\n",
              "      <td>4.250000</td>\n",
              "      <td>3.475000</td>\n",
              "      <td>2.166667</td>\n",
              "      <td>0.000000</td>\n",
              "      <td>3.625000</td>\n",
              "      <td>3.000000</td>\n",
              "      <td>3.500000</td>\n",
              "      <td>3.125000</td>\n",
              "      <td>4.000000</td>\n",
              "      <td>3.522727</td>\n",
              "      <td>3.833333</td>\n",
              "      <td>0.000000</td>\n",
              "    </tr>\n",
              "    <tr>\n",
              "      <th>10</th>\n",
              "      <td>3.500000</td>\n",
              "      <td>3.000000</td>\n",
              "      <td>2.750000</td>\n",
              "      <td>0.000000</td>\n",
              "      <td>3.055556</td>\n",
              "      <td>3.375000</td>\n",
              "      <td>0.000000</td>\n",
              "      <td>3.269231</td>\n",
              "      <td>3.250000</td>\n",
              "      <td>0.000000</td>\n",
              "      <td>4.000000</td>\n",
              "      <td>0.000000</td>\n",
              "      <td>0.000000</td>\n",
              "      <td>3.400000</td>\n",
              "      <td>0.000000</td>\n",
              "      <td>3.666667</td>\n",
              "      <td>4.000000</td>\n",
              "      <td>0.000000</td>\n",
              "    </tr>\n",
              "    <tr>\n",
              "      <th>11</th>\n",
              "      <td>3.179825</td>\n",
              "      <td>3.214876</td>\n",
              "      <td>3.606061</td>\n",
              "      <td>2.909722</td>\n",
              "      <td>3.181701</td>\n",
              "      <td>3.528409</td>\n",
              "      <td>3.678571</td>\n",
              "      <td>3.514493</td>\n",
              "      <td>3.195312</td>\n",
              "      <td>3.750000</td>\n",
              "      <td>3.011364</td>\n",
              "      <td>3.346154</td>\n",
              "      <td>3.358974</td>\n",
              "      <td>3.417683</td>\n",
              "      <td>3.067164</td>\n",
              "      <td>3.208333</td>\n",
              "      <td>3.739130</td>\n",
              "      <td>3.100000</td>\n",
              "    </tr>\n",
              "    <tr>\n",
              "      <th>12</th>\n",
              "      <td>3.529101</td>\n",
              "      <td>3.536424</td>\n",
              "      <td>3.872093</td>\n",
              "      <td>3.453488</td>\n",
              "      <td>3.612782</td>\n",
              "      <td>3.985294</td>\n",
              "      <td>3.300000</td>\n",
              "      <td>3.753968</td>\n",
              "      <td>3.366667</td>\n",
              "      <td>3.833333</td>\n",
              "      <td>3.324324</td>\n",
              "      <td>3.863636</td>\n",
              "      <td>3.779412</td>\n",
              "      <td>3.402778</td>\n",
              "      <td>3.414286</td>\n",
              "      <td>3.447368</td>\n",
              "      <td>3.392857</td>\n",
              "      <td>3.648148</td>\n",
              "    </tr>\n",
              "    <tr>\n",
              "      <th>13</th>\n",
              "      <td>4.571429</td>\n",
              "      <td>4.000000</td>\n",
              "      <td>4.000000</td>\n",
              "      <td>4.000000</td>\n",
              "      <td>4.708333</td>\n",
              "      <td>4.730769</td>\n",
              "      <td>0.000000</td>\n",
              "      <td>4.588235</td>\n",
              "      <td>4.333333</td>\n",
              "      <td>0.000000</td>\n",
              "      <td>4.000000</td>\n",
              "      <td>0.000000</td>\n",
              "      <td>5.000000</td>\n",
              "      <td>4.687500</td>\n",
              "      <td>4.500000</td>\n",
              "      <td>4.833333</td>\n",
              "      <td>5.000000</td>\n",
              "      <td>0.000000</td>\n",
              "    </tr>\n",
              "    <tr>\n",
              "      <th>14</th>\n",
              "      <td>3.790323</td>\n",
              "      <td>3.437500</td>\n",
              "      <td>3.500000</td>\n",
              "      <td>3.000000</td>\n",
              "      <td>4.294118</td>\n",
              "      <td>4.550000</td>\n",
              "      <td>4.500000</td>\n",
              "      <td>4.586207</td>\n",
              "      <td>3.875000</td>\n",
              "      <td>0.000000</td>\n",
              "      <td>3.666667</td>\n",
              "      <td>4.000000</td>\n",
              "      <td>2.500000</td>\n",
              "      <td>4.266667</td>\n",
              "      <td>4.111111</td>\n",
              "      <td>4.340909</td>\n",
              "      <td>4.166667</td>\n",
              "      <td>0.000000</td>\n",
              "    </tr>\n",
              "    <tr>\n",
              "      <th>15</th>\n",
              "      <td>4.750000</td>\n",
              "      <td>4.500000</td>\n",
              "      <td>4.285714</td>\n",
              "      <td>3.666667</td>\n",
              "      <td>4.500000</td>\n",
              "      <td>4.833333</td>\n",
              "      <td>0.000000</td>\n",
              "      <td>4.444444</td>\n",
              "      <td>4.250000</td>\n",
              "      <td>0.000000</td>\n",
              "      <td>0.000000</td>\n",
              "      <td>0.000000</td>\n",
              "      <td>4.000000</td>\n",
              "      <td>4.583333</td>\n",
              "      <td>4.750000</td>\n",
              "      <td>4.750000</td>\n",
              "      <td>4.500000</td>\n",
              "      <td>0.000000</td>\n",
              "    </tr>\n",
              "    <tr>\n",
              "      <th>16</th>\n",
              "      <td>3.794118</td>\n",
              "      <td>3.366667</td>\n",
              "      <td>3.727273</td>\n",
              "      <td>3.650000</td>\n",
              "      <td>3.863636</td>\n",
              "      <td>5.000000</td>\n",
              "      <td>0.000000</td>\n",
              "      <td>3.400000</td>\n",
              "      <td>2.625000</td>\n",
              "      <td>0.000000</td>\n",
              "      <td>0.000000</td>\n",
              "      <td>3.500000</td>\n",
              "      <td>5.000000</td>\n",
              "      <td>3.500000</td>\n",
              "      <td>3.636364</td>\n",
              "      <td>4.400000</td>\n",
              "      <td>3.250000</td>\n",
              "      <td>0.000000</td>\n",
              "    </tr>\n",
              "    <tr>\n",
              "      <th>17</th>\n",
              "      <td>3.383721</td>\n",
              "      <td>3.476190</td>\n",
              "      <td>3.000000</td>\n",
              "      <td>3.269231</td>\n",
              "      <td>3.500000</td>\n",
              "      <td>3.275862</td>\n",
              "      <td>2.250000</td>\n",
              "      <td>3.123188</td>\n",
              "      <td>3.732143</td>\n",
              "      <td>0.000000</td>\n",
              "      <td>3.900000</td>\n",
              "      <td>3.750000</td>\n",
              "      <td>3.750000</td>\n",
              "      <td>3.205882</td>\n",
              "      <td>3.473684</td>\n",
              "      <td>3.526316</td>\n",
              "      <td>2.450000</td>\n",
              "      <td>0.875000</td>\n",
              "    </tr>\n",
              "    <tr>\n",
              "      <th>18</th>\n",
              "      <td>3.237500</td>\n",
              "      <td>3.170213</td>\n",
              "      <td>3.764925</td>\n",
              "      <td>3.114035</td>\n",
              "      <td>3.185606</td>\n",
              "      <td>3.316327</td>\n",
              "      <td>4.000000</td>\n",
              "      <td>3.641753</td>\n",
              "      <td>3.563291</td>\n",
              "      <td>4.000000</td>\n",
              "      <td>3.384615</td>\n",
              "      <td>2.772727</td>\n",
              "      <td>3.500000</td>\n",
              "      <td>3.434426</td>\n",
              "      <td>3.527273</td>\n",
              "      <td>3.061111</td>\n",
              "      <td>3.375000</td>\n",
              "      <td>3.333333</td>\n",
              "    </tr>\n",
              "    <tr>\n",
              "      <th>19</th>\n",
              "      <td>4.270270</td>\n",
              "      <td>4.205882</td>\n",
              "      <td>4.000000</td>\n",
              "      <td>3.928571</td>\n",
              "      <td>3.846154</td>\n",
              "      <td>4.541667</td>\n",
              "      <td>0.000000</td>\n",
              "      <td>4.304348</td>\n",
              "      <td>3.933333</td>\n",
              "      <td>0.000000</td>\n",
              "      <td>3.333333</td>\n",
              "      <td>2.250000</td>\n",
              "      <td>3.500000</td>\n",
              "      <td>3.250000</td>\n",
              "      <td>4.342105</td>\n",
              "      <td>4.156250</td>\n",
              "      <td>4.214286</td>\n",
              "      <td>4.562500</td>\n",
              "    </tr>\n",
              "    <tr>\n",
              "      <th>20</th>\n",
              "      <td>4.150943</td>\n",
              "      <td>4.182927</td>\n",
              "      <td>4.708333</td>\n",
              "      <td>4.000000</td>\n",
              "      <td>3.710526</td>\n",
              "      <td>4.159091</td>\n",
              "      <td>5.000000</td>\n",
              "      <td>4.451220</td>\n",
              "      <td>4.473684</td>\n",
              "      <td>4.000000</td>\n",
              "      <td>4.000000</td>\n",
              "      <td>5.000000</td>\n",
              "      <td>4.346154</td>\n",
              "      <td>4.687500</td>\n",
              "      <td>4.333333</td>\n",
              "      <td>4.144737</td>\n",
              "      <td>4.214286</td>\n",
              "      <td>4.500000</td>\n",
              "    </tr>\n",
              "    <tr>\n",
              "      <th>21</th>\n",
              "      <td>4.700000</td>\n",
              "      <td>4.300000</td>\n",
              "      <td>4.500000</td>\n",
              "      <td>4.500000</td>\n",
              "      <td>3.714286</td>\n",
              "      <td>4.571429</td>\n",
              "      <td>0.000000</td>\n",
              "      <td>4.444444</td>\n",
              "      <td>4.000000</td>\n",
              "      <td>0.000000</td>\n",
              "      <td>4.000000</td>\n",
              "      <td>4.500000</td>\n",
              "      <td>0.000000</td>\n",
              "      <td>4.333333</td>\n",
              "      <td>4.750000</td>\n",
              "      <td>4.444444</td>\n",
              "      <td>4.000000</td>\n",
              "      <td>5.000000</td>\n",
              "    </tr>\n",
              "    <tr>\n",
              "      <th>22</th>\n",
              "      <td>3.550000</td>\n",
              "      <td>4.111111</td>\n",
              "      <td>0.000000</td>\n",
              "      <td>4.333333</td>\n",
              "      <td>3.903846</td>\n",
              "      <td>4.125000</td>\n",
              "      <td>5.000000</td>\n",
              "      <td>4.240506</td>\n",
              "      <td>3.666667</td>\n",
              "      <td>5.000000</td>\n",
              "      <td>5.000000</td>\n",
              "      <td>4.000000</td>\n",
              "      <td>4.000000</td>\n",
              "      <td>3.763158</td>\n",
              "      <td>3.857143</td>\n",
              "      <td>3.870968</td>\n",
              "      <td>4.375000</td>\n",
              "      <td>4.000000</td>\n",
              "    </tr>\n",
              "  </tbody>\n",
              "</table>\n",
              "</div>\n",
              "      <button class=\"colab-df-convert\" onclick=\"convertToInteractive('df-2452b434-7492-4497-b1e3-49071409f9bd')\"\n",
              "              title=\"Convert this dataframe to an interactive table.\"\n",
              "              style=\"display:none;\">\n",
              "        \n",
              "  <svg xmlns=\"http://www.w3.org/2000/svg\" height=\"24px\"viewBox=\"0 0 24 24\"\n",
              "       width=\"24px\">\n",
              "    <path d=\"M0 0h24v24H0V0z\" fill=\"none\"/>\n",
              "    <path d=\"M18.56 5.44l.94 2.06.94-2.06 2.06-.94-2.06-.94-.94-2.06-.94 2.06-2.06.94zm-11 1L8.5 8.5l.94-2.06 2.06-.94-2.06-.94L8.5 2.5l-.94 2.06-2.06.94zm10 10l.94 2.06.94-2.06 2.06-.94-2.06-.94-.94-2.06-.94 2.06-2.06.94z\"/><path d=\"M17.41 7.96l-1.37-1.37c-.4-.4-.92-.59-1.43-.59-.52 0-1.04.2-1.43.59L10.3 9.45l-7.72 7.72c-.78.78-.78 2.05 0 2.83L4 21.41c.39.39.9.59 1.41.59.51 0 1.02-.2 1.41-.59l7.78-7.78 2.81-2.81c.8-.78.8-2.07 0-2.86zM5.41 20L4 18.59l7.72-7.72 1.47 1.35L5.41 20z\"/>\n",
              "  </svg>\n",
              "      </button>\n",
              "      \n",
              "  <style>\n",
              "    .colab-df-container {\n",
              "      display:flex;\n",
              "      flex-wrap:wrap;\n",
              "      gap: 12px;\n",
              "    }\n",
              "\n",
              "    .colab-df-convert {\n",
              "      background-color: #E8F0FE;\n",
              "      border: none;\n",
              "      border-radius: 50%;\n",
              "      cursor: pointer;\n",
              "      display: none;\n",
              "      fill: #1967D2;\n",
              "      height: 32px;\n",
              "      padding: 0 0 0 0;\n",
              "      width: 32px;\n",
              "    }\n",
              "\n",
              "    .colab-df-convert:hover {\n",
              "      background-color: #E2EBFA;\n",
              "      box-shadow: 0px 1px 2px rgba(60, 64, 67, 0.3), 0px 1px 3px 1px rgba(60, 64, 67, 0.15);\n",
              "      fill: #174EA6;\n",
              "    }\n",
              "\n",
              "    [theme=dark] .colab-df-convert {\n",
              "      background-color: #3B4455;\n",
              "      fill: #D2E3FC;\n",
              "    }\n",
              "\n",
              "    [theme=dark] .colab-df-convert:hover {\n",
              "      background-color: #434B5C;\n",
              "      box-shadow: 0px 1px 3px 1px rgba(0, 0, 0, 0.15);\n",
              "      filter: drop-shadow(0px 1px 2px rgba(0, 0, 0, 0.3));\n",
              "      fill: #FFFFFF;\n",
              "    }\n",
              "  </style>\n",
              "\n",
              "      <script>\n",
              "        const buttonEl =\n",
              "          document.querySelector('#df-2452b434-7492-4497-b1e3-49071409f9bd button.colab-df-convert');\n",
              "        buttonEl.style.display =\n",
              "          google.colab.kernel.accessAllowed ? 'block' : 'none';\n",
              "\n",
              "        async function convertToInteractive(key) {\n",
              "          const element = document.querySelector('#df-2452b434-7492-4497-b1e3-49071409f9bd');\n",
              "          const dataTable =\n",
              "            await google.colab.kernel.invokeFunction('convertToInteractive',\n",
              "                                                     [key], {});\n",
              "          if (!dataTable) return;\n",
              "\n",
              "          const docLinkHtml = 'Like what you see? Visit the ' +\n",
              "            '<a target=\"_blank\" href=https://colab.research.google.com/notebooks/data_table.ipynb>data table notebook</a>'\n",
              "            + ' to learn more about interactive tables.';\n",
              "          element.innerHTML = '';\n",
              "          dataTable['output_type'] = 'display_data';\n",
              "          await google.colab.output.renderOutput(dataTable, element);\n",
              "          const docLink = document.createElement('div');\n",
              "          docLink.innerHTML = docLinkHtml;\n",
              "          element.appendChild(docLink);\n",
              "        }\n",
              "      </script>\n",
              "    </div>\n",
              "  </div>\n",
              "  "
            ]
          },
          "metadata": {},
          "execution_count": 72
        }
      ],
      "source": [
        "#  Замена NaN нулями\n",
        "df_new = df_new.fillna(0)\n",
        "df_new"
      ]
    },
    {
      "cell_type": "code",
      "execution_count": 73,
      "metadata": {
        "colab": {
          "base_uri": "https://localhost:8080/",
          "height": 300
        },
        "id": "nRt1vS67ARhv",
        "outputId": "00e9febc-de0a-4966-c18c-4b974f235e8d"
      },
      "outputs": [
        {
          "output_type": "execute_result",
          "data": {
            "text/plain": [
              "          Action  Adventure  Animation   Children     Comedy      Crime  \\\n",
              "count  23.000000  23.000000  23.000000  23.000000  23.000000  23.000000   \n",
              "mean    3.776156   3.730088   3.417651   3.472797   3.732732   4.025133   \n",
              "std     0.476591   0.456762   1.183811   0.895713   0.437886   0.543135   \n",
              "min     3.000000   3.000000   0.000000   0.000000   3.055556   3.138889   \n",
              "25%     3.514550   3.402083   3.283871   3.214286   3.477273   3.607955   \n",
              "50%     3.696970   3.689394   3.750000   3.660000   3.710526   4.062500   \n",
              "75%     4.062500   4.147019   4.000000   3.964286   3.866601   4.520833   \n",
              "max     4.750000   4.500000   4.708333   4.500000   4.708333   5.000000   \n",
              "\n",
              "       Documentary      Drama    Fantasy  Film-Noir     Horror    Musical  \\\n",
              "count    23.000000  23.000000  23.000000  23.000000  23.000000  23.000000   \n",
              "mean      2.010663   3.904518   3.640691   1.625362   3.440099   3.213369   \n",
              "std       2.096004   0.429810   0.641773   2.096919   1.178654   1.407390   \n",
              "min       0.000000   3.123188   2.166667   0.000000   0.000000   0.000000   \n",
              "25%       0.000000   3.593407   3.308333   0.000000   3.328829   3.050000   \n",
              "50%       2.000000   3.867925   3.666667   0.000000   3.666667   3.642857   \n",
              "75%       4.050000   4.272427   3.991379   3.916667   4.000000   4.000000   \n",
              "max       5.000000   4.588235   5.000000   5.000000   5.000000   5.000000   \n",
              "\n",
              "         Mystery    Romance     Sci-Fi   Thriller        War    Western  \n",
              "count  23.000000  23.000000  23.000000  23.000000  23.000000  23.000000  \n",
              "mean    3.366814   3.768053   3.707589   3.896338   3.885154   2.274635  \n",
              "std     1.436885   0.505820   0.956656   0.479590   0.610189   1.742759  \n",
              "min     0.000000   3.125000   0.000000   3.061111   2.450000   0.000000  \n",
              "25%     3.500000   3.410230   3.443985   3.535479   3.413095   0.000000  \n",
              "50%     3.750000   3.533333   3.857143   3.833333   3.900000   2.833333  \n",
              "75%     4.000000   4.166667   4.222222   4.228125   4.214286   3.490741  \n",
              "max     5.000000   4.687500   4.750000   4.833333   5.000000   5.000000  "
            ],
            "text/html": [
              "\n",
              "  <div id=\"df-cec6f012-747e-42de-834d-155fbbe02145\">\n",
              "    <div class=\"colab-df-container\">\n",
              "      <div>\n",
              "<style scoped>\n",
              "    .dataframe tbody tr th:only-of-type {\n",
              "        vertical-align: middle;\n",
              "    }\n",
              "\n",
              "    .dataframe tbody tr th {\n",
              "        vertical-align: top;\n",
              "    }\n",
              "\n",
              "    .dataframe thead th {\n",
              "        text-align: right;\n",
              "    }\n",
              "</style>\n",
              "<table border=\"1\" class=\"dataframe\">\n",
              "  <thead>\n",
              "    <tr style=\"text-align: right;\">\n",
              "      <th></th>\n",
              "      <th>Action</th>\n",
              "      <th>Adventure</th>\n",
              "      <th>Animation</th>\n",
              "      <th>Children</th>\n",
              "      <th>Comedy</th>\n",
              "      <th>Crime</th>\n",
              "      <th>Documentary</th>\n",
              "      <th>Drama</th>\n",
              "      <th>Fantasy</th>\n",
              "      <th>Film-Noir</th>\n",
              "      <th>Horror</th>\n",
              "      <th>Musical</th>\n",
              "      <th>Mystery</th>\n",
              "      <th>Romance</th>\n",
              "      <th>Sci-Fi</th>\n",
              "      <th>Thriller</th>\n",
              "      <th>War</th>\n",
              "      <th>Western</th>\n",
              "    </tr>\n",
              "  </thead>\n",
              "  <tbody>\n",
              "    <tr>\n",
              "      <th>count</th>\n",
              "      <td>23.000000</td>\n",
              "      <td>23.000000</td>\n",
              "      <td>23.000000</td>\n",
              "      <td>23.000000</td>\n",
              "      <td>23.000000</td>\n",
              "      <td>23.000000</td>\n",
              "      <td>23.000000</td>\n",
              "      <td>23.000000</td>\n",
              "      <td>23.000000</td>\n",
              "      <td>23.000000</td>\n",
              "      <td>23.000000</td>\n",
              "      <td>23.000000</td>\n",
              "      <td>23.000000</td>\n",
              "      <td>23.000000</td>\n",
              "      <td>23.000000</td>\n",
              "      <td>23.000000</td>\n",
              "      <td>23.000000</td>\n",
              "      <td>23.000000</td>\n",
              "    </tr>\n",
              "    <tr>\n",
              "      <th>mean</th>\n",
              "      <td>3.776156</td>\n",
              "      <td>3.730088</td>\n",
              "      <td>3.417651</td>\n",
              "      <td>3.472797</td>\n",
              "      <td>3.732732</td>\n",
              "      <td>4.025133</td>\n",
              "      <td>2.010663</td>\n",
              "      <td>3.904518</td>\n",
              "      <td>3.640691</td>\n",
              "      <td>1.625362</td>\n",
              "      <td>3.440099</td>\n",
              "      <td>3.213369</td>\n",
              "      <td>3.366814</td>\n",
              "      <td>3.768053</td>\n",
              "      <td>3.707589</td>\n",
              "      <td>3.896338</td>\n",
              "      <td>3.885154</td>\n",
              "      <td>2.274635</td>\n",
              "    </tr>\n",
              "    <tr>\n",
              "      <th>std</th>\n",
              "      <td>0.476591</td>\n",
              "      <td>0.456762</td>\n",
              "      <td>1.183811</td>\n",
              "      <td>0.895713</td>\n",
              "      <td>0.437886</td>\n",
              "      <td>0.543135</td>\n",
              "      <td>2.096004</td>\n",
              "      <td>0.429810</td>\n",
              "      <td>0.641773</td>\n",
              "      <td>2.096919</td>\n",
              "      <td>1.178654</td>\n",
              "      <td>1.407390</td>\n",
              "      <td>1.436885</td>\n",
              "      <td>0.505820</td>\n",
              "      <td>0.956656</td>\n",
              "      <td>0.479590</td>\n",
              "      <td>0.610189</td>\n",
              "      <td>1.742759</td>\n",
              "    </tr>\n",
              "    <tr>\n",
              "      <th>min</th>\n",
              "      <td>3.000000</td>\n",
              "      <td>3.000000</td>\n",
              "      <td>0.000000</td>\n",
              "      <td>0.000000</td>\n",
              "      <td>3.055556</td>\n",
              "      <td>3.138889</td>\n",
              "      <td>0.000000</td>\n",
              "      <td>3.123188</td>\n",
              "      <td>2.166667</td>\n",
              "      <td>0.000000</td>\n",
              "      <td>0.000000</td>\n",
              "      <td>0.000000</td>\n",
              "      <td>0.000000</td>\n",
              "      <td>3.125000</td>\n",
              "      <td>0.000000</td>\n",
              "      <td>3.061111</td>\n",
              "      <td>2.450000</td>\n",
              "      <td>0.000000</td>\n",
              "    </tr>\n",
              "    <tr>\n",
              "      <th>25%</th>\n",
              "      <td>3.514550</td>\n",
              "      <td>3.402083</td>\n",
              "      <td>3.283871</td>\n",
              "      <td>3.214286</td>\n",
              "      <td>3.477273</td>\n",
              "      <td>3.607955</td>\n",
              "      <td>0.000000</td>\n",
              "      <td>3.593407</td>\n",
              "      <td>3.308333</td>\n",
              "      <td>0.000000</td>\n",
              "      <td>3.328829</td>\n",
              "      <td>3.050000</td>\n",
              "      <td>3.500000</td>\n",
              "      <td>3.410230</td>\n",
              "      <td>3.443985</td>\n",
              "      <td>3.535479</td>\n",
              "      <td>3.413095</td>\n",
              "      <td>0.000000</td>\n",
              "    </tr>\n",
              "    <tr>\n",
              "      <th>50%</th>\n",
              "      <td>3.696970</td>\n",
              "      <td>3.689394</td>\n",
              "      <td>3.750000</td>\n",
              "      <td>3.660000</td>\n",
              "      <td>3.710526</td>\n",
              "      <td>4.062500</td>\n",
              "      <td>2.000000</td>\n",
              "      <td>3.867925</td>\n",
              "      <td>3.666667</td>\n",
              "      <td>0.000000</td>\n",
              "      <td>3.666667</td>\n",
              "      <td>3.642857</td>\n",
              "      <td>3.750000</td>\n",
              "      <td>3.533333</td>\n",
              "      <td>3.857143</td>\n",
              "      <td>3.833333</td>\n",
              "      <td>3.900000</td>\n",
              "      <td>2.833333</td>\n",
              "    </tr>\n",
              "    <tr>\n",
              "      <th>75%</th>\n",
              "      <td>4.062500</td>\n",
              "      <td>4.147019</td>\n",
              "      <td>4.000000</td>\n",
              "      <td>3.964286</td>\n",
              "      <td>3.866601</td>\n",
              "      <td>4.520833</td>\n",
              "      <td>4.050000</td>\n",
              "      <td>4.272427</td>\n",
              "      <td>3.991379</td>\n",
              "      <td>3.916667</td>\n",
              "      <td>4.000000</td>\n",
              "      <td>4.000000</td>\n",
              "      <td>4.000000</td>\n",
              "      <td>4.166667</td>\n",
              "      <td>4.222222</td>\n",
              "      <td>4.228125</td>\n",
              "      <td>4.214286</td>\n",
              "      <td>3.490741</td>\n",
              "    </tr>\n",
              "    <tr>\n",
              "      <th>max</th>\n",
              "      <td>4.750000</td>\n",
              "      <td>4.500000</td>\n",
              "      <td>4.708333</td>\n",
              "      <td>4.500000</td>\n",
              "      <td>4.708333</td>\n",
              "      <td>5.000000</td>\n",
              "      <td>5.000000</td>\n",
              "      <td>4.588235</td>\n",
              "      <td>5.000000</td>\n",
              "      <td>5.000000</td>\n",
              "      <td>5.000000</td>\n",
              "      <td>5.000000</td>\n",
              "      <td>5.000000</td>\n",
              "      <td>4.687500</td>\n",
              "      <td>4.750000</td>\n",
              "      <td>4.833333</td>\n",
              "      <td>5.000000</td>\n",
              "      <td>5.000000</td>\n",
              "    </tr>\n",
              "  </tbody>\n",
              "</table>\n",
              "</div>\n",
              "      <button class=\"colab-df-convert\" onclick=\"convertToInteractive('df-cec6f012-747e-42de-834d-155fbbe02145')\"\n",
              "              title=\"Convert this dataframe to an interactive table.\"\n",
              "              style=\"display:none;\">\n",
              "        \n",
              "  <svg xmlns=\"http://www.w3.org/2000/svg\" height=\"24px\"viewBox=\"0 0 24 24\"\n",
              "       width=\"24px\">\n",
              "    <path d=\"M0 0h24v24H0V0z\" fill=\"none\"/>\n",
              "    <path d=\"M18.56 5.44l.94 2.06.94-2.06 2.06-.94-2.06-.94-.94-2.06-.94 2.06-2.06.94zm-11 1L8.5 8.5l.94-2.06 2.06-.94-2.06-.94L8.5 2.5l-.94 2.06-2.06.94zm10 10l.94 2.06.94-2.06 2.06-.94-2.06-.94-.94-2.06-.94 2.06-2.06.94z\"/><path d=\"M17.41 7.96l-1.37-1.37c-.4-.4-.92-.59-1.43-.59-.52 0-1.04.2-1.43.59L10.3 9.45l-7.72 7.72c-.78.78-.78 2.05 0 2.83L4 21.41c.39.39.9.59 1.41.59.51 0 1.02-.2 1.41-.59l7.78-7.78 2.81-2.81c.8-.78.8-2.07 0-2.86zM5.41 20L4 18.59l7.72-7.72 1.47 1.35L5.41 20z\"/>\n",
              "  </svg>\n",
              "      </button>\n",
              "      \n",
              "  <style>\n",
              "    .colab-df-container {\n",
              "      display:flex;\n",
              "      flex-wrap:wrap;\n",
              "      gap: 12px;\n",
              "    }\n",
              "\n",
              "    .colab-df-convert {\n",
              "      background-color: #E8F0FE;\n",
              "      border: none;\n",
              "      border-radius: 50%;\n",
              "      cursor: pointer;\n",
              "      display: none;\n",
              "      fill: #1967D2;\n",
              "      height: 32px;\n",
              "      padding: 0 0 0 0;\n",
              "      width: 32px;\n",
              "    }\n",
              "\n",
              "    .colab-df-convert:hover {\n",
              "      background-color: #E2EBFA;\n",
              "      box-shadow: 0px 1px 2px rgba(60, 64, 67, 0.3), 0px 1px 3px 1px rgba(60, 64, 67, 0.15);\n",
              "      fill: #174EA6;\n",
              "    }\n",
              "\n",
              "    [theme=dark] .colab-df-convert {\n",
              "      background-color: #3B4455;\n",
              "      fill: #D2E3FC;\n",
              "    }\n",
              "\n",
              "    [theme=dark] .colab-df-convert:hover {\n",
              "      background-color: #434B5C;\n",
              "      box-shadow: 0px 1px 3px 1px rgba(0, 0, 0, 0.15);\n",
              "      filter: drop-shadow(0px 1px 2px rgba(0, 0, 0, 0.3));\n",
              "      fill: #FFFFFF;\n",
              "    }\n",
              "  </style>\n",
              "\n",
              "      <script>\n",
              "        const buttonEl =\n",
              "          document.querySelector('#df-cec6f012-747e-42de-834d-155fbbe02145 button.colab-df-convert');\n",
              "        buttonEl.style.display =\n",
              "          google.colab.kernel.accessAllowed ? 'block' : 'none';\n",
              "\n",
              "        async function convertToInteractive(key) {\n",
              "          const element = document.querySelector('#df-cec6f012-747e-42de-834d-155fbbe02145');\n",
              "          const dataTable =\n",
              "            await google.colab.kernel.invokeFunction('convertToInteractive',\n",
              "                                                     [key], {});\n",
              "          if (!dataTable) return;\n",
              "\n",
              "          const docLinkHtml = 'Like what you see? Visit the ' +\n",
              "            '<a target=\"_blank\" href=https://colab.research.google.com/notebooks/data_table.ipynb>data table notebook</a>'\n",
              "            + ' to learn more about interactive tables.';\n",
              "          element.innerHTML = '';\n",
              "          dataTable['output_type'] = 'display_data';\n",
              "          await google.colab.output.renderOutput(dataTable, element);\n",
              "          const docLink = document.createElement('div');\n",
              "          docLink.innerHTML = docLinkHtml;\n",
              "          element.appendChild(docLink);\n",
              "        }\n",
              "      </script>\n",
              "    </div>\n",
              "  </div>\n",
              "  "
            ]
          },
          "metadata": {},
          "execution_count": 73
        }
      ],
      "source": [
        "df_new.describe()"
      ]
    },
    {
      "cell_type": "code",
      "execution_count": 74,
      "metadata": {
        "colab": {
          "base_uri": "https://localhost:8080/",
          "height": 847
        },
        "id": "zRV7U5hbAXb0",
        "outputId": "81b46207-503c-4971-e245-226b71df986e"
      },
      "outputs": [
        {
          "output_type": "execute_result",
          "data": {
            "text/plain": [
              "<Axes: >"
            ]
          },
          "metadata": {},
          "execution_count": 74
        },
        {
          "output_type": "display_data",
          "data": {
            "text/plain": [
              "<Figure size 1500x1000 with 1 Axes>"
            ],
            "image/png": "[encoded data removed]"
          },
          "metadata": {}
        }
      ],
      "source": [
        "df_new.boxplot(figsize=(15,10))"
      ]
    },
    {
      "cell_type": "code",
      "execution_count": 75,
      "metadata": {
        "colab": {
          "base_uri": "https://localhost:8080/",
          "height": 771
        },
        "id": "uePKC0mYAidC",
        "outputId": "77861f75-7ecd-4a9d-cad4-dddd083635e7"
      },
      "outputs": [
        {
          "output_type": "execute_result",
          "data": {
            "text/plain": [
              "      Action  Adventure  Animation  Children    Comedy     Crime  Documentary  \\\n",
              "0   0.748409  -0.006302   0.502983  0.411560  0.319508  0.070344    -0.005201   \n",
              "1  -0.169885   0.395277   0.172739  0.213696 -0.969671 -1.668392    -0.980843   \n",
              "2  -0.290566  -0.091095   0.485709  0.268869 -0.649574 -0.261240     0.563923   \n",
              "3  -1.265673  -1.467415   0.043264 -0.295096 -0.283989 -0.098194     1.019223   \n",
              "4  -0.115708   0.284416   0.287054 -0.159201 -0.376649  0.221620    -0.980843   \n",
              "5   0.480235   1.723471  -2.951875  1.172573  1.791589  0.893956    -0.980843   \n",
              "6  -1.665160  -0.888147   0.502983  0.221306 -0.251558 -1.391987    -0.980843   \n",
              "7  -0.234897  -0.646737  -0.274360 -0.295096  0.268747  0.209396    -0.980843   \n",
              "8   0.041404   1.101657   0.626371  0.699658  0.031054 -0.635609     1.458262   \n",
              "9  -0.354086  -0.428961  -0.504684 -0.729961 -1.166110 -0.475165     1.092396   \n",
              "10 -0.592463  -1.634323  -0.576660 -3.964270 -1.581225 -1.223903    -0.980843   \n",
              "11 -1.279365  -1.153317   0.162732 -0.642762 -1.286672 -0.935104     0.813641   \n",
              "12 -0.530031  -0.433523   0.392508 -0.022041 -0.280087 -0.074999     0.628966   \n",
              "13  1.706174   0.604206   0.502983  0.601813  2.278053  1.328389    -0.980843   \n",
              "14  0.030394  -0.654966   0.071126 -0.539708  1.310849  0.988083     1.214351   \n",
              "15  2.089281   1.723471   0.749759  0.221306  1.791589  1.521470    -0.980843   \n",
              "16  0.038536  -0.813529   0.267425  0.202281  0.305664  1.835227    -0.980843   \n",
              "17 -0.841927  -0.568357  -0.360731 -0.232375 -0.543436 -1.410534     0.116754   \n",
              "18 -1.155629  -1.253297   0.299946 -0.409534 -1.277554 -1.334358     0.970441   \n",
              "19  1.060071   1.065080   0.502983  0.520276  0.264842  0.972395    -0.980843   \n",
              "20  0.804068   1.013693   1.114781  0.601813 -0.051852  0.252181     1.458262   \n",
              "21  1.982011   1.275765   0.934840  1.172573 -0.043074  1.028423    -0.980843   \n",
              "22 -0.485193   0.852932  -2.951875  0.982320  0.399555  0.188003     1.458262   \n",
              "\n",
              "       Drama   Fantasy  Film-Noir    Horror   Musical   Mystery   Romance  \\\n",
              "0  -0.087052 -0.064828   0.914089  0.051963  0.353539  0.094774  0.805765   \n",
              "1  -0.792386  0.544984  -0.792540  0.485710  0.043124  0.228197 -1.225564   \n",
              "2  -0.034331  0.153726   1.304175  0.090519  0.268781  0.373481 -0.474467   \n",
              "3  -0.379720 -1.286284  -0.792540 -0.251659  0.312025  0.312205 -0.642919   \n",
              "4  -0.195773 -0.224149  -0.792540  1.064039  0.363918  0.958849 -0.440777   \n",
              "5   0.352348  2.165657   1.157893  0.485710  0.934743  0.450570  0.468862   \n",
              "6   0.410135  0.041385  -0.792540  0.485710  0.571491 -2.395796  0.805765   \n",
              "7  -0.687819 -1.310424   1.645501  0.292934 -0.082363  0.371504 -0.576700   \n",
              "8   0.049613  0.837987  -0.792540 -0.175237  0.870639  0.247258  0.664483   \n",
              "9  -1.021780 -2.348420  -0.792540  0.160400 -0.155013  0.094774 -1.299880   \n",
              "10 -1.511284 -0.622450  -0.792540  0.485710 -2.334525 -2.395796 -0.743990   \n",
              "11 -0.927830 -0.709578   1.035991 -0.371926  0.096469 -0.005579 -0.708245   \n",
              "12 -0.358142 -0.436576   1.076625 -0.100434  0.472422  0.293601 -0.738375   \n",
              "13  1.626495  1.103521  -0.792540  0.485710 -2.334525  1.162161  1.858588   \n",
              "14  1.621670  0.373303  -0.792540  0.196546  0.571491 -0.616817  1.007907   \n",
              "15  1.284431  0.970754  -0.792540 -2.984265 -2.334525  0.450570  1.648023   \n",
              "16 -1.200197 -1.618202  -0.792540 -2.984265  0.208239  1.162161 -0.541848   \n",
              "17 -1.858704  0.145702  -0.792540  0.398961  0.389865  0.272672 -1.136383   \n",
              "18 -0.625092 -0.123313   1.157893 -0.048132 -0.320128  0.094774 -0.674400   \n",
              "19  0.951155  0.466239  -0.792540 -0.092619 -0.699891  0.094774 -1.047203   \n",
              "20  1.300548  1.327128   1.157893  0.485710  1.297995  0.696890  1.858588   \n",
              "21  1.284431  0.572453  -0.792540  0.485710  0.934743 -2.395796  1.142668   \n",
              "22  0.799283  0.041385   1.645501  1.353204  0.571491  0.450570 -0.009896   \n",
              "\n",
              "      Sci-Fi  Thriller       War   Western  \n",
              "0  -0.008111  0.860597  0.024877  0.132222  \n",
              "1   0.331615 -0.134325 -0.757102  0.132222  \n",
              "2  -0.011928 -0.434646 -0.323147  0.865595  \n",
              "3  -0.580234 -0.749806 -0.924669  0.327788  \n",
              "4   0.409693  0.221004  1.030279  0.425571  \n",
              "5   0.846930 -0.489655 -1.483226 -1.334526  \n",
              "6  -0.756271 -1.377978  1.868114  0.425571  \n",
              "7  -0.427410 -0.140348  0.431825  0.425571  \n",
              "8   0.349385  0.487501 -0.065352  0.257943  \n",
              "9   0.312530 -0.796530 -0.086834 -1.334526  \n",
              "10 -3.962674 -0.489655  0.192444 -1.334526  \n",
              "11 -0.684486 -1.466810 -0.244687  0.484241  \n",
              "12 -0.313482 -0.957193 -0.824927  0.805839  \n",
              "13  0.846930  1.997650  1.868114 -1.334526  \n",
              "14  0.431285  0.947814  0.471722 -1.334526  \n",
              "15  1.114130  1.819986  1.030279 -1.334526  \n",
              "16 -0.076125  1.073794 -1.064309 -1.334526  \n",
              "17 -0.249997 -0.788879 -2.404844 -0.821164  \n",
              "18 -0.192722 -1.780684 -0.854850  0.621137  \n",
              "19  0.678172  0.554125  0.551516  1.342288  \n",
              "20  0.668797  0.529579  0.551516  1.305619  \n",
              "21  1.114130  1.168549  0.192444  1.598969  \n",
              "22  0.159844 -0.054090  0.820820  1.012270  "
            ],
            "text/html": [
              "\n",
              "  <div id=\"df-6a0c2b1a-8c3d-4116-8bf7-35ef096acb3c\">\n",
              "    <div class=\"colab-df-container\">\n",
              "      <div>\n",
              "<style scoped>\n",
              "    .dataframe tbody tr th:only-of-type {\n",
              "        vertical-align: middle;\n",
              "    }\n",
              "\n",
              "    .dataframe tbody tr th {\n",
              "        vertical-align: top;\n",
              "    }\n",
              "\n",
              "    .dataframe thead th {\n",
              "        text-align: right;\n",
              "    }\n",
              "</style>\n",
              "<table border=\"1\" class=\"dataframe\">\n",
              "  <thead>\n",
              "    <tr style=\"text-align: right;\">\n",
              "      <th></th>\n",
              "      <th>Action</th>\n",
              "      <th>Adventure</th>\n",
              "      <th>Animation</th>\n",
              "      <th>Children</th>\n",
              "      <th>Comedy</th>\n",
              "      <th>Crime</th>\n",
              "      <th>Documentary</th>\n",
              "      <th>Drama</th>\n",
              "      <th>Fantasy</th>\n",
              "      <th>Film-Noir</th>\n",
              "      <th>Horror</th>\n",
              "      <th>Musical</th>\n",
              "      <th>Mystery</th>\n",
              "      <th>Romance</th>\n",
              "      <th>Sci-Fi</th>\n",
              "      <th>Thriller</th>\n",
              "      <th>War</th>\n",
              "      <th>Western</th>\n",
              "    </tr>\n",
              "  </thead>\n",
              "  <tbody>\n",
              "    <tr>\n",
              "      <th>0</th>\n",
              "      <td>0.748409</td>\n",
              "      <td>-0.006302</td>\n",
              "      <td>0.502983</td>\n",
              "      <td>0.411560</td>\n",
              "      <td>0.319508</td>\n",
              "      <td>0.070344</td>\n",
              "      <td>-0.005201</td>\n",
              "      <td>-0.087052</td>\n",
              "      <td>-0.064828</td>\n",
              "      <td>0.914089</td>\n",
              "      <td>0.051963</td>\n",
              "      <td>0.353539</td>\n",
              "      <td>0.094774</td>\n",
              "      <td>0.805765</td>\n",
              "      <td>-0.008111</td>\n",
              "      <td>0.860597</td>\n",
              "      <td>0.024877</td>\n",
              "      <td>0.132222</td>\n",
              "    </tr>\n",
              "    <tr>\n",
              "      <th>1</th>\n",
              "      <td>-0.169885</td>\n",
              "      <td>0.395277</td>\n",
              "      <td>0.172739</td>\n",
              "      <td>0.213696</td>\n",
              "      <td>-0.969671</td>\n",
              "      <td>-1.668392</td>\n",
              "      <td>-0.980843</td>\n",
              "      <td>-0.792386</td>\n",
              "      <td>0.544984</td>\n",
              "      <td>-0.792540</td>\n",
              "      <td>0.485710</td>\n",
              "      <td>0.043124</td>\n",
              "      <td>0.228197</td>\n",
              "      <td>-1.225564</td>\n",
              "      <td>0.331615</td>\n",
              "      <td>-0.134325</td>\n",
              "      <td>-0.757102</td>\n",
              "      <td>0.132222</td>\n",
              "    </tr>\n",
              "    <tr>\n",
              "      <th>2</th>\n",
              "      <td>-0.290566</td>\n",
              "      <td>-0.091095</td>\n",
              "      <td>0.485709</td>\n",
              "      <td>0.268869</td>\n",
              "      <td>-0.649574</td>\n",
              "      <td>-0.261240</td>\n",
              "      <td>0.563923</td>\n",
              "      <td>-0.034331</td>\n",
              "      <td>0.153726</td>\n",
              "      <td>1.304175</td>\n",
              "      <td>0.090519</td>\n",
              "      <td>0.268781</td>\n",
              "      <td>0.373481</td>\n",
              "      <td>-0.474467</td>\n",
              "      <td>-0.011928</td>\n",
              "      <td>-0.434646</td>\n",
              "      <td>-0.323147</td>\n",
              "      <td>0.865595</td>\n",
              "    </tr>\n",
              "    <tr>\n",
              "      <th>3</th>\n",
              "      <td>-1.265673</td>\n",
              "      <td>-1.467415</td>\n",
              "      <td>0.043264</td>\n",
              "      <td>-0.295096</td>\n",
              "      <td>-0.283989</td>\n",
              "      <td>-0.098194</td>\n",
              "      <td>1.019223</td>\n",
              "      <td>-0.379720</td>\n",
              "      <td>-1.286284</td>\n",
              "      <td>-0.792540</td>\n",
              "      <td>-0.251659</td>\n",
              "      <td>0.312025</td>\n",
              "      <td>0.312205</td>\n",
              "      <td>-0.642919</td>\n",
              "      <td>-0.580234</td>\n",
              "      <td>-0.749806</td>\n",
              "      <td>-0.924669</td>\n",
              "      <td>0.327788</td>\n",
              "    </tr>\n",
              "    <tr>\n",
              "      <th>4</th>\n",
              "      <td>-0.115708</td>\n",
              "      <td>0.284416</td>\n",
              "      <td>0.287054</td>\n",
              "      <td>-0.159201</td>\n",
              "      <td>-0.376649</td>\n",
              "      <td>0.221620</td>\n",
              "      <td>-0.980843</td>\n",
              "      <td>-0.195773</td>\n",
              "      <td>-0.224149</td>\n",
              "      <td>-0.792540</td>\n",
              "      <td>1.064039</td>\n",
              "      <td>0.363918</td>\n",
              "      <td>0.958849</td>\n",
              "      <td>-0.440777</td>\n",
              "      <td>0.409693</td>\n",
              "      <td>0.221004</td>\n",
              "      <td>1.030279</td>\n",
              "      <td>0.425571</td>\n",
              "    </tr>\n",
              "    <tr>\n",
              "      <th>5</th>\n",
              "      <td>0.480235</td>\n",
              "      <td>1.723471</td>\n",
              "      <td>-2.951875</td>\n",
              "      <td>1.172573</td>\n",
              "      <td>1.791589</td>\n",
              "      <td>0.893956</td>\n",
              "      <td>-0.980843</td>\n",
              "      <td>0.352348</td>\n",
              "      <td>2.165657</td>\n",
              "      <td>1.157893</td>\n",
              "      <td>0.485710</td>\n",
              "      <td>0.934743</td>\n",
              "      <td>0.450570</td>\n",
              "      <td>0.468862</td>\n",
              "      <td>0.846930</td>\n",
              "      <td>-0.489655</td>\n",
              "      <td>-1.483226</td>\n",
              "      <td>-1.334526</td>\n",
              "    </tr>\n",
              "    <tr>\n",
              "      <th>6</th>\n",
              "      <td>-1.665160</td>\n",
              "      <td>-0.888147</td>\n",
              "      <td>0.502983</td>\n",
              "      <td>0.221306</td>\n",
              "      <td>-0.251558</td>\n",
              "      <td>-1.391987</td>\n",
              "      <td>-0.980843</td>\n",
              "      <td>0.410135</td>\n",
              "      <td>0.041385</td>\n",
              "      <td>-0.792540</td>\n",
              "      <td>0.485710</td>\n",
              "      <td>0.571491</td>\n",
              "      <td>-2.395796</td>\n",
              "      <td>0.805765</td>\n",
              "      <td>-0.756271</td>\n",
              "      <td>-1.377978</td>\n",
              "      <td>1.868114</td>\n",
              "      <td>0.425571</td>\n",
              "    </tr>\n",
              "    <tr>\n",
              "      <th>7</th>\n",
              "      <td>-0.234897</td>\n",
              "      <td>-0.646737</td>\n",
              "      <td>-0.274360</td>\n",
              "      <td>-0.295096</td>\n",
              "      <td>0.268747</td>\n",
              "      <td>0.209396</td>\n",
              "      <td>-0.980843</td>\n",
              "      <td>-0.687819</td>\n",
              "      <td>-1.310424</td>\n",
              "      <td>1.645501</td>\n",
              "      <td>0.292934</td>\n",
              "      <td>-0.082363</td>\n",
              "      <td>0.371504</td>\n",
              "      <td>-0.576700</td>\n",
              "      <td>-0.427410</td>\n",
              "      <td>-0.140348</td>\n",
              "      <td>0.431825</td>\n",
              "      <td>0.425571</td>\n",
              "    </tr>\n",
              "    <tr>\n",
              "      <th>8</th>\n",
              "      <td>0.041404</td>\n",
              "      <td>1.101657</td>\n",
              "      <td>0.626371</td>\n",
              "      <td>0.699658</td>\n",
              "      <td>0.031054</td>\n",
              "      <td>-0.635609</td>\n",
              "      <td>1.458262</td>\n",
              "      <td>0.049613</td>\n",
              "      <td>0.837987</td>\n",
              "      <td>-0.792540</td>\n",
              "      <td>-0.175237</td>\n",
              "      <td>0.870639</td>\n",
              "      <td>0.247258</td>\n",
              "      <td>0.664483</td>\n",
              "      <td>0.349385</td>\n",
              "      <td>0.487501</td>\n",
              "      <td>-0.065352</td>\n",
              "      <td>0.257943</td>\n",
              "    </tr>\n",
              "    <tr>\n",
              "      <th>9</th>\n",
              "      <td>-0.354086</td>\n",
              "      <td>-0.428961</td>\n",
              "      <td>-0.504684</td>\n",
              "      <td>-0.729961</td>\n",
              "      <td>-1.166110</td>\n",
              "      <td>-0.475165</td>\n",
              "      <td>1.092396</td>\n",
              "      <td>-1.021780</td>\n",
              "      <td>-2.348420</td>\n",
              "      <td>-0.792540</td>\n",
              "      <td>0.160400</td>\n",
              "      <td>-0.155013</td>\n",
              "      <td>0.094774</td>\n",
              "      <td>-1.299880</td>\n",
              "      <td>0.312530</td>\n",
              "      <td>-0.796530</td>\n",
              "      <td>-0.086834</td>\n",
              "      <td>-1.334526</td>\n",
              "    </tr>\n",
              "    <tr>\n",
              "      <th>10</th>\n",
              "      <td>-0.592463</td>\n",
              "      <td>-1.634323</td>\n",
              "      <td>-0.576660</td>\n",
              "      <td>-3.964270</td>\n",
              "      <td>-1.581225</td>\n",
              "      <td>-1.223903</td>\n",
              "      <td>-0.980843</td>\n",
              "      <td>-1.511284</td>\n",
              "      <td>-0.622450</td>\n",
              "      <td>-0.792540</td>\n",
              "      <td>0.485710</td>\n",
              "      <td>-2.334525</td>\n",
              "      <td>-2.395796</td>\n",
              "      <td>-0.743990</td>\n",
              "      <td>-3.962674</td>\n",
              "      <td>-0.489655</td>\n",
              "      <td>0.192444</td>\n",
              "      <td>-1.334526</td>\n",
              "    </tr>\n",
              "    <tr>\n",
              "      <th>11</th>\n",
              "      <td>-1.279365</td>\n",
              "      <td>-1.153317</td>\n",
              "      <td>0.162732</td>\n",
              "      <td>-0.642762</td>\n",
              "      <td>-1.286672</td>\n",
              "      <td>-0.935104</td>\n",
              "      <td>0.813641</td>\n",
              "      <td>-0.927830</td>\n",
              "      <td>-0.709578</td>\n",
              "      <td>1.035991</td>\n",
              "      <td>-0.371926</td>\n",
              "      <td>0.096469</td>\n",
              "      <td>-0.005579</td>\n",
              "      <td>-0.708245</td>\n",
              "      <td>-0.684486</td>\n",
              "      <td>-1.466810</td>\n",
              "      <td>-0.244687</td>\n",
              "      <td>0.484241</td>\n",
              "    </tr>\n",
              "    <tr>\n",
              "      <th>12</th>\n",
              "      <td>-0.530031</td>\n",
              "      <td>-0.433523</td>\n",
              "      <td>0.392508</td>\n",
              "      <td>-0.022041</td>\n",
              "      <td>-0.280087</td>\n",
              "      <td>-0.074999</td>\n",
              "      <td>0.628966</td>\n",
              "      <td>-0.358142</td>\n",
              "      <td>-0.436576</td>\n",
              "      <td>1.076625</td>\n",
              "      <td>-0.100434</td>\n",
              "      <td>0.472422</td>\n",
              "      <td>0.293601</td>\n",
              "      <td>-0.738375</td>\n",
              "      <td>-0.313482</td>\n",
              "      <td>-0.957193</td>\n",
              "      <td>-0.824927</td>\n",
              "      <td>0.805839</td>\n",
              "    </tr>\n",
              "    <tr>\n",
              "      <th>13</th>\n",
              "      <td>1.706174</td>\n",
              "      <td>0.604206</td>\n",
              "      <td>0.502983</td>\n",
              "      <td>0.601813</td>\n",
              "      <td>2.278053</td>\n",
              "      <td>1.328389</td>\n",
              "      <td>-0.980843</td>\n",
              "      <td>1.626495</td>\n",
              "      <td>1.103521</td>\n",
              "      <td>-0.792540</td>\n",
              "      <td>0.485710</td>\n",
              "      <td>-2.334525</td>\n",
              "      <td>1.162161</td>\n",
              "      <td>1.858588</td>\n",
              "      <td>0.846930</td>\n",
              "      <td>1.997650</td>\n",
              "      <td>1.868114</td>\n",
              "      <td>-1.334526</td>\n",
              "    </tr>\n",
              "    <tr>\n",
              "      <th>14</th>\n",
              "      <td>0.030394</td>\n",
              "      <td>-0.654966</td>\n",
              "      <td>0.071126</td>\n",
              "      <td>-0.539708</td>\n",
              "      <td>1.310849</td>\n",
              "      <td>0.988083</td>\n",
              "      <td>1.214351</td>\n",
              "      <td>1.621670</td>\n",
              "      <td>0.373303</td>\n",
              "      <td>-0.792540</td>\n",
              "      <td>0.196546</td>\n",
              "      <td>0.571491</td>\n",
              "      <td>-0.616817</td>\n",
              "      <td>1.007907</td>\n",
              "      <td>0.431285</td>\n",
              "      <td>0.947814</td>\n",
              "      <td>0.471722</td>\n",
              "      <td>-1.334526</td>\n",
              "    </tr>\n",
              "    <tr>\n",
              "      <th>15</th>\n",
              "      <td>2.089281</td>\n",
              "      <td>1.723471</td>\n",
              "      <td>0.749759</td>\n",
              "      <td>0.221306</td>\n",
              "      <td>1.791589</td>\n",
              "      <td>1.521470</td>\n",
              "      <td>-0.980843</td>\n",
              "      <td>1.284431</td>\n",
              "      <td>0.970754</td>\n",
              "      <td>-0.792540</td>\n",
              "      <td>-2.984265</td>\n",
              "      <td>-2.334525</td>\n",
              "      <td>0.450570</td>\n",
              "      <td>1.648023</td>\n",
              "      <td>1.114130</td>\n",
              "      <td>1.819986</td>\n",
              "      <td>1.030279</td>\n",
              "      <td>-1.334526</td>\n",
              "    </tr>\n",
              "    <tr>\n",
              "      <th>16</th>\n",
              "      <td>0.038536</td>\n",
              "      <td>-0.813529</td>\n",
              "      <td>0.267425</td>\n",
              "      <td>0.202281</td>\n",
              "      <td>0.305664</td>\n",
              "      <td>1.835227</td>\n",
              "      <td>-0.980843</td>\n",
              "      <td>-1.200197</td>\n",
              "      <td>-1.618202</td>\n",
              "      <td>-0.792540</td>\n",
              "      <td>-2.984265</td>\n",
              "      <td>0.208239</td>\n",
              "      <td>1.162161</td>\n",
              "      <td>-0.541848</td>\n",
              "      <td>-0.076125</td>\n",
              "      <td>1.073794</td>\n",
              "      <td>-1.064309</td>\n",
              "      <td>-1.334526</td>\n",
              "    </tr>\n",
              "    <tr>\n",
              "      <th>17</th>\n",
              "      <td>-0.841927</td>\n",
              "      <td>-0.568357</td>\n",
              "      <td>-0.360731</td>\n",
              "      <td>-0.232375</td>\n",
              "      <td>-0.543436</td>\n",
              "      <td>-1.410534</td>\n",
              "      <td>0.116754</td>\n",
              "      <td>-1.858704</td>\n",
              "      <td>0.145702</td>\n",
              "      <td>-0.792540</td>\n",
              "      <td>0.398961</td>\n",
              "      <td>0.389865</td>\n",
              "      <td>0.272672</td>\n",
              "      <td>-1.136383</td>\n",
              "      <td>-0.249997</td>\n",
              "      <td>-0.788879</td>\n",
              "      <td>-2.404844</td>\n",
              "      <td>-0.821164</td>\n",
              "    </tr>\n",
              "    <tr>\n",
              "      <th>18</th>\n",
              "      <td>-1.155629</td>\n",
              "      <td>-1.253297</td>\n",
              "      <td>0.299946</td>\n",
              "      <td>-0.409534</td>\n",
              "      <td>-1.277554</td>\n",
              "      <td>-1.334358</td>\n",
              "      <td>0.970441</td>\n",
              "      <td>-0.625092</td>\n",
              "      <td>-0.123313</td>\n",
              "      <td>1.157893</td>\n",
              "      <td>-0.048132</td>\n",
              "      <td>-0.320128</td>\n",
              "      <td>0.094774</td>\n",
              "      <td>-0.674400</td>\n",
              "      <td>-0.192722</td>\n",
              "      <td>-1.780684</td>\n",
              "      <td>-0.854850</td>\n",
              "      <td>0.621137</td>\n",
              "    </tr>\n",
              "    <tr>\n",
              "      <th>19</th>\n",
              "      <td>1.060071</td>\n",
              "      <td>1.065080</td>\n",
              "      <td>0.502983</td>\n",
              "      <td>0.520276</td>\n",
              "      <td>0.264842</td>\n",
              "      <td>0.972395</td>\n",
              "      <td>-0.980843</td>\n",
              "      <td>0.951155</td>\n",
              "      <td>0.466239</td>\n",
              "      <td>-0.792540</td>\n",
              "      <td>-0.092619</td>\n",
              "      <td>-0.699891</td>\n",
              "      <td>0.094774</td>\n",
              "      <td>-1.047203</td>\n",
              "      <td>0.678172</td>\n",
              "      <td>0.554125</td>\n",
              "      <td>0.551516</td>\n",
              "      <td>1.342288</td>\n",
              "    </tr>\n",
              "    <tr>\n",
              "      <th>20</th>\n",
              "      <td>0.804068</td>\n",
              "      <td>1.013693</td>\n",
              "      <td>1.114781</td>\n",
              "      <td>0.601813</td>\n",
              "      <td>-0.051852</td>\n",
              "      <td>0.252181</td>\n",
              "      <td>1.458262</td>\n",
              "      <td>1.300548</td>\n",
              "      <td>1.327128</td>\n",
              "      <td>1.157893</td>\n",
              "      <td>0.485710</td>\n",
              "      <td>1.297995</td>\n",
              "      <td>0.696890</td>\n",
              "      <td>1.858588</td>\n",
              "      <td>0.668797</td>\n",
              "      <td>0.529579</td>\n",
              "      <td>0.551516</td>\n",
              "      <td>1.305619</td>\n",
              "    </tr>\n",
              "    <tr>\n",
              "      <th>21</th>\n",
              "      <td>1.982011</td>\n",
              "      <td>1.275765</td>\n",
              "      <td>0.934840</td>\n",
              "      <td>1.172573</td>\n",
              "      <td>-0.043074</td>\n",
              "      <td>1.028423</td>\n",
              "      <td>-0.980843</td>\n",
              "      <td>1.284431</td>\n",
              "      <td>0.572453</td>\n",
              "      <td>-0.792540</td>\n",
              "      <td>0.485710</td>\n",
              "      <td>0.934743</td>\n",
              "      <td>-2.395796</td>\n",
              "      <td>1.142668</td>\n",
              "      <td>1.114130</td>\n",
              "      <td>1.168549</td>\n",
              "      <td>0.192444</td>\n",
              "      <td>1.598969</td>\n",
              "    </tr>\n",
              "    <tr>\n",
              "      <th>22</th>\n",
              "      <td>-0.485193</td>\n",
              "      <td>0.852932</td>\n",
              "      <td>-2.951875</td>\n",
              "      <td>0.982320</td>\n",
              "      <td>0.399555</td>\n",
              "      <td>0.188003</td>\n",
              "      <td>1.458262</td>\n",
              "      <td>0.799283</td>\n",
              "      <td>0.041385</td>\n",
              "      <td>1.645501</td>\n",
              "      <td>1.353204</td>\n",
              "      <td>0.571491</td>\n",
              "      <td>0.450570</td>\n",
              "      <td>-0.009896</td>\n",
              "      <td>0.159844</td>\n",
              "      <td>-0.054090</td>\n",
              "      <td>0.820820</td>\n",
              "      <td>1.012270</td>\n",
              "    </tr>\n",
              "  </tbody>\n",
              "</table>\n",
              "</div>\n",
              "      <button class=\"colab-df-convert\" onclick=\"convertToInteractive('df-6a0c2b1a-8c3d-4116-8bf7-35ef096acb3c')\"\n",
              "              title=\"Convert this dataframe to an interactive table.\"\n",
              "              style=\"display:none;\">\n",
              "        \n",
              "  <svg xmlns=\"http://www.w3.org/2000/svg\" height=\"24px\"viewBox=\"0 0 24 24\"\n",
              "       width=\"24px\">\n",
              "    <path d=\"M0 0h24v24H0V0z\" fill=\"none\"/>\n",
              "    <path d=\"M18.56 5.44l.94 2.06.94-2.06 2.06-.94-2.06-.94-.94-2.06-.94 2.06-2.06.94zm-11 1L8.5 8.5l.94-2.06 2.06-.94-2.06-.94L8.5 2.5l-.94 2.06-2.06.94zm10 10l.94 2.06.94-2.06 2.06-.94-2.06-.94-.94-2.06-.94 2.06-2.06.94z\"/><path d=\"M17.41 7.96l-1.37-1.37c-.4-.4-.92-.59-1.43-.59-.52 0-1.04.2-1.43.59L10.3 9.45l-7.72 7.72c-.78.78-.78 2.05 0 2.83L4 21.41c.39.39.9.59 1.41.59.51 0 1.02-.2 1.41-.59l7.78-7.78 2.81-2.81c.8-.78.8-2.07 0-2.86zM5.41 20L4 18.59l7.72-7.72 1.47 1.35L5.41 20z\"/>\n",
              "  </svg>\n",
              "      </button>\n",
              "      \n",
              "  <style>\n",
              "    .colab-df-container {\n",
              "      display:flex;\n",
              "      flex-wrap:wrap;\n",
              "      gap: 12px;\n",
              "    }\n",
              "\n",
              "    .colab-df-convert {\n",
              "      background-color: #E8F0FE;\n",
              "      border: none;\n",
              "      border-radius: 50%;\n",
              "      cursor: pointer;\n",
              "      display: none;\n",
              "      fill: #1967D2;\n",
              "      height: 32px;\n",
              "      padding: 0 0 0 0;\n",
              "      width: 32px;\n",
              "    }\n",
              "\n",
              "    .colab-df-convert:hover {\n",
              "      background-color: #E2EBFA;\n",
              "      box-shadow: 0px 1px 2px rgba(60, 64, 67, 0.3), 0px 1px 3px 1px rgba(60, 64, 67, 0.15);\n",
              "      fill: #174EA6;\n",
              "    }\n",
              "\n",
              "    [theme=dark] .colab-df-convert {\n",
              "      background-color: #3B4455;\n",
              "      fill: #D2E3FC;\n",
              "    }\n",
              "\n",
              "    [theme=dark] .colab-df-convert:hover {\n",
              "      background-color: #434B5C;\n",
              "      box-shadow: 0px 1px 3px 1px rgba(0, 0, 0, 0.15);\n",
              "      filter: drop-shadow(0px 1px 2px rgba(0, 0, 0, 0.3));\n",
              "      fill: #FFFFFF;\n",
              "    }\n",
              "  </style>\n",
              "\n",
              "      <script>\n",
              "        const buttonEl =\n",
              "          document.querySelector('#df-6a0c2b1a-8c3d-4116-8bf7-35ef096acb3c button.colab-df-convert');\n",
              "        buttonEl.style.display =\n",
              "          google.colab.kernel.accessAllowed ? 'block' : 'none';\n",
              "\n",
              "        async function convertToInteractive(key) {\n",
              "          const element = document.querySelector('#df-6a0c2b1a-8c3d-4116-8bf7-35ef096acb3c');\n",
              "          const dataTable =\n",
              "            await google.colab.kernel.invokeFunction('convertToInteractive',\n",
              "                                                     [key], {});\n",
              "          if (!dataTable) return;\n",
              "\n",
              "          const docLinkHtml = 'Like what you see? Visit the ' +\n",
              "            '<a target=\"_blank\" href=https://colab.research.google.com/notebooks/data_table.ipynb>data table notebook</a>'\n",
              "            + ' to learn more about interactive tables.';\n",
              "          element.innerHTML = '';\n",
              "          dataTable['output_type'] = 'display_data';\n",
              "          await google.colab.output.renderOutput(dataTable, element);\n",
              "          const docLink = document.createElement('div');\n",
              "          docLink.innerHTML = docLinkHtml;\n",
              "          element.appendChild(docLink);\n",
              "        }\n",
              "      </script>\n",
              "    </div>\n",
              "  </div>\n",
              "  "
            ]
          },
          "metadata": {},
          "execution_count": 75
        }
      ],
      "source": [
        "# Стандартизирование значений\n",
        "standard_scaler = StandardScaler()\n",
        "standard_df = pd.DataFrame(data = standard_scaler.fit_transform(df_new), index = df_new.index, columns = df_new.columns)\n",
        "standard_df"
      ]
    },
    {
      "cell_type": "code",
      "execution_count": 76,
      "metadata": {
        "colab": {
          "base_uri": "https://localhost:8080/",
          "height": 847
        },
        "id": "AXSUzOcXDNV1",
        "outputId": "ccccfed8-2032-4ca2-c479-e6983dab7709"
      },
      "outputs": [
        {
          "output_type": "execute_result",
          "data": {
            "text/plain": [
              "<Axes: >"
            ]
          },
          "metadata": {},
          "execution_count": 76
        },
        {
          "output_type": "display_data",
          "data": {
            "text/plain": [
              "<Figure size 1500x1000 with 1 Axes>"
            ],
            "image/png": "[encoded data removed]"
          },
          "metadata": {}
        }
      ],
      "source": [
        "standard_df.boxplot(figsize=(15,10))"
      ]
    },
    {
      "cell_type": "code",
      "execution_count": 77,
      "metadata": {
        "id": "4j3Va4aoGFcl"
      },
      "outputs": [],
      "source": [
        "final_df = df_new.copy()"
      ]
    },
    {
      "cell_type": "code",
      "execution_count": 78,
      "metadata": {
        "colab": {
          "base_uri": "https://localhost:8080/",
          "height": 877
        },
        "id": "z9-0VGImGQvA",
        "outputId": "f0e4e2e7-212b-44b1-da02-dd0f5e8b3beb"
      },
      "outputs": [
        {
          "output_type": "display_data",
          "data": {
            "text/plain": [
              "<Figure size 1500x1000 with 1 Axes>"
            ],
            "image/png": "[encoded data removed]"
          },
          "metadata": {}
        }
      ],
      "source": [
        "K = range(1, 11)\n",
        "models = [KMeans(n_clusters = k, random_state = 111, n_init = 100, max_iter = 10000).fit(standard_df) for k in K]\n",
        "dist = [model.inertia_ for model in models]\n",
        "\n",
        "plt.figure(figsize=(15,10))\n",
        "plt.plot(K, dist, marker='o')\n",
        "plt.xlabel('Число кластеров')\n",
        "plt.ylabel('Сумма квадратов расстояний')\n",
        "plt.title('Каменистая осыпь')\n",
        "plt.show()"
      ]
    },
    {
      "cell_type": "code",
      "execution_count": 79,
      "metadata": {
        "colab": {
          "base_uri": "https://localhost:8080/"
        },
        "id": "ygtTY2jxGgD9",
        "outputId": "cc3873e8-8393-4851-cac2-271465ff960a"
      },
      "outputs": [
        {
          "output_type": "stream",
          "name": "stdout",
          "text": [
            "              Action  Adventure  Animation  Children    Comedy     Crime  \\\n",
            "3_clusters                                                                 \n",
            "0           4.011579   4.060451   3.177910  3.946032  3.906217  4.260005   \n",
            "1           3.452161   3.395664   3.476590  3.057782  3.457380  3.722827   \n",
            "2           4.660714   4.250000   4.142857  3.833333  4.604167  4.782051   \n",
            "\n",
            "            Documentary     Drama   Fantasy  Film-Noir    Horror  Musical  \\\n",
            "3_clusters                                                                  \n",
            "0              2.388889  4.188320  4.023928   1.833333  3.933862  4.00845   \n",
            "1              2.062103  3.589696  3.244767   1.740278  3.309794  3.15262   \n",
            "2              0.000000  4.516340  4.291667   0.000000  2.000000  0.00000   \n",
            "\n",
            "             Mystery   Romance    Sci-Fi  Thriller       War   Western  \n",
            "3_clusters                                                              \n",
            "0           3.363858  4.012678  4.191009  4.116553  4.024044  2.919643  \n",
            "1           3.180166  3.440024  3.192121  3.581956  3.636846  2.169985  \n",
            "2           4.500000  4.635417  4.625000  4.791667  4.750000  0.000000  \n",
            "              Action  Adventure  Animation  Children    Comedy     Crime  \\\n",
            "4_clusters                                                                 \n",
            "0           4.047749   4.085864   3.106399  4.022619  3.948066  4.274648   \n",
            "1           3.470680   3.467092   3.559923  3.335560  3.500369  3.786815   \n",
            "2           3.500000   3.000000   2.750000  0.000000  3.055556  3.375000   \n",
            "3           4.660714   4.250000   4.142857  3.833333  4.604167  4.782051   \n",
            "\n",
            "            Documentary     Drama   Fantasy  Film-Noir    Horror   Musical  \\\n",
            "4_clusters                                                                   \n",
            "0              2.687500  4.234082  4.089419   2.062500  3.842262  4.045221   \n",
            "1              2.062103  3.635779  3.265600   1.740278  3.365349  3.462143   \n",
            "2              0.000000  3.269231  3.250000   0.000000  4.000000  0.000000   \n",
            "3              0.000000  4.516340  4.291667   0.000000  2.000000  0.000000   \n",
            "\n",
            "             Mystery   Romance    Sci-Fi  Thriller       War   Western  \n",
            "4_clusters                                                              \n",
            "0           3.195055  4.070512  4.203522  4.131122  3.964549  2.909598  \n",
            "1           3.573024  3.452524  3.533030  3.609734  3.678513  2.419985  \n",
            "2           0.000000  3.400000  0.000000  3.666667  4.000000  0.000000  \n",
            "3           4.500000  4.635417  4.625000  4.791667  4.750000  0.000000  \n",
            "              Action  Adventure  Animation  Children    Comedy     Crime  \\\n",
            "5_clusters                                                                 \n",
            "0           3.413182   3.438130   3.524180  3.304338  3.456937  3.629892   \n",
            "1           4.660714   4.250000   4.142857  3.833333  4.604167  4.782051   \n",
            "2           3.500000   3.000000   2.750000  0.000000  3.055556  3.375000   \n",
            "3           4.011579   4.060451   3.177910  3.946032  3.906217  4.260005   \n",
            "4           3.794118   3.366667   3.727273  3.650000  3.863636  5.000000   \n",
            "\n",
            "            Documentary     Drama   Fantasy  Film-Noir    Horror   Musical  \\\n",
            "5_clusters                                                                   \n",
            "0              2.474524  3.640712  3.306220   2.088333  3.571753  3.433144   \n",
            "1              0.000000  4.516340  4.291667   0.000000  2.000000  0.000000   \n",
            "2              0.000000  3.269231  3.250000   0.000000  4.000000  0.000000   \n",
            "3              2.388889  4.188320  4.023928   1.833333  3.933862  4.008450   \n",
            "4              0.000000  3.400000  2.625000   0.000000  0.000000  3.500000   \n",
            "\n",
            "             Mystery   Romance    Sci-Fi  Thriller       War   Western  \n",
            "5_clusters                                                              \n",
            "0           3.316200  3.438029  3.466909  3.491681  3.639215  2.603981  \n",
            "1           4.500000  4.635417  4.625000  4.791667  4.750000  0.000000  \n",
            "2           0.000000  3.400000  0.000000  3.666667  4.000000  0.000000  \n",
            "3           3.363858  4.012678  4.191009  4.116553  4.024044  2.919643  \n",
            "4           5.000000  3.500000  3.636364  4.400000  3.250000  0.000000  \n",
            "              Action  Adventure  Animation  Children    Comedy     Crime  \\\n",
            "6_clusters                                                                 \n",
            "0           4.079173   3.990421   4.085884  3.811565  3.821730  4.245006   \n",
            "1           4.660714   4.250000   4.142857  3.833333  4.604167  4.782051   \n",
            "2           3.413182   3.438130   3.524180  3.304338  3.456937  3.629892   \n",
            "3           3.500000   3.000000   2.750000  0.000000  3.055556  3.375000   \n",
            "4           3.775000   4.305556   0.000000  4.416667  4.201923  4.312500   \n",
            "5           3.794118   3.366667   3.727273  3.650000  3.863636  5.000000   \n",
            "\n",
            "            Documentary     Drama   Fantasy  Film-Noir    Horror   Musical  \\\n",
            "6_clusters                                                                   \n",
            "0              2.357143  4.200248  3.935526   1.071429  3.772109  3.939436   \n",
            "1              0.000000  4.516340  4.291667   0.000000  2.000000  0.000000   \n",
            "2              2.474524  3.640712  3.306220   2.088333  3.571753  3.433144   \n",
            "3              0.000000  3.269231  3.250000   0.000000  4.000000  0.000000   \n",
            "4              2.500000  4.146569  4.333333   4.500000  4.500000  4.250000   \n",
            "5              0.000000  3.400000  2.625000   0.000000  0.000000  3.500000   \n",
            "\n",
            "             Mystery   Romance    Sci-Fi  Thriller       War   Western  \n",
            "6_clusters                                                              \n",
            "0           3.182104  4.050134  4.194563  4.215906  4.120199  3.182398  \n",
            "1           4.500000  4.635417  4.625000  4.791667  4.750000  0.000000  \n",
            "2           3.316200  3.438029  3.466909  3.491681  3.639215  2.603981  \n",
            "3           0.000000  3.400000  0.000000  3.666667  4.000000  0.000000  \n",
            "4           4.000000  3.881579  4.178571  3.768817  3.687500  2.000000  \n",
            "5           5.000000  3.500000  3.636364  4.400000  3.250000  0.000000  \n",
            "              Action  Adventure  Animation  Children    Comedy     Crime  \\\n",
            "7_clusters                                                                 \n",
            "0           3.794118   3.366667   3.727273  3.650000  3.863636  5.000000   \n",
            "1           4.079173   3.990421   4.085884  3.811565  3.821730  4.245006   \n",
            "2           3.459091   3.449774   3.471311  3.264079  3.438263  3.668134   \n",
            "3           3.500000   3.000000   2.750000  0.000000  3.055556  3.375000   \n",
            "4           4.660714   4.250000   4.142857  3.833333  4.604167  4.782051   \n",
            "5           3.775000   4.305556   0.000000  4.416667  4.201923  4.312500   \n",
            "6           3.000000   3.333333   4.000000  3.666667  3.625000  3.285714   \n",
            "\n",
            "            Documentary     Drama   Fantasy  Film-Noir    Horror   Musical  \\\n",
            "7_clusters                                                                   \n",
            "0              0.000000  3.400000  2.625000   0.000000  0.000000  3.500000   \n",
            "1              2.357143  4.200248  3.935526   1.071429  3.772109  3.939436   \n",
            "2              2.749471  3.592244  3.266170   2.320370  3.524170  3.370159   \n",
            "3              0.000000  3.269231  3.250000   0.000000  4.000000  0.000000   \n",
            "4              0.000000  4.516340  4.291667   0.000000  2.000000  0.000000   \n",
            "5              2.500000  4.146569  4.333333   4.500000  4.500000  4.250000   \n",
            "6              0.000000  4.076923  3.666667   0.000000  4.000000  4.000000   \n",
            "\n",
            "             Mystery   Romance    Sci-Fi  Thriller       War   Western  \n",
            "7_clusters                                                              \n",
            "0           5.000000  3.500000  3.636364  4.400000  3.250000  0.000000  \n",
            "1           3.182104  4.050134  4.194563  4.215906  4.120199  3.182398  \n",
            "2           3.684666  3.357070  3.518788  3.518534  3.488017  2.559979  \n",
            "3           0.000000  3.400000  0.000000  3.666667  4.000000  0.000000  \n",
            "4           4.500000  4.635417  4.625000  4.791667  4.750000  0.000000  \n",
            "5           4.000000  3.881579  4.178571  3.768817  3.687500  2.000000  \n",
            "6           0.000000  4.166667  3.000000  3.250000  5.000000  3.000000  \n",
            "              Action  Adventure  Animation  Children    Comedy     Crime  \\\n",
            "8_clusters                                                                 \n",
            "0           3.406670   3.354441   3.631803  3.269025  3.482262  3.804288   \n",
            "1           4.079173   3.990421   4.085884  3.811565  3.821730  4.245006   \n",
            "2           3.794118   3.366667   3.727273  3.650000  3.863636  5.000000   \n",
            "3           4.660714   4.250000   4.142857  3.833333  4.604167  4.782051   \n",
            "4           3.000000   3.333333   4.000000  3.666667  3.625000  3.285714   \n",
            "5           3.563934   3.640440   3.150327  3.254188  3.350265  3.395826   \n",
            "6           3.500000   3.000000   2.750000  0.000000  3.055556  3.375000   \n",
            "7           3.775000   4.305556   0.000000  4.416667  4.201923  4.312500   \n",
            "\n",
            "            Documentary     Drama   Fantasy  Film-Noir    Horror   Musical  \\\n",
            "8_clusters                                                                   \n",
            "0              3.040873  3.693430  3.252327   3.480556  3.365421  3.384785   \n",
            "1              2.357143  4.200248  3.935526   1.071429  3.772109  3.939436   \n",
            "2              0.000000  3.400000  2.625000   0.000000  0.000000  3.500000   \n",
            "3              0.000000  4.516340  4.291667   0.000000  2.000000  0.000000   \n",
            "4              0.000000  4.076923  3.666667   0.000000  4.000000  4.000000   \n",
            "5              2.166667  3.389872  3.293856   0.000000  3.841667  3.340909   \n",
            "6              0.000000  3.269231  3.250000   0.000000  4.000000  0.000000   \n",
            "7              2.500000  4.146569  4.333333   4.500000  4.500000  4.250000   \n",
            "\n",
            "             Mystery   Romance    Sci-Fi  Thriller       War   Western  \n",
            "8_clusters                                                              \n",
            "0           3.704083  3.453496  3.362925  3.464072  3.612581  3.277469  \n",
            "1           3.182104  4.050134  4.194563  4.215906  4.120199  3.182398  \n",
            "2           5.000000  3.500000  3.636364  4.400000  3.250000  0.000000  \n",
            "3           4.500000  4.635417  4.625000  4.791667  4.750000  0.000000  \n",
            "4           0.000000  4.166667  3.000000  3.250000  5.000000  3.000000  \n",
            "5           3.645833  3.164216  3.830514  3.627459  3.238889  1.125000  \n",
            "6           0.000000  3.400000  0.000000  3.666667  4.000000  0.000000  \n",
            "7           4.000000  3.881579  4.178571  3.768817  3.687500  2.000000  \n"
          ]
        }
      ],
      "source": [
        "for i in range(3,9):\n",
        "  model = KMeans(n_clusters = i, random_state = 111, n_init = 100, max_iter = 10000)\n",
        "  model.fit(standard_df)\n",
        "\n",
        "  final_df[f'{i}_clusters'] = model.labels_\n",
        "\n",
        "  print(final_df.groupby(f'{i}_clusters')[['Action', 'Adventure','Animation',\n",
        "                                  'Children','Comedy', 'Crime', 'Documentary', 'Drama', \n",
        "                                  'Fantasy', 'Film-Noir', 'Horror', 'Musical',\n",
        "                                  'Mystery', 'Romance', 'Sci-Fi', 'Thriller',\n",
        "                                  'War', 'Western']].mean())"
      ]
    },
    {
      "cell_type": "code",
      "execution_count": 81,
      "metadata": {
        "colab": {
          "base_uri": "https://localhost:8080/",
          "height": 238
        },
        "id": "tUwbS_V-K1im",
        "outputId": "5a2ef5c6-89a3-47b1-f7ce-0d3b73d1bb38"
      },
      "outputs": [
        {
          "output_type": "execute_result",
          "data": {
            "text/plain": [
              "              Action  Adventure  Animation  Children    Comedy     Crime  \\\n",
              "5_clusters                                                                 \n",
              "0           3.413182   3.438130   3.524180  3.304338  3.456937  3.629892   \n",
              "1           4.660714   4.250000   4.142857  3.833333  4.604167  4.782051   \n",
              "2           3.500000   3.000000   2.750000  0.000000  3.055556  3.375000   \n",
              "3           4.011579   4.060451   3.177910  3.946032  3.906217  4.260005   \n",
              "4           3.794118   3.366667   3.727273  3.650000  3.863636  5.000000   \n",
              "\n",
              "            Documentary     Drama   Fantasy  Film-Noir    Horror   Musical  \\\n",
              "5_clusters                                                                   \n",
              "0              2.474524  3.640712  3.306220   2.088333  3.571753  3.433144   \n",
              "1              0.000000  4.516340  4.291667   0.000000  2.000000  0.000000   \n",
              "2              0.000000  3.269231  3.250000   0.000000  4.000000  0.000000   \n",
              "3              2.388889  4.188320  4.023928   1.833333  3.933862  4.008450   \n",
              "4              0.000000  3.400000  2.625000   0.000000  0.000000  3.500000   \n",
              "\n",
              "             Mystery   Romance    Sci-Fi  Thriller       War   Western  \n",
              "5_clusters                                                              \n",
              "0           3.316200  3.438029  3.466909  3.491681  3.639215  2.603981  \n",
              "1           4.500000  4.635417  4.625000  4.791667  4.750000  0.000000  \n",
              "2           0.000000  3.400000  0.000000  3.666667  4.000000  0.000000  \n",
              "3           3.363858  4.012678  4.191009  4.116553  4.024044  2.919643  \n",
              "4           5.000000  3.500000  3.636364  4.400000  3.250000  0.000000  "
            ],
            "text/html": [
              "\n",
              "  <div id=\"df-349fb7e9-f85c-4359-92b8-8717771e382d\">\n",
              "    <div class=\"colab-df-container\">\n",
              "      <div>\n",
              "<style scoped>\n",
              "    .dataframe tbody tr th:only-of-type {\n",
              "        vertical-align: middle;\n",
              "    }\n",
              "\n",
              "    .dataframe tbody tr th {\n",
              "        vertical-align: top;\n",
              "    }\n",
              "\n",
              "    .dataframe thead th {\n",
              "        text-align: right;\n",
              "    }\n",
              "</style>\n",
              "<table border=\"1\" class=\"dataframe\">\n",
              "  <thead>\n",
              "    <tr style=\"text-align: right;\">\n",
              "      <th></th>\n",
              "      <th>Action</th>\n",
              "      <th>Adventure</th>\n",
              "      <th>Animation</th>\n",
              "      <th>Children</th>\n",
              "      <th>Comedy</th>\n",
              "      <th>Crime</th>\n",
              "      <th>Documentary</th>\n",
              "      <th>Drama</th>\n",
              "      <th>Fantasy</th>\n",
              "      <th>Film-Noir</th>\n",
              "      <th>Horror</th>\n",
              "      <th>Musical</th>\n",
              "      <th>Mystery</th>\n",
              "      <th>Romance</th>\n",
              "      <th>Sci-Fi</th>\n",
              "      <th>Thriller</th>\n",
              "      <th>War</th>\n",
              "      <th>Western</th>\n",
              "    </tr>\n",
              "    <tr>\n",
              "      <th>5_clusters</th>\n",
              "      <th></th>\n",
              "      <th></th>\n",
              "      <th></th>\n",
              "      <th></th>\n",
              "      <th></th>\n",
              "      <th></th>\n",
              "      <th></th>\n",
              "      <th></th>\n",
              "      <th></th>\n",
              "      <th></th>\n",
              "      <th></th>\n",
              "      <th></th>\n",
              "      <th></th>\n",
              "      <th></th>\n",
              "      <th></th>\n",
              "      <th></th>\n",
              "      <th></th>\n",
              "      <th></th>\n",
              "    </tr>\n",
              "  </thead>\n",
              "  <tbody>\n",
              "    <tr>\n",
              "      <th>0</th>\n",
              "      <td>3.413182</td>\n",
              "      <td>3.438130</td>\n",
              "      <td>3.524180</td>\n",
              "      <td>3.304338</td>\n",
              "      <td>3.456937</td>\n",
              "      <td>3.629892</td>\n",
              "      <td>2.474524</td>\n",
              "      <td>3.640712</td>\n",
              "      <td>3.306220</td>\n",
              "      <td>2.088333</td>\n",
              "      <td>3.571753</td>\n",
              "      <td>3.433144</td>\n",
              "      <td>3.316200</td>\n",
              "      <td>3.438029</td>\n",
              "      <td>3.466909</td>\n",
              "      <td>3.491681</td>\n",
              "      <td>3.639215</td>\n",
              "      <td>2.603981</td>\n",
              "    </tr>\n",
              "    <tr>\n",
              "      <th>1</th>\n",
              "      <td>4.660714</td>\n",
              "      <td>4.250000</td>\n",
              "      <td>4.142857</td>\n",
              "      <td>3.833333</td>\n",
              "      <td>4.604167</td>\n",
              "      <td>4.782051</td>\n",
              "      <td>0.000000</td>\n",
              "      <td>4.516340</td>\n",
              "      <td>4.291667</td>\n",
              "      <td>0.000000</td>\n",
              "      <td>2.000000</td>\n",
              "      <td>0.000000</td>\n",
              "      <td>4.500000</td>\n",
              "      <td>4.635417</td>\n",
              "      <td>4.625000</td>\n",
              "      <td>4.791667</td>\n",
              "      <td>4.750000</td>\n",
              "      <td>0.000000</td>\n",
              "    </tr>\n",
              "    <tr>\n",
              "      <th>2</th>\n",
              "      <td>3.500000</td>\n",
              "      <td>3.000000</td>\n",
              "      <td>2.750000</td>\n",
              "      <td>0.000000</td>\n",
              "      <td>3.055556</td>\n",
              "      <td>3.375000</td>\n",
              "      <td>0.000000</td>\n",
              "      <td>3.269231</td>\n",
              "      <td>3.250000</td>\n",
              "      <td>0.000000</td>\n",
              "      <td>4.000000</td>\n",
              "      <td>0.000000</td>\n",
              "      <td>0.000000</td>\n",
              "      <td>3.400000</td>\n",
              "      <td>0.000000</td>\n",
              "      <td>3.666667</td>\n",
              "      <td>4.000000</td>\n",
              "      <td>0.000000</td>\n",
              "    </tr>\n",
              "    <tr>\n",
              "      <th>3</th>\n",
              "      <td>4.011579</td>\n",
              "      <td>4.060451</td>\n",
              "      <td>3.177910</td>\n",
              "      <td>3.946032</td>\n",
              "      <td>3.906217</td>\n",
              "      <td>4.260005</td>\n",
              "      <td>2.388889</td>\n",
              "      <td>4.188320</td>\n",
              "      <td>4.023928</td>\n",
              "      <td>1.833333</td>\n",
              "      <td>3.933862</td>\n",
              "      <td>4.008450</td>\n",
              "      <td>3.363858</td>\n",
              "      <td>4.012678</td>\n",
              "      <td>4.191009</td>\n",
              "      <td>4.116553</td>\n",
              "      <td>4.024044</td>\n",
              "      <td>2.919643</td>\n",
              "    </tr>\n",
              "    <tr>\n",
              "      <th>4</th>\n",
              "      <td>3.794118</td>\n",
              "      <td>3.366667</td>\n",
              "      <td>3.727273</td>\n",
              "      <td>3.650000</td>\n",
              "      <td>3.863636</td>\n",
              "      <td>5.000000</td>\n",
              "      <td>0.000000</td>\n",
              "      <td>3.400000</td>\n",
              "      <td>2.625000</td>\n",
              "      <td>0.000000</td>\n",
              "      <td>0.000000</td>\n",
              "      <td>3.500000</td>\n",
              "      <td>5.000000</td>\n",
              "      <td>3.500000</td>\n",
              "      <td>3.636364</td>\n",
              "      <td>4.400000</td>\n",
              "      <td>3.250000</td>\n",
              "      <td>0.000000</td>\n",
              "    </tr>\n",
              "  </tbody>\n",
              "</table>\n",
              "</div>\n",
              "      <button class=\"colab-df-convert\" onclick=\"convertToInteractive('df-349fb7e9-f85c-4359-92b8-8717771e382d')\"\n",
              "              title=\"Convert this dataframe to an interactive table.\"\n",
              "              style=\"display:none;\">\n",
              "        \n",
              "  <svg xmlns=\"http://www.w3.org/2000/svg\" height=\"24px\"viewBox=\"0 0 24 24\"\n",
              "       width=\"24px\">\n",
              "    <path d=\"M0 0h24v24H0V0z\" fill=\"none\"/>\n",
              "    <path d=\"M18.56 5.44l.94 2.06.94-2.06 2.06-.94-2.06-.94-.94-2.06-.94 2.06-2.06.94zm-11 1L8.5 8.5l.94-2.06 2.06-.94-2.06-.94L8.5 2.5l-.94 2.06-2.06.94zm10 10l.94 2.06.94-2.06 2.06-.94-2.06-.94-.94-2.06-.94 2.06-2.06.94z\"/><path d=\"M17.41 7.96l-1.37-1.37c-.4-.4-.92-.59-1.43-.59-.52 0-1.04.2-1.43.59L10.3 9.45l-7.72 7.72c-.78.78-.78 2.05 0 2.83L4 21.41c.39.39.9.59 1.41.59.51 0 1.02-.2 1.41-.59l7.78-7.78 2.81-2.81c.8-.78.8-2.07 0-2.86zM5.41 20L4 18.59l7.72-7.72 1.47 1.35L5.41 20z\"/>\n",
              "  </svg>\n",
              "      </button>\n",
              "      \n",
              "  <style>\n",
              "    .colab-df-container {\n",
              "      display:flex;\n",
              "      flex-wrap:wrap;\n",
              "      gap: 12px;\n",
              "    }\n",
              "\n",
              "    .colab-df-convert {\n",
              "      background-color: #E8F0FE;\n",
              "      border: none;\n",
              "      border-radius: 50%;\n",
              "      cursor: pointer;\n",
              "      display: none;\n",
              "      fill: #1967D2;\n",
              "      height: 32px;\n",
              "      padding: 0 0 0 0;\n",
              "      width: 32px;\n",
              "    }\n",
              "\n",
              "    .colab-df-convert:hover {\n",
              "      background-color: #E2EBFA;\n",
              "      box-shadow: 0px 1px 2px rgba(60, 64, 67, 0.3), 0px 1px 3px 1px rgba(60, 64, 67, 0.15);\n",
              "      fill: #174EA6;\n",
              "    }\n",
              "\n",
              "    [theme=dark] .colab-df-convert {\n",
              "      background-color: #3B4455;\n",
              "      fill: #D2E3FC;\n",
              "    }\n",
              "\n",
              "    [theme=dark] .colab-df-convert:hover {\n",
              "      background-color: #434B5C;\n",
              "      box-shadow: 0px 1px 3px 1px rgba(0, 0, 0, 0.15);\n",
              "      filter: drop-shadow(0px 1px 2px rgba(0, 0, 0, 0.3));\n",
              "      fill: #FFFFFF;\n",
              "    }\n",
              "  </style>\n",
              "\n",
              "      <script>\n",
              "        const buttonEl =\n",
              "          document.querySelector('#df-349fb7e9-f85c-4359-92b8-8717771e382d button.colab-df-convert');\n",
              "        buttonEl.style.display =\n",
              "          google.colab.kernel.accessAllowed ? 'block' : 'none';\n",
              "\n",
              "        async function convertToInteractive(key) {\n",
              "          const element = document.querySelector('#df-349fb7e9-f85c-4359-92b8-8717771e382d');\n",
              "          const dataTable =\n",
              "            await google.colab.kernel.invokeFunction('convertToInteractive',\n",
              "                                                     [key], {});\n",
              "          if (!dataTable) return;\n",
              "\n",
              "          const docLinkHtml = 'Like what you see? Visit the ' +\n",
              "            '<a target=\"_blank\" href=https://colab.research.google.com/notebooks/data_table.ipynb>data table notebook</a>'\n",
              "            + ' to learn more about interactive tables.';\n",
              "          element.innerHTML = '';\n",
              "          dataTable['output_type'] = 'display_data';\n",
              "          await google.colab.output.renderOutput(dataTable, element);\n",
              "          const docLink = document.createElement('div');\n",
              "          docLink.innerHTML = docLinkHtml;\n",
              "          element.appendChild(docLink);\n",
              "        }\n",
              "      </script>\n",
              "    </div>\n",
              "  </div>\n",
              "  "
            ]
          },
          "metadata": {},
          "execution_count": 81
        }
      ],
      "source": [
        "final_df.groupby('5_clusters')[['Action', 'Adventure','Animation',\n",
        "                                  'Children','Comedy', 'Crime', 'Documentary', 'Drama', \n",
        "                                  'Fantasy', 'Film-Noir', 'Horror', 'Musical',\n",
        "                                  'Mystery', 'Romance', 'Sci-Fi', 'Thriller',\n",
        "                                  'War', 'Western']].mean()"
      ]
    },
    {
      "cell_type": "code",
      "execution_count": 82,
      "metadata": {
        "colab": {
          "base_uri": "https://localhost:8080/"
        },
        "id": "PmuMCT0yOfK_",
        "outputId": "7bf70a05-24f9-440f-d353-fde7a1261fb8"
      },
      "outputs": [
        {
          "output_type": "execute_result",
          "data": {
            "text/plain": [
              "[1, 5, 0, 0, 1, 7, 4, 0, 1, 5, 6, 0, 0, 3, 1, 3, 2, 5, 0, 1, 1, 1, 7]"
            ]
          },
          "metadata": {},
          "execution_count": 82
        }
      ],
      "source": [
        "#вывод назначенных кластеров\n",
        "model.labels_.tolist()"
      ]
    },
    {
      "cell_type": "code",
      "execution_count": 83,
      "metadata": {
        "id": "YX6jG8S1O-GB"
      },
      "outputs": [],
      "source": [
        "X_pr = [3.413182, 3.438130,\t3.524180,\t3.304338,\t3.456937,\t3.629892,\t2.474524,\t3.640712,\t3.306220,\t2.088333,\t3.571753,\t3.433144,\t3.316200,\t3.438029,\t3.466909,\t3.491681,\t3.639215,\t2.603981]"
      ]
    },
    {
      "cell_type": "code",
      "execution_count": null,
      "metadata": {
        "colab": {
          "base_uri": "https://localhost:8080/",
          "height": 380
        },
        "id": "Wi6XmqAoRi6S",
        "outputId": "48964f38-beba-465c-dfc0-820e50a2d814"
      },
      "outputs": [
        {
          "ename": "ValueError",
          "evalue": "ignored",
          "output_type": "error",
          "traceback": [
            "\u001b[0;31m---------------------------------------------------------------------------\u001b[0m",
            "\u001b[0;31mValueError\u001b[0m                                Traceback (most recent call last)",
            "\u001b[0;32m<ipython-input-455-ad0b5e51ea88>\u001b[0m in \u001b[0;36m<cell line: 1>\u001b[0;34m()\u001b[0m\n\u001b[0;32m----> 1\u001b[0;31m \u001b[0my_kmeans\u001b[0m \u001b[0;34m=\u001b[0m \u001b[0mmodel\u001b[0m\u001b[0;34m.\u001b[0m\u001b[0mfit_predict\u001b[0m\u001b[0;34m(\u001b[0m\u001b[0;34m[\u001b[0m\u001b[0;34m[\u001b[0m\u001b[0;36m3.413182\u001b[0m\u001b[0;34m,\u001b[0m \u001b[0;36m3.438130\u001b[0m\u001b[0;34m,\u001b[0m      \u001b[0;36m3.524180\u001b[0m\u001b[0;34m,\u001b[0m       \u001b[0;36m3.304338\u001b[0m\u001b[0;34m,\u001b[0m       \u001b[0;36m3.456937\u001b[0m\u001b[0;34m,\u001b[0m       \u001b[0;36m3.629892\u001b[0m\u001b[0;34m,\u001b[0m       \u001b[0;36m2.474524\u001b[0m\u001b[0;34m,\u001b[0m       \u001b[0;36m3.640712\u001b[0m\u001b[0;34m,\u001b[0m       \u001b[0;36m3.306220\u001b[0m\u001b[0;34m,\u001b[0m       \u001b[0;36m2.088333\u001b[0m\u001b[0;34m,\u001b[0m       \u001b[0;36m3.571753\u001b[0m\u001b[0;34m,\u001b[0m       \u001b[0;36m3.433144\u001b[0m\u001b[0;34m,\u001b[0m       \u001b[0;36m3.316200\u001b[0m\u001b[0;34m,\u001b[0m       \u001b[0;36m3.438029\u001b[0m\u001b[0;34m,\u001b[0m       \u001b[0;36m3.466909\u001b[0m\u001b[0;34m,\u001b[0m       \u001b[0;36m3.491681\u001b[0m\u001b[0;34m,\u001b[0m       \u001b[0;36m3.639215\u001b[0m\u001b[0;34m,\u001b[0m       \u001b[0;36m2.603981\u001b[0m\u001b[0;34m]\u001b[0m\u001b[0;34m]\u001b[0m\u001b[0;34m)\u001b[0m\u001b[0;34m\u001b[0m\u001b[0;34m\u001b[0m\u001b[0m\n\u001b[0m",
            "\u001b[0;32m/usr/local/lib/python3.10/dist-packages/sklearn/cluster/_kmeans.py\u001b[0m in \u001b[0;36mfit_predict\u001b[0;34m(self, X, y, sample_weight)\u001b[0m\n\u001b[1;32m   1031\u001b[0m             \u001b[0mIndex\u001b[0m \u001b[0mof\u001b[0m \u001b[0mthe\u001b[0m \u001b[0mcluster\u001b[0m \u001b[0meach\u001b[0m \u001b[0msample\u001b[0m \u001b[0mbelongs\u001b[0m \u001b[0mto\u001b[0m\u001b[0;34m.\u001b[0m\u001b[0;34m\u001b[0m\u001b[0;34m\u001b[0m\u001b[0m\n\u001b[1;32m   1032\u001b[0m         \"\"\"\n\u001b[0;32m-> 1033\u001b[0;31m         \u001b[0;32mreturn\u001b[0m \u001b[0mself\u001b[0m\u001b[0;34m.\u001b[0m\u001b[0mfit\u001b[0m\u001b[0;34m(\u001b[0m\u001b[0mX\u001b[0m\u001b[0;34m,\u001b[0m \u001b[0msample_weight\u001b[0m\u001b[0;34m=\u001b[0m\u001b[0msample_weight\u001b[0m\u001b[0;34m)\u001b[0m\u001b[0;34m.\u001b[0m\u001b[0mlabels_\u001b[0m\u001b[0;34m\u001b[0m\u001b[0;34m\u001b[0m\u001b[0m\n\u001b[0m\u001b[1;32m   1034\u001b[0m \u001b[0;34m\u001b[0m\u001b[0m\n\u001b[1;32m   1035\u001b[0m     \u001b[0;32mdef\u001b[0m \u001b[0mpredict\u001b[0m\u001b[0;34m(\u001b[0m\u001b[0mself\u001b[0m\u001b[0;34m,\u001b[0m \u001b[0mX\u001b[0m\u001b[0;34m,\u001b[0m \u001b[0msample_weight\u001b[0m\u001b[0;34m=\u001b[0m\u001b[0;32mNone\u001b[0m\u001b[0;34m)\u001b[0m\u001b[0;34m:\u001b[0m\u001b[0;34m\u001b[0m\u001b[0;34m\u001b[0m\u001b[0m\n",
            "\u001b[0;32m/usr/local/lib/python3.10/dist-packages/sklearn/cluster/_kmeans.py\u001b[0m in \u001b[0;36mfit\u001b[0;34m(self, X, y, sample_weight)\u001b[0m\n\u001b[1;32m   1424\u001b[0m         )\n\u001b[1;32m   1425\u001b[0m \u001b[0;34m\u001b[0m\u001b[0m\n\u001b[0;32m-> 1426\u001b[0;31m         \u001b[0mself\u001b[0m\u001b[0;34m.\u001b[0m\u001b[0m_check_params_vs_input\u001b[0m\u001b[0;34m(\u001b[0m\u001b[0mX\u001b[0m\u001b[0;34m)\u001b[0m\u001b[0;34m\u001b[0m\u001b[0;34m\u001b[0m\u001b[0m\n\u001b[0m\u001b[1;32m   1427\u001b[0m \u001b[0;34m\u001b[0m\u001b[0m\n\u001b[1;32m   1428\u001b[0m         \u001b[0mrandom_state\u001b[0m \u001b[0;34m=\u001b[0m \u001b[0mcheck_random_state\u001b[0m\u001b[0;34m(\u001b[0m\u001b[0mself\u001b[0m\u001b[0;34m.\u001b[0m\u001b[0mrandom_state\u001b[0m\u001b[0;34m)\u001b[0m\u001b[0;34m\u001b[0m\u001b[0;34m\u001b[0m\u001b[0m\n",
            "\u001b[0;32m/usr/local/lib/python3.10/dist-packages/sklearn/cluster/_kmeans.py\u001b[0m in \u001b[0;36m_check_params_vs_input\u001b[0;34m(self, X)\u001b[0m\n\u001b[1;32m   1360\u001b[0m \u001b[0;34m\u001b[0m\u001b[0m\n\u001b[1;32m   1361\u001b[0m     \u001b[0;32mdef\u001b[0m \u001b[0m_check_params_vs_input\u001b[0m\u001b[0;34m(\u001b[0m\u001b[0mself\u001b[0m\u001b[0;34m,\u001b[0m \u001b[0mX\u001b[0m\u001b[0;34m)\u001b[0m\u001b[0;34m:\u001b[0m\u001b[0;34m\u001b[0m\u001b[0;34m\u001b[0m\u001b[0m\n\u001b[0;32m-> 1362\u001b[0;31m         \u001b[0msuper\u001b[0m\u001b[0;34m(\u001b[0m\u001b[0;34m)\u001b[0m\u001b[0;34m.\u001b[0m\u001b[0m_check_params_vs_input\u001b[0m\u001b[0;34m(\u001b[0m\u001b[0mX\u001b[0m\u001b[0;34m,\u001b[0m \u001b[0mdefault_n_init\u001b[0m\u001b[0;34m=\u001b[0m\u001b[0;36m10\u001b[0m\u001b[0;34m)\u001b[0m\u001b[0;34m\u001b[0m\u001b[0;34m\u001b[0m\u001b[0m\n\u001b[0m\u001b[1;32m   1363\u001b[0m \u001b[0;34m\u001b[0m\u001b[0m\n\u001b[1;32m   1364\u001b[0m         \u001b[0mself\u001b[0m\u001b[0;34m.\u001b[0m\u001b[0m_algorithm\u001b[0m \u001b[0;34m=\u001b[0m \u001b[0mself\u001b[0m\u001b[0;34m.\u001b[0m\u001b[0malgorithm\u001b[0m\u001b[0;34m\u001b[0m\u001b[0;34m\u001b[0m\u001b[0m\n",
            "\u001b[0;32m/usr/local/lib/python3.10/dist-packages/sklearn/cluster/_kmeans.py\u001b[0m in \u001b[0;36m_check_params_vs_input\u001b[0;34m(self, X, default_n_init)\u001b[0m\n\u001b[1;32m    857\u001b[0m         \u001b[0;31m# n_clusters\u001b[0m\u001b[0;34m\u001b[0m\u001b[0;34m\u001b[0m\u001b[0m\n\u001b[1;32m    858\u001b[0m         \u001b[0;32mif\u001b[0m \u001b[0mX\u001b[0m\u001b[0;34m.\u001b[0m\u001b[0mshape\u001b[0m\u001b[0;34m[\u001b[0m\u001b[0;36m0\u001b[0m\u001b[0;34m]\u001b[0m \u001b[0;34m<\u001b[0m \u001b[0mself\u001b[0m\u001b[0;34m.\u001b[0m\u001b[0mn_clusters\u001b[0m\u001b[0;34m:\u001b[0m\u001b[0;34m\u001b[0m\u001b[0;34m\u001b[0m\u001b[0m\n\u001b[0;32m--> 859\u001b[0;31m             raise ValueError(\n\u001b[0m\u001b[1;32m    860\u001b[0m                 \u001b[0;34mf\"n_samples={X.shape[0]} should be >= n_clusters={self.n_clusters}.\"\u001b[0m\u001b[0;34m\u001b[0m\u001b[0;34m\u001b[0m\u001b[0m\n\u001b[1;32m    861\u001b[0m             )\n",
            "\u001b[0;31mValueError\u001b[0m: n_samples=1 should be >= n_clusters=8."
          ]
        }
      ],
      "source": [
        "y_kmeans = model.fit_predict([3.413182, 3.438130,\t3.524180,\t3.304338,\t3.456937,\t3.629892,\t2.474524,\t3.640712,\t3.306220,\t2.088333,\t3.571753,\t3.433144,\t3.316200,\t3.438029,\t3.466909,\t3.491681,\t3.639215,\t2.603981]])"
      ]
    },
    {
      "cell_type": "code",
      "execution_count": null,
      "metadata": {
        "id": "goNCuijRRpe5"
      },
      "outputs": [],
      "source": []
    }
  ],
  "metadata": {
    "accelerator": "TPU",
    "colab": {
      "provenance": [],
      "authorship_tag": "ABX9TyM4CDBw7K+O4nOoEFbU1zdo",
      "include_colab_link": true
    },
    "kernelspec": {
      "display_name": "Python 3",
      "name": "python3"
    },
    "language_info": {
      "name": "python"
    }
  },
  "nbformat": 4,
  "nbformat_minor": 0
}